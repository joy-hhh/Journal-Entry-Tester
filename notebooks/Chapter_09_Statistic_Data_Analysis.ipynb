{
 "cells": [
  {
   "cell_type": "markdown",
   "metadata": {},
   "source": [
    "# 9장 엑셀과 파이썬을 이용한 통계 데이터 분석"
   ]
  },
  {
   "cell_type": "markdown",
   "metadata": {},
   "source": [
    "## 9.1 통계 데이터 분석 기본"
   ]
  },
  {
   "cell_type": "markdown",
   "metadata": {},
   "source": [
    "### 기본 통계량 이해"
   ]
  },
  {
   "cell_type": "markdown",
   "metadata": {},
   "source": [
    "### 기본 통계량 구하기"
   ]
  },
  {
   "cell_type": "markdown",
   "metadata": {},
   "source": [
    "**[9장: 518페이지]**"
   ]
  },
  {
   "cell_type": "code",
   "execution_count": null,
   "metadata": {
    "scrolled": false
   },
   "outputs": [],
   "source": [
    "import pandas as pd\n",
    "\n",
    "#  CSV 데이터 파일 경로\n",
    "folder = 'C:/myPyExcel/data/ch09/'\n",
    "csv_file = folder + '지점별_일일_판매량.csv' \n",
    "\n",
    "# CSV 파일 읽기, CSV 파일의 '날짜' 열을 DataFrame 데이터의 index로 지정\n",
    "df = pd.read_csv(csv_file, index_col='날짜')\n",
    "\n",
    "# DataFrame 데이터 중 앞의 일부만 출력\n",
    "df.head()"
   ]
  },
  {
   "cell_type": "markdown",
   "metadata": {},
   "source": [
    "**[9장: 519페이지]**"
   ]
  },
  {
   "cell_type": "code",
   "execution_count": null,
   "metadata": {},
   "outputs": [],
   "source": [
    "df_stat = df.describe()\n",
    "df_stat"
   ]
  },
  {
   "cell_type": "code",
   "execution_count": null,
   "metadata": {},
   "outputs": [],
   "source": [
    "import matplotlib\n",
    "import matplotlib.pyplot as plt\n",
    "\n",
    "# 한글 폰트를 위한 설정\n",
    "matplotlib.rcParams['font.family'] = 'Malgun Gothic'\n",
    "matplotlib.rcParams['axes.unicode_minus'] = False\n",
    "\n",
    "# 박스 그래프 그리기\n",
    "ax = df.plot.box(y=[\"A지점\", \"B지점\", \"C지점\"], showmeans=True) # 박스 그래프\n",
    "ax.set_ylabel(\"일일 판매량\", fontsize=15)                        # y축 라벨을 추가\n",
    "ax.set_title(\"지점별 일일 판매량 분포\", fontsize=20)             # 그래프 제목을 추가\n",
    "\n",
    "# 엑셀 파일에 추가할 그래프 이미지 파일\n",
    "image_file = \"C:/myPyExcel/figures/지점별_일일_판매량_분포.png\" \n",
    "\n",
    "# 그래프를 이미지 파일로 저장\n",
    "plt.savefig(image_file, dpi=300) \n",
    "plt.show()"
   ]
  },
  {
   "cell_type": "markdown",
   "metadata": {},
   "source": [
    "**[9장: 520~521페이지]**"
   ]
  },
  {
   "cell_type": "code",
   "execution_count": null,
   "metadata": {},
   "outputs": [],
   "source": [
    "import pandas as pd\n",
    "\n",
    "# 저장할 엑셀 파일 경로\n",
    "folder = 'C:/myPyExcel/data/ch09/'\n",
    "excel_file= folder + '지점별_일일_판매량_기본통계량_박스그래프.xlsx' \n",
    "sheet = 'Sheet1'\n",
    "\n",
    "# 쓰기 엔진을 xlsxwriter로 지정해 판다스의 ExcelWriter 객체 생성\n",
    "excel_writer = pd.ExcelWriter(excel_file, engine='xlsxwriter')\n",
    "\n",
    "# DataFrame 데이터(df)를 생성한 엑셀 객체에 쓰기(시트 이름을 지정)\n",
    "df.to_excel(excel_writer, sheet_name=sheet) # index를 포함\n",
    "\n",
    "# 워크시트에 위치를 지정해 DataFrame 데이터(df_stat) 쓰기\n",
    "row = 0 # 행 위치\n",
    "col = len(df.columns) + 2 # 열 위치\n",
    "df_stat.to_excel(excel_writer, startrow=row, startcol=col, sheet_name=sheet)\n",
    "\n",
    "# 생성한 ExcelWriter 객체(excel_writer)를 이용해 워크시트 객체 생성\n",
    "worksheet = excel_writer.sheets[sheet]\n",
    "\n",
    "# 워크시트 객체(worksheet)에 이미지가 들어갈 위치를 지정해 이미지 넣기\n",
    "row = len(df_stat.index) + 2  # 행 위치\n",
    "col = len(df.columns) + 2     # 열 위치\n",
    "worksheet.insert_image(row, col, image_file, {'x_scale': 0.6, 'y_scale': 0.6})\n",
    "\n",
    "# 객체를 닫고 엑셀 파일로 저장\n",
    "excel_writer.save()\n",
    "\n",
    "print(\"생성 파일:\", excel_file) # 생성한 파일 이름 출력"
   ]
  },
  {
   "cell_type": "markdown",
   "metadata": {},
   "source": [
    "**[9장: 522페이지]**"
   ]
  },
  {
   "cell_type": "code",
   "execution_count": null,
   "metadata": {
    "scrolled": false
   },
   "outputs": [],
   "source": [
    "import pandas as pd\n",
    "\n",
    "#  데이터 파일의 전체 경로\n",
    "folder = 'C:/myPyExcel/data/ch09/'\n",
    "csv_file = folder + '2019년_지점별_일일_판매량.csv' \n",
    "\n",
    "# CSV 파일 읽기, CSV 파일의 '날짜' 열을 DataFrame 데이터의 index로 지정\n",
    "df = pd.read_csv(csv_file)\n",
    "\n",
    "# DataFrame 데이터 출력\n",
    "df"
   ]
  },
  {
   "cell_type": "markdown",
   "metadata": {},
   "source": [
    "**[9장: 523페이지]**"
   ]
  },
  {
   "cell_type": "code",
   "execution_count": null,
   "metadata": {},
   "outputs": [],
   "source": [
    "df.info()"
   ]
  },
  {
   "cell_type": "markdown",
   "metadata": {},
   "source": [
    "**[9장: 524페이지]**"
   ]
  },
  {
   "cell_type": "code",
   "execution_count": null,
   "metadata": {},
   "outputs": [],
   "source": [
    "df['날짜'] = pd.to_datetime(df['날짜']) \n",
    "df.info()"
   ]
  },
  {
   "cell_type": "code",
   "execution_count": null,
   "metadata": {},
   "outputs": [],
   "source": [
    "df_months = [group for name, group in df.groupby(pd.Grouper(key='날짜',freq='M'))]\n",
    "df_months[0].head() # 1월 데이터 일부를 출력"
   ]
  },
  {
   "cell_type": "markdown",
   "metadata": {},
   "source": [
    "**[9장: 525페이지]**"
   ]
  },
  {
   "cell_type": "code",
   "execution_count": null,
   "metadata": {
    "scrolled": true
   },
   "outputs": [],
   "source": [
    "df_months[1].head() # 2월 데이터 일부를 출력"
   ]
  },
  {
   "cell_type": "markdown",
   "metadata": {},
   "source": [
    "**[9장: 525~527페이지]**"
   ]
  },
  {
   "cell_type": "code",
   "execution_count": null,
   "metadata": {},
   "outputs": [],
   "source": [
    "import pandas as pd\n",
    "import matplotlib\n",
    "import matplotlib.pyplot as plt\n",
    "\n",
    "# 한글 폰트를 위한 설정\n",
    "matplotlib.rcParams['font.family'] = 'Malgun Gothic'\n",
    "matplotlib.rcParams['axes.unicode_minus'] = False\n",
    "\n",
    "        \n",
    "# 월별 데이터, 기본 통계량, 박스 그래프를 셀 파일에 쓰는 함수\n",
    "# 입력 인수: 엑셀 파일 경로, DataFrame 데이터 리스트\n",
    "# 반환: 없음\n",
    "def write_stat_data_box_plot_to_excel_sheet(write_excel_file, df_months):\n",
    "    # 쓰기 엔진을 xlsxwriter로 지정해 판다스의 ExcelWriter 객체 생성\n",
    "    excel_writer = pd.ExcelWriter(write_excel_file, engine='xlsxwriter') \n",
    "\n",
    "    for month_num, df_month in enumerate(df_months): # 월별로 수행\n",
    "        # 기본 통계량 구하기\n",
    "        df_month_stat = df_month.describe()\n",
    "        \n",
    "        # 시트 이름 생성\n",
    "        sheet = \"{0:2d}월\".format(month_num + 1)\n",
    "        \n",
    "        # '날짜'열을 datetime 형식에서 문자열로 변환\n",
    "        df_month['날짜'] = df_month['날짜'].astype(str) \n",
    "        \n",
    "        # DataFrame 데이터의 '날짜'열을 index로 지정\n",
    "        df_month = df_month.set_index(['날짜']) \n",
    "        \n",
    "        # DataFrame 데이터를 생성한 엑셀 객체에 쓰기(시트이름을 지정)       \n",
    "        df_month.to_excel(excel_writer, sheet_name = sheet) # index를 포함\n",
    "\n",
    "        # 워크시트에 위치를 지정해 기본 통계량 데이터(df_month_stat) 쓰기\n",
    "        row = 0 # 행 위치\n",
    "        col = len(df_month.columns) + 2  # 열 위치\n",
    "        df_month_stat.to_excel(excel_writer, sheet_name=sheet,\n",
    "                               startrow=row, startcol=col)\n",
    "        \n",
    "        # ------ 박스 그래프 그리고 이미지 파일로 저장하기 --------------\n",
    "        ax = df_month.plot.box(y=[\"A지점\", \"B지점\", \"C지점\"], \n",
    "                               showmeans=True) # 박스 그래프\n",
    "        ax.set_ylabel(\"일일 판매량\", fontsize=15)  # y 라벨 추가\n",
    "        ax.set_title(\"지점별 일일 판매량 분포\", fontsize=20) # 그래프 제목 추가\n",
    "\n",
    "        # 박스 그래프의 이미지 파일 경로\n",
    "        folder = \"C:/myPyExcel/figures/\"\n",
    "        image_file = folder + \"지점별_일일_판매량_분포_{0:02d}월.png\".format(month_num + 1) \n",
    "\n",
    "        plt.savefig(image_file, dpi=300) # 그래프를 이미지 파일로 저장\n",
    "        plt.close() # 화면에 그래프를 표시하지 않고 닫기\n",
    "        # ----------------------------------------------------------------\n",
    "        \n",
    "        # 생성한 ExcelWriter 객체(excel_writer)를 이용해 워크시트 객체 생성\n",
    "        worksheet = excel_writer.sheets[sheet]\n",
    "\n",
    "        # 워크시트 객체(worksheet)에 이미지가 들어갈 위치를 지정해 이미지 넣기\n",
    "        row = len(df_month_stat.index) + 2  # 행 위치\n",
    "        col = len(df_month.columns) + 2  # 열 위치\n",
    "        worksheet.insert_image(row, col, image_file, \n",
    "                               {'x_scale': 0.6, 'y_scale': 0.6})\n",
    "\n",
    "    # 객체를 닫고 엑셀 파일로 저장\n",
    "    excel_writer.save()"
   ]
  },
  {
   "cell_type": "markdown",
   "metadata": {},
   "source": [
    "**[9장: 527페이지]**"
   ]
  },
  {
   "cell_type": "code",
   "execution_count": null,
   "metadata": {},
   "outputs": [],
   "source": [
    "# 데이터 파일에서 DataFrame 데이터 가져오기\n",
    "folder = 'C:/myPyExcel/data/ch09/'\n",
    "csv_file = folder + '2019년_지점별_일일_판매량.csv' \n",
    "df = pd.read_csv(csv_file)\n",
    "\n",
    "# DataFrame 데이터 중 '날짜'열의 데이터 타입을 datetime 형식으로 변환\n",
    "df['날짜']= pd.to_datetime(df['날짜']) \n",
    "\n",
    "# 월별로 DataFrame 데이터 묶기(그룹핑)\n",
    "df_months = [group for name, group in df.groupby(pd.Grouper(key='날짜',freq='M'))]\n",
    "\n",
    "# 저장할 엑셀 파일 경로\n",
    "folder = 'C:/myPyExcel/data/ch09/'\n",
    "excel_file = folder + '2019년_지점별_일일_판매량_기본통계량_박스그래프.xlsx' \n",
    "\n",
    "# DataFrame 데이터, 기본 통계량, 박스 그래프를 엑셀 파일에 쓰는 함수 호출\n",
    "write_stat_data_box_plot_to_excel_sheet(excel_file, df_months)\n",
    "\n",
    "print(\"생성 파일:\", excel_file) # 생성한 파일 이름 출력"
   ]
  },
  {
   "cell_type": "markdown",
   "metadata": {},
   "source": [
    "## 9.2 통계 데이터 분석 심화"
   ]
  },
  {
   "cell_type": "markdown",
   "metadata": {},
   "source": [
    "### 상관 분석"
   ]
  },
  {
   "cell_type": "markdown",
   "metadata": {},
   "source": [
    "**[9장: 531~532페이지]**"
   ]
  },
  {
   "cell_type": "code",
   "execution_count": null,
   "metadata": {
    "scrolled": true
   },
   "outputs": [],
   "source": [
    "import pandas as pd\n",
    "\n",
    "#  데이터 파일의 전체 경로\n",
    "folder = 'C:/myPyExcel/data/ch09/'\n",
    "csv_file = folder + '기온별_아이스_커피_판매량.csv'\n",
    "\n",
    "# CSV 파일 읽기\n",
    "df = pd.read_csv(csv_file)\n",
    "\n",
    "# DataFrame 데이터 출력\n",
    "df.head()"
   ]
  },
  {
   "cell_type": "markdown",
   "metadata": {},
   "source": [
    "**[9장: 532페이지]**"
   ]
  },
  {
   "cell_type": "code",
   "execution_count": null,
   "metadata": {},
   "outputs": [],
   "source": [
    "ax_scatter = df.plot.scatter(x='기온', y='아이스커피판매량', grid=True)\n",
    "\n",
    "ax_scatter.set_xlabel(\"기온 (섭씨)\", fontsize=15)\n",
    "ax_scatter.set_ylabel(\"아이스 커피 판매량\", fontsize=15)\n",
    "ax_scatter.set_title(\"기온별 아이스 커피 판매량\", fontsize=20)\n",
    "\n",
    "plt.show()"
   ]
  },
  {
   "cell_type": "markdown",
   "metadata": {},
   "source": [
    "**[9장: 533페이지]**"
   ]
  },
  {
   "cell_type": "code",
   "execution_count": null,
   "metadata": {},
   "outputs": [],
   "source": [
    "df.corr() # DataFrma 데이터(df)의 상관 계수 구하기"
   ]
  },
  {
   "cell_type": "markdown",
   "metadata": {},
   "source": [
    "**[9장: 534~535페이지]**"
   ]
  },
  {
   "cell_type": "code",
   "execution_count": null,
   "metadata": {
    "scrolled": true
   },
   "outputs": [],
   "source": [
    "import pandas as pd\n",
    "\n",
    "#  데이터 파일의 전체 경로\n",
    "folder = 'C:/myPyExcel/data/ch09/'\n",
    "csv_file = folder + 'iris_setosa_data.csv'\n",
    "\n",
    "# CSV 파일 읽기\n",
    "df = pd.read_csv(csv_file)\n",
    "\n",
    "# DataFrame 데이터 출력\n",
    "df.head()"
   ]
  },
  {
   "cell_type": "markdown",
   "metadata": {},
   "source": [
    "**[9장: 535페이지]**"
   ]
  },
  {
   "cell_type": "code",
   "execution_count": null,
   "metadata": {},
   "outputs": [],
   "source": [
    "from pandas.plotting import scatter_matrix\n",
    "\n",
    "# 두 개의 변수 간의 산점도와 한 변수에 대한 히스토그램 표시\n",
    "# (alpha 옵션은 0~1 사이의 실수로 지정)\n",
    "scatter_matrix(df, alpha=1, figsize=(8, 8)) \n",
    "plt.show()"
   ]
  },
  {
   "cell_type": "markdown",
   "metadata": {},
   "source": [
    "**[9장: 536페이지]**"
   ]
  },
  {
   "cell_type": "code",
   "execution_count": null,
   "metadata": {},
   "outputs": [],
   "source": [
    "df.corr() # DataFrame 데이터(df)의 상관 계수 구하기"
   ]
  },
  {
   "cell_type": "markdown",
   "metadata": {},
   "source": [
    "### 회귀 분석"
   ]
  },
  {
   "cell_type": "markdown",
   "metadata": {},
   "source": [
    "**[9장: 540~541페이지]**"
   ]
  },
  {
   "cell_type": "code",
   "execution_count": null,
   "metadata": {},
   "outputs": [],
   "source": [
    "import pandas as pd\n",
    "\n",
    "# CSV 파일을 DataFrame으로 읽어옴\n",
    "folder = 'C:/myPyExcel/data/ch09/'\n",
    "csv_file = folder + '기온별_아이스_커피_판매량.csv'\n",
    "df = pd.read_csv(csv_file)\n",
    "df.head()"
   ]
  },
  {
   "cell_type": "markdown",
   "metadata": {},
   "source": [
    "**[9장: 541페이지]**"
   ]
  },
  {
   "cell_type": "code",
   "execution_count": null,
   "metadata": {},
   "outputs": [],
   "source": [
    "X = df['기온'].values.reshape(-1,1) # X는 행렬\n",
    "y = df['아이스커피판매량'].values   # y는 벡터"
   ]
  },
  {
   "cell_type": "code",
   "execution_count": null,
   "metadata": {},
   "outputs": [],
   "source": [
    "from sklearn.linear_model import LinearRegression\n",
    "\n",
    "# LinearRegression 객체(model)에 대해 fit() 메서드로 회귀 분석 수행\n",
    "model = LinearRegression().fit(X, y) \n",
    "\n",
    "# 선형 회귀 분석의 파라미터 추정값 가져오기\n",
    "beta0 = model.intercept_\n",
    "beta1 = model.coef_[0]\n",
    "\n",
    "# 추정값 결과 출력\n",
    "print(\"beta0 = {0:.4f}, beta1 = {1:.4f}\".format(beta0, beta1))"
   ]
  },
  {
   "cell_type": "markdown",
   "metadata": {},
   "source": [
    "**[9장: 542페이지]**"
   ]
  },
  {
   "cell_type": "code",
   "execution_count": null,
   "metadata": {},
   "outputs": [],
   "source": [
    "import numpy as np\n",
    "\n",
    "# predict() 메서드로 입력 X에 대한 y_hat 추정 \n",
    "y_hat = model.predict(X)\n",
    "\n",
    "# SST, SSR, SSE 계산\n",
    "SST = np.sum((y - np.mean(y))**2)      # SST 계산\n",
    "SSR = np.sum((y_hat - np.mean(y))**2)  # SSR 계산\n",
    "SSE = np.sum((y - y_hat)**2)           # SSE 계산\n",
    "\n",
    "# 결정 계수(R 제곱) 계산\n",
    "R_squared = 1 - SSE / SST # 결정 계수 계산\n",
    "\n",
    "# 출력\n",
    "print(\"결정 계수: {0:.4f}\".format(R_squared))"
   ]
  },
  {
   "cell_type": "code",
   "execution_count": null,
   "metadata": {},
   "outputs": [],
   "source": [
    "from sklearn.metrics import r2_score\n",
    "\n",
    "r2_score(y, y_hat)"
   ]
  },
  {
   "cell_type": "markdown",
   "metadata": {},
   "source": [
    "**[9장: 543페이지]**"
   ]
  },
  {
   "cell_type": "code",
   "execution_count": null,
   "metadata": {},
   "outputs": [],
   "source": [
    "import matplotlib\n",
    "import matplotlib.pyplot as plt\n",
    "\n",
    "# 한글 폰트를 위한 설정\n",
    "matplotlib.rcParams['font.family'] = 'Malgun Gothic'\n",
    "matplotlib.rcParams['axes.unicode_minus'] = False\n",
    "\n",
    "# 주어진 데이터 X와 y의 산점도\n",
    "plt.scatter(X, y) # 산점도 그리기\n",
    "plt.grid(True) # 격자 추가\n",
    "plt.xlabel(\"기온 (섭씨)\", fontsize=15)              # x축 라벨 \n",
    "plt.ylabel(\"아이스 커피 판매량\", fontsize=15)       # y축 라벨\n",
    "plt.title(\"기온별 아이스 커피 판매량\", fontsize=20) # 그래프 제목\n",
    "\n",
    "# 추세선 표시\n",
    "x_data = np.array([10, 40])       # 추세선을 위한 x축 데이터\n",
    "y_data = beta0 + beta1 * x_data   # 추세선을 위한 y축 데이터\n",
    "\n",
    "plt.plot(x_data, y_data, 'r--') # y = beta_0 + beta_1 * x에 해당하는 선을 그림\n",
    "\n",
    "# 추세선 수식을 그래프에 표시\n",
    "eq_text = \"y={0:.4f} + {1:.4f}x\".format(beta0, beta1) # 그래프에 표시할 문자열 생성\n",
    "plt.text(12, 250, eq_text, fontsize=15) # 지정한 위치(x, y) = (12, 250)에 문자열 표시\n",
    "\n",
    "plt.show()"
   ]
  },
  {
   "cell_type": "markdown",
   "metadata": {},
   "source": [
    "**[9장: 544페이지]**"
   ]
  },
  {
   "cell_type": "code",
   "execution_count": null,
   "metadata": {},
   "outputs": [],
   "source": [
    "high_temp = [38.5] # 오늘의 최고 기온\n",
    "X_new = np.array(high_temp).reshape(-1, 1)\n",
    "\n",
    "# predict() 메서드로 입력 X_new에 대한 y_hat 추정 \n",
    "y_hat = model.predict(X_new)\n",
    "\n",
    "# 결과 출력\n",
    "print(\"- 최고 기온:\", high_temp)\n",
    "print(\"- 아이스 커피 예상 판매량:\", y_hat)"
   ]
  },
  {
   "cell_type": "markdown",
   "metadata": {},
   "source": [
    "**[9장: 545페이지]**"
   ]
  },
  {
   "cell_type": "code",
   "execution_count": null,
   "metadata": {},
   "outputs": [],
   "source": [
    "# 새로운 독립 변수 X_new 생성\n",
    "high_temps = [23.2, 38.5, 39.1] # 여러 날의 최고 기온\n",
    "X_new = np.array(high_temps).reshape(-1, 1)\n",
    "\n",
    "# predict() 메서드로 입력 X_new에 대한 y_hat 추정 \n",
    "y_hat = model.predict(X_new)\n",
    "\n",
    "# 추정 결과를 이용해 DataFrame 데이터 생성\n",
    "ice_coffees = y_hat.astype(int) # 실수를 정수로 변환 후 ice_coffees에 할당\n",
    "df_new = pd.DataFrame({'기온_new': high_temps, \n",
    "                       '아이스커피_예상_판매량': ice_coffees})\n",
    "df_new"
   ]
  },
  {
   "cell_type": "markdown",
   "metadata": {},
   "source": [
    "**[9장: 548페이지]**"
   ]
  },
  {
   "cell_type": "code",
   "execution_count": null,
   "metadata": {
    "scrolled": true
   },
   "outputs": [],
   "source": [
    "import pandas as pd\n",
    "\n",
    "# CSV 파일을 DataFrame으로 읽어옴\n",
    "folder = 'C:/myPyExcel/data/ch09/'\n",
    "csv_file = folder + '환경별_수확량.csv'\n",
    "\n",
    "df = pd.read_csv(csv_file)\n",
    "df.head()"
   ]
  },
  {
   "cell_type": "code",
   "execution_count": null,
   "metadata": {},
   "outputs": [],
   "source": [
    "import seaborn as sns       # seaborn 임포트\n",
    "\n",
    "sns.pairplot(df, height=1.8) # height 옵션으로 그래프의 크기를 조정\n",
    "plt.show()"
   ]
  },
  {
   "cell_type": "markdown",
   "metadata": {},
   "source": [
    "**[9장: 549페이지]**"
   ]
  },
  {
   "cell_type": "code",
   "execution_count": null,
   "metadata": {},
   "outputs": [],
   "source": [
    "X = df[['온도','습도','CO2']].values # X는 행렬\n",
    "y = df['수확량'].values              # y는 벡터"
   ]
  },
  {
   "cell_type": "markdown",
   "metadata": {},
   "source": [
    "**[9장: 549~550페이지]**"
   ]
  },
  {
   "cell_type": "code",
   "execution_count": null,
   "metadata": {},
   "outputs": [],
   "source": [
    "from sklearn.linear_model import LinearRegression\n",
    "\n",
    "# LinearRegression 객체(model)에 대해 fit() 메서드로 회귀 분석 수행\n",
    "model = LinearRegression().fit(X, y) \n",
    "\n",
    "# 파라미터 추정값 결과 출력\n",
    "print(\"- y 절편 상수:\", model.intercept_) # beta0\n",
    "print(\"- x의 가중치 벡터:\", model.coef_)  # [beta1, beta2, beta3]"
   ]
  },
  {
   "cell_type": "markdown",
   "metadata": {},
   "source": [
    "**[9장: 550페이지]**"
   ]
  },
  {
   "cell_type": "code",
   "execution_count": null,
   "metadata": {},
   "outputs": [],
   "source": [
    "from sklearn.metrics import r2_score\n",
    "\n",
    "y_hat = model.predict(X)\n",
    "r2_score(y, y_hat)"
   ]
  },
  {
   "cell_type": "code",
   "execution_count": null,
   "metadata": {},
   "outputs": [],
   "source": [
    "# 새로운 독립 변수 X_new 생성\n",
    "temp = [17.7, 27.8, 16.8, 15.2, 39.7]      # 온도\n",
    "humi = [69.2, 69.9, 48.0, 62.3, 37.4]      # 습도\n",
    "co2 =  [743.7, 839.6, 770.5, 577.6, 839.3] # CO2 농도\n",
    "\n",
    "X_new = np.array([temp, humi, co2]) # 각 측정값을 행렬(2차원 배열)로 만듦\n",
    "X_new = X_new.T # n x p 행렬을 만들기 위해 행렬의 전치(transpose)를 수행\n",
    "X_new"
   ]
  },
  {
   "cell_type": "markdown",
   "metadata": {},
   "source": [
    "**[9장: 551페이지]**"
   ]
  },
  {
   "cell_type": "code",
   "execution_count": null,
   "metadata": {},
   "outputs": [],
   "source": [
    "# predict() 메서드로 입력 X_new에 대한 y_hat 추정 \n",
    "y_hat = model.predict(X_new)\n",
    "\n",
    "# 추정 결과를 이용해 DataFrame 데이터 생성\n",
    "df_new = pd.DataFrame({'온도': temp, '습도': humi, \"CO2\": co2, \"예상수확량\": y_hat})\n",
    "df_new.style.format('{:.1f}') # DataFrame 데이터의 출력 형식을 지정 "
   ]
  },
  {
   "cell_type": "markdown",
   "metadata": {},
   "source": [
    "## 9.3 정리"
   ]
  }
 ],
 "metadata": {
  "kernelspec": {
   "display_name": "Python 3",
   "language": "python",
   "name": "python3"
  },
  "language_info": {
   "codemirror_mode": {
    "name": "ipython",
    "version": 3
   },
   "file_extension": ".py",
   "mimetype": "text/x-python",
   "name": "python",
   "nbconvert_exporter": "python",
   "pygments_lexer": "ipython3",
   "version": "3.8.3"
  },
  "latex_envs": {
   "LaTeX_envs_menu_present": true,
   "autoclose": false,
   "autocomplete": true,
   "bibliofile": "biblio.bib",
   "cite_by": "number",
   "current_citInitial": 1,
   "eqLabelWithNumbers": false,
   "eqNumInitial": 1,
   "hotkeys": {
    "equation": "Ctrl-E",
    "itemize": "Ctrl-I"
   },
   "labels_anchors": false,
   "latex_user_defs": false,
   "report_style_numbering": true,
   "user_envs_cfg": true
  },
  "toc": {
   "base_numbering": "9",
   "nav_menu": {},
   "number_sections": false,
   "sideBar": true,
   "skip_h1_title": false,
   "title_cell": "Table of Contents",
   "title_sidebar": "Contents",
   "toc_cell": false,
   "toc_position": {
    "height": "calc(100% - 180px)",
    "left": "10px",
    "top": "150px",
    "width": "315px"
   },
   "toc_section_display": true,
   "toc_window_display": false
  }
 },
 "nbformat": 4,
 "nbformat_minor": 2
}
