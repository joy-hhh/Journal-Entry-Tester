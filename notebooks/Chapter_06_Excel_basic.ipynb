{
 "cells": [
  {
   "cell_type": "markdown",
   "metadata": {},
   "source": [
    "# 6장 엑셀 파일을 다루는 라이브러리"
   ]
  },
  {
   "cell_type": "markdown",
   "metadata": {},
   "source": [
    "## 6.1 XlsxWriter로 엑셀 파일 생성하기"
   ]
  },
  {
   "cell_type": "markdown",
   "metadata": {},
   "source": [
    "### XlsxWriter 기본 사용법"
   ]
  },
  {
   "cell_type": "markdown",
   "metadata": {},
   "source": [
    "**[6장: 265~266페이지]**"
   ]
  },
  {
   "cell_type": "code",
   "execution_count": null,
   "metadata": {},
   "outputs": [],
   "source": [
    "import xlsxwriter\n",
    "\n",
    "# 엑셀 파일 경로\n",
    "folder = 'C:/myPyExcel/data/ch06/' \n",
    "excel_file = folder + 'XlsxWriter_start_01.xlsx' \n",
    "\n",
    "workbook = xlsxwriter.Workbook(excel_file) # 워크북 객체 생성 \n",
    "worksheet = workbook.add_worksheet() # 워크시트 생성\n",
    "\n",
    "worksheet.write(0, 0, 100) # 셀의 행과 열의 위치를 지정해 셀에 데이터 쓰기\n",
    "# worksheet.write('A1', 100) # 셀의 주소 지정 후 셀에 데이터 쓰기\n",
    "\n",
    "workbook.close() # 워크북 객체를 닫고 엑셀 파일 생성\n",
    "\n",
    "print(\"생성한 엑셀 파일:\", excel_file) # 생성한 파일 이름 출력"
   ]
  },
  {
   "cell_type": "markdown",
   "metadata": {},
   "source": [
    "**[6장: 266~267페이지]**"
   ]
  },
  {
   "cell_type": "code",
   "execution_count": null,
   "metadata": {},
   "outputs": [],
   "source": [
    "import xlsxwriter\n",
    "\n",
    "# 엑셀 파일 경로\n",
    "folder = 'C:/myPyExcel/data/ch06/' \n",
    "excel_file = folder + 'XlsxWriter_start_02.xlsx' \n",
    "\n",
    "workbook = xlsxwriter.Workbook(excel_file) # 워크북 객체 생성 \n",
    "worksheet = workbook.add_worksheet() # 워크시트 생성\n",
    "\n",
    "# 행과 열의 위치로 셀을 지정해 데이터 입력\n",
    "worksheet.write(0, 0, 100) # 숫자(정수) 입력\n",
    "worksheet.write(1, 0, 3.14)  # 숫자(실수) 입력\n",
    "worksheet.write(2, 0, '안녕') # 문자열 입력\n",
    "worksheet.write(3, 0, '=COS(PI()/4)') # 엑셀 함수를 입력\n",
    "worksheet.write(4, 0, '') # 공백 입력\n",
    "worksheet.write(5, 0, None) # 공백 입력\n",
    "\n",
    "# 주소로 셀을 지정해 데이터 입력\n",
    "worksheet.write('B1', '← 숫자(정수) 입력') # 문자열 입력\n",
    "worksheet.write('B2', '← 숫자(실수) 입력') # 문자열 입력\n",
    "worksheet.write('B3', '← 문자열 입력') # 문자열 입력\n",
    "worksheet.write('B4', '← 엑셀 함수 계산 결과') # 문자열 입력\n",
    "worksheet.write('B5', '← 빈 문자로 공백 입력') # 문자열 입력\n",
    "worksheet.write('B6', '← None으로 공백 입력') # 문자열 입력\n",
    "\n",
    "workbook.close() # 워크북 객체를 닫고 엑셀 파일 생성\n",
    "\n",
    "print(\"생성한 엑셀 파일:\", excel_file) # 생성한 파일 이름 출력"
   ]
  },
  {
   "cell_type": "markdown",
   "metadata": {},
   "source": [
    "**[6장: 268페이지]**"
   ]
  },
  {
   "cell_type": "code",
   "execution_count": null,
   "metadata": {},
   "outputs": [],
   "source": [
    "import xlsxwriter\n",
    "\n",
    "# 엑셀 파일 경로\n",
    "folder = 'C:/myPyExcel/data/ch06/' \n",
    "excel_file = folder + 'XlsxWriter_start_03.xlsx' \n",
    "\n",
    "workbook = xlsxwriter.Workbook(excel_file) # 워크북 객체 생성 \n",
    "worksheet = workbook.add_worksheet() # 워크시트 생성\n",
    "\n",
    "worksheet.write('A1', '지점1') # 문자열 입력\n",
    "worksheet.write('A2', '지점2') # 문자열 입력\n",
    "worksheet.write('A3', '지점3') # 문자열 입력\n",
    "worksheet.write('A4', '지점4') # 문자열 입력\n",
    "worksheet.write('A5', '합계') # 문자열 입력\n",
    "worksheet.write('A6', '평균') # 문자열 입력\n",
    "\n",
    "worksheet.write('B1', 10) # 숫자 입력\n",
    "worksheet.write('B2', 15) # 숫자 입력\n",
    "worksheet.write('B3', 12) # 숫자 입력\n",
    "worksheet.write('B4', 9) # 숫자 입력\n",
    "worksheet.write('B5', '=SUM(B1:B4)') # 엑셀 함수(합계, SUM) 입력\n",
    "worksheet.write('B6', '=AVERAGE(B1:B4)') # 엑셀 함수(평균, AVERAGE) 입력\n",
    "\n",
    "workbook.close() # 워크북 객체를 닫고 엑셀 파일 생성\n",
    "\n",
    "print(\"생성한 엑셀 파일:\", excel_file) # 생성한 파일 이름 출력"
   ]
  },
  {
   "cell_type": "markdown",
   "metadata": {},
   "source": [
    "###  XlsxWriter로 다양한 자료형 데이터 쓰기"
   ]
  },
  {
   "cell_type": "markdown",
   "metadata": {},
   "source": [
    "**[6장: 269페이지]**"
   ]
  },
  {
   "cell_type": "code",
   "execution_count": null,
   "metadata": {},
   "outputs": [],
   "source": [
    "import xlsxwriter\n",
    "\n",
    "# 엑셀 파일 경로\n",
    "folder = 'C:/myPyExcel/data/ch06/' \n",
    "excel_file = folder + 'XlsxWriter_list_data_01.xlsx' \n",
    "\n",
    "workbook = xlsxwriter.Workbook(excel_file)   # 워크북 객체 생성 \n",
    "worksheet = workbook.add_worksheet()         # 워크시트 생성\n",
    "\n",
    "list_num = [10, 20, 30, 40]\n",
    "for col_num, value in enumerate(list_num):\n",
    "    worksheet.write(0, col_num, value)       # 행 번호는 고정, 열 번호는 증가\n",
    "\n",
    "workbook.close()                             # 워크북 객체를 닫고 엑셀 파일 생성\n",
    "\n",
    "print(\"생성한 엑셀 파일:\", excel_file)       # 생성한 파일 이름 출력"
   ]
  },
  {
   "cell_type": "markdown",
   "metadata": {},
   "source": [
    "**[6장: 270페이지]**"
   ]
  },
  {
   "cell_type": "code",
   "execution_count": null,
   "metadata": {},
   "outputs": [],
   "source": [
    "# 엑셀 파일 경로\n",
    "folder = 'C:/myPyExcel/data/ch06/' \n",
    "excel_file = folder + 'XlsxWriter_list_data_02.xlsx' \n",
    "\n",
    "workbook = xlsxwriter.Workbook(excel_file)   # 워크북 객체 생성 \n",
    "worksheet = workbook.add_worksheet()         # 워크시트 생성\n",
    "\n",
    "list_num2 = [50, 60, 70, 80]\n",
    "for row_num, value in enumerate(list_num2):\n",
    "    worksheet.write(row_num, 0, value)       # 행 번호 증가, 열 번호는 고정\n",
    "\n",
    "workbook.close()                             # 워크북 객체를 닫고 엑셀 파일 생성\n",
    "\n",
    "print(\"생성한 엑셀 파일:\", excel_file)       # 생성한 파일 이름 출력"
   ]
  },
  {
   "cell_type": "markdown",
   "metadata": {},
   "source": [
    "**[6장: 271페이지]**"
   ]
  },
  {
   "cell_type": "code",
   "execution_count": null,
   "metadata": {},
   "outputs": [],
   "source": [
    "# 엑셀 파일 경로\n",
    "folder = 'C:/myPyExcel/data/ch06/' \n",
    "excel_file = folder + 'XlsxWriter_list_data_03.xlsx' \n",
    "\n",
    "workbook = xlsxwriter.Workbook(excel_file) # 워크북 객체 생성 \n",
    "worksheet = workbook.add_worksheet()       # 워크시트 생성\n",
    "\n",
    "list_num = [10, 20, 30, 40]\n",
    "list_num2 = [50, 60, 70, 80]\n",
    "worksheet.write_row(0, 1, list_num)        # 셀 B1에서 시작해 행 방향으로 쓰기\n",
    "worksheet.write_column(1, 0, list_num2)    # 셀 A2에서 시작해 열 방향으로 쓰기\n",
    "\n",
    "workbook.close()                           # 워크북 객체를 닫고 엑셀 파일 생성\n",
    "\n",
    "print(\"생성한 엑셀 파일:\", excel_file)     # 생성한 파일 이름 출력"
   ]
  },
  {
   "cell_type": "markdown",
   "metadata": {},
   "source": [
    "**[6장: 272페이지]**"
   ]
  },
  {
   "cell_type": "code",
   "execution_count": null,
   "metadata": {},
   "outputs": [],
   "source": [
    "dict_data = { '제품ID': ['P1001', 'P1002', 'P1003', 'P1004'],\n",
    "              '판매가격': [5000, 7000, 8000, 10000],\n",
    "              '판매량': [50, 93, 70, 48] }\n",
    "dict_data"
   ]
  },
  {
   "cell_type": "markdown",
   "metadata": {},
   "source": [
    "**[6장: 272~273페이지]**"
   ]
  },
  {
   "cell_type": "code",
   "execution_count": null,
   "metadata": {
    "scrolled": true
   },
   "outputs": [],
   "source": [
    "import xlsxwriter\n",
    "\n",
    "# 엑셀 파일 경로\n",
    "folder = 'C:/myPyExcel/data/ch06/' \n",
    "excel_file = folder + 'XlsxWriter_dict_data_01.xlsx' \n",
    "\n",
    "workbook = xlsxwriter.Workbook(excel_file) # 워크북 객체 생성 \n",
    "worksheet = workbook.add_worksheet()       # 워크시트 생성\n",
    "\n",
    "list_keys  = list(dict_data.keys())        # 딕셔너리 키를 추출해 리스트로 변환\n",
    "list_values = list(dict_data.values())     # 딕셔너리 값을 추출해 리스트로 변환\n",
    "\n",
    "worksheet.write_row(0, 0, list_keys)       # 첫 번째 행에 키를 행 방향으로 쓰기\n",
    "\n",
    "# 두 번째 행에 리스트 데이터를 열 방향으로 쓰기\n",
    "for col, list_value in enumerate(list_values):\n",
    "    worksheet.write_column(1, col, list_value)\n",
    "\n",
    "workbook.close()                           # 워크북 객체를 닫고 엑셀 파일 생성\n",
    "\n",
    "print(\"생성한 엑셀 파일:\", excel_file)     # 생성한 파일 이름 출력"
   ]
  },
  {
   "cell_type": "markdown",
   "metadata": {},
   "source": [
    "**[6장: 274페이지]**"
   ]
  },
  {
   "cell_type": "code",
   "execution_count": null,
   "metadata": {},
   "outputs": [],
   "source": [
    "import pandas as pd\n",
    "\n",
    "# 엑셀 파일 경로\n",
    "folder = 'C:/myPyExcel/data/ch06/' \n",
    "csv_file = folder + 'korea_rain.csv' \n",
    "\n",
    "df = pd.read_csv(csv_file) # CSV 파일을 읽어와서 DataFrame 데이터 생성\n",
    "df"
   ]
  },
  {
   "cell_type": "markdown",
   "metadata": {},
   "source": [
    "**[6장: 275페이지]**"
   ]
  },
  {
   "cell_type": "code",
   "execution_count": null,
   "metadata": {},
   "outputs": [],
   "source": [
    "# 엑셀 파일 경로\n",
    "folder = 'C:/myPyExcel/data/ch06/' \n",
    "excel_file = folder + 'XlsxWriter_DataFrame_data_01.xlsx' \n",
    "\n",
    "# 1) 쓰기 엔진과 엑셀 파일을 지정해 ExcelWriter 객체 생성(excel_writer)\n",
    "excel_writer = pd.ExcelWriter(excel_file, engine='xlsxwriter') \n",
    "\n",
    "# 2) 생성한 엑셀 객체에 DataFrame 데이터(df)를 쓰기(시트이름 지정)\n",
    "df.to_excel(excel_writer, sheet_name='Sheet1')\n",
    "\n",
    "# 3) 객체를 닫고 엑셀 파일로 저장\n",
    "excel_writer.save()\n",
    "\n",
    "print(\"생성한 엑셀 파일:\", excel_file) # 생성한 파일 이름 출력"
   ]
  },
  {
   "cell_type": "markdown",
   "metadata": {},
   "source": [
    "**[6장: 276페이지]**"
   ]
  },
  {
   "cell_type": "code",
   "execution_count": null,
   "metadata": {},
   "outputs": [],
   "source": [
    "# 엑셀 파일 경로\n",
    "folder = 'C:/myPyExcel/data/ch06/' \n",
    "excel_file = folder + 'XlsxWriter_DataFrame_data_02.xlsx' \n",
    "\n",
    "# 1) 쓰기 엔진과 엑셀 파일을 지정해 ExcelWriter 객체 생성(excel_writer)\n",
    "excel_writer = pd.ExcelWriter(excel_file, engine='xlsxwriter') \n",
    "\n",
    "# 2) DataFrame 데이터(df)를 생성한 엑셀 객체에 쓰기(시트이름과 index 옵션 지정)\n",
    "df.to_excel(excel_writer, sheet_name='Sheet1', index=False)\n",
    "\n",
    "# 3) 객체를 닫고 엑셀 파일로 저장\n",
    "excel_writer.save()\n",
    "\n",
    "print(\"생성한 엑셀 파일:\", excel_file) # 생성한 파일 이름 출력"
   ]
  },
  {
   "cell_type": "markdown",
   "metadata": {},
   "source": [
    "### XlsxWriter로 셀 서식 지정"
   ]
  },
  {
   "cell_type": "markdown",
   "metadata": {},
   "source": [
    "**[6장: 280~281페이지]**"
   ]
  },
  {
   "cell_type": "code",
   "execution_count": null,
   "metadata": {},
   "outputs": [],
   "source": [
    "import xlsxwriter\n",
    "\n",
    "# 엑셀 파일 경로\n",
    "folder = 'C:/myPyExcel/data/ch06/' \n",
    "excel_file = folder + 'XlsxWriter_cell_format_01.xlsx' \n",
    "\n",
    "# 1) 생성할 엑셀 파일이름을 지정해 워크북 객체 생성\n",
    "workbook = xlsxwriter.Workbook(excel_file) \n",
    "\n",
    "# 2) 워크북 내에 사용할 워크시트 생성\n",
    "worksheet = workbook.add_worksheet() \n",
    "\n",
    "# 3) 셀 서식 지정을 위한 서식 객체 생성\n",
    "# 속성: 텍스트 굵게, 글꼴 색은 파란색으로 속성을 지정해 서식 객체 생성\n",
    "cell_format = workbook.add_format({'font_name': '바탕', \n",
    "                                   'bold': True, \n",
    "                                   'font_color': 'blue'})\n",
    "\n",
    "# 메서드를 이용해 서식 추가 지정(텍스트를 기울임꼴로 설정)\n",
    "cell_format.set_italic() \n",
    "\n",
    "# 메서드를 이용해 서식 추가 지정(글꼴 크기 지정)\n",
    "cell_format.set_font_size(20)\n",
    "\n",
    "# 4) 워크시트의 셀에 쓰기 작업 수행\n",
    "worksheet.write('A1', \"셀 서식 미지정\")            # 서식 미지정\n",
    "worksheet.write('A2', \"셀 서식 지정\", cell_format) # 서식 지정\n",
    "\n",
    "# 5) 워크북 객체를 닫고 엑셀 파일 생성\n",
    "workbook.close()\n",
    "\n",
    "print(\"생성한 엑셀 파일:\", excel_file) # 생성한 파일 이름 출력"
   ]
  },
  {
   "cell_type": "markdown",
   "metadata": {},
   "source": [
    "**[6장: 283~284페이지]**"
   ]
  },
  {
   "cell_type": "code",
   "execution_count": null,
   "metadata": {},
   "outputs": [],
   "source": [
    "import xlsxwriter\n",
    "\n",
    "# 엑셀 파일 경로\n",
    "folder = 'C:/myPyExcel/data/ch06/' \n",
    "excel_file = folder + 'XlsxWriter_cell_format_02.xlsx' \n",
    "\n",
    "# 1) 생성할 엑셀 파일이름을 지정해 워크북 객체 생성\n",
    "workbook = xlsxwriter.Workbook(excel_file) \n",
    "\n",
    "# 2) 워크북 내에 사용할 워크시트 생성\n",
    "worksheet = workbook.add_worksheet() \n",
    "\n",
    "# 3) 셀 서식 지정을 위한 서식 객체 생성\n",
    "# 속성 지정 없이 서식 객체 생성(지정할 셀의 서식 만큼 생성)\n",
    "cell_format1 = workbook.add_format()\n",
    "cell_format2 = workbook.add_format()\n",
    "cell_format3 = workbook.add_format()\n",
    "cell_format4 = workbook.add_format()\n",
    "cell_format5 = workbook.add_format()\n",
    "cell_format6 = workbook.add_format()\n",
    "\n",
    "# 메서드를 이용해 서식 지정(서식 객체 마다 지정)\n",
    "cell_format1.set_bg_color('lime')    # 셀의 배경을 설정(색 이름 지정: 라임색)\n",
    "\n",
    "cell_format2.set_bg_color('blue')    # 셀의 배경을 설정(색 이름 지정: 파란색)\n",
    "cell_format2.set_font_color('white') # 글꼴 색 설정(색 이름 지정, 흰색)\n",
    "\n",
    "cell_format3.set_bg_color('red')     # 셀의 배경을 설정(색 이름 지정: 빨간색)\n",
    "cell_format3.set_pattern(1)          # 셀의 무늬 스타일 지정(무늬 없이 배경색으로 채우기)\n",
    "cell_format3.set_font_color('white') # 글꼴 색 설정(색 이름 지정: 흰색)\n",
    "\n",
    "cell_format4.set_bg_color('red')     # 셀의 배경을 설정(색 이름 지정: 빨간색)\n",
    "cell_format4.set_pattern(6)          # 셀의 무늬 스타일 지정\n",
    "cell_format4.set_font_color('white') # 글꼴 색 설정(색 이름 지정: 흰색)\n",
    "\n",
    "cell_format5.set_bg_color('yellow')  # 셀의 배경을 설정(색 이름 지정: 노란색)\n",
    "cell_format5.set_pattern(7)          # 셀의 무늬 스타일 지정\n",
    "cell_format5.set_fg_color('brown')   # 셀의 무늬 색 지정\n",
    "\n",
    "cell_format6.set_bg_color('#FF6600') # 셀의 배경을 설정(RGB 색상 코드 지정: 주황색)\n",
    "cell_format6.set_pattern(18)         # 셀의 무늬 스타일 지정\n",
    "cell_format6.set_fg_color('brown')   # 셀의 무늬 색 지정\n",
    "\n",
    "# 4) 워크시트의 셀에 쓰기 작업 수행\n",
    "worksheet.write('B1', \"안녕\")               # 셀 서식 지정 없이 쓰기 작업 수행\n",
    "worksheet.write('B3', \"안녕\", cell_format1) # 셀 서식을 지정해 쓰기 작업 수행\n",
    "worksheet.write('B5', \"안녕\", cell_format2) # 셀 서식을 지정해 쓰기 작업 수행\n",
    "worksheet.write('B7', \"안녕\", cell_format3) # 셀 서식을 지정해 쓰기 작업 수행\n",
    "worksheet.write('D3', \"안녕\", cell_format4) # 셀 서식을 지정해 쓰기 작업 수행\n",
    "worksheet.write('D5', \"안녕\", cell_format5) # 셀 서식을 지정해 쓰기 작업 수행\n",
    "worksheet.write('D7', \"안녕\", cell_format6) # 셀 서식을 지정해 쓰기 작업 수행\n",
    "\n",
    "# 5) 워크북 객체를 닫고 엑셀 파일 생성\n",
    "workbook.close() \n",
    "\n",
    "print(\"생성한 엑셀 파일:\", excel_file)      # 생성한 파일 이름 출력"
   ]
  },
  {
   "cell_type": "markdown",
   "metadata": {},
   "source": [
    "**[6장: 287~288페이지]**"
   ]
  },
  {
   "cell_type": "code",
   "execution_count": null,
   "metadata": {},
   "outputs": [],
   "source": [
    "import xlsxwriter\n",
    "\n",
    "# 엑셀 파일 경로\n",
    "folder = 'C:/myPyExcel/data/ch06/' \n",
    "excel_file = folder + 'XlsxWriter_cell_format_03.xlsx' \n",
    "\n",
    "# 1) 생성할 엑셀 파일이름을 지정해 워크북 객체 생성\n",
    "workbook = xlsxwriter.Workbook(excel_file) \n",
    "\n",
    "# 2) 워크북 내에 사용할 워크시트 생성\n",
    "worksheet = workbook.add_worksheet() \n",
    "\n",
    "# 3) 셀 서식 지정을 위한 서식 객체 생성\n",
    "# 속성 지정 없이 서식 객체 생성(지정할 셀의 서식 만큼 생성)\n",
    "cell_format1 = workbook.add_format()\n",
    "cell_format2 = workbook.add_format()\n",
    "cell_format3 = workbook.add_format()\n",
    "cell_format4 = workbook.add_format()\n",
    "cell_format5 = workbook.add_format()\n",
    "cell_format6 = workbook.add_format()\n",
    "\n",
    "# 메서드를 이용해 서식 지정(서식 객체마다 지정)\n",
    "cell_format1.set_border(1)            # 셀의 모든 테두리 설정(1: 가는 실선)\n",
    "cell_format2.set_border(2)            # 셀의 모든 테두리 설정(2: 중간 실선)\n",
    "cell_format2.set_border_color('blue') # 셀 테두리 색 설정(파란색)\n",
    "cell_format3.set_bottom(8)            # 셀의 아래쪽 테두리 설정(8: 중간 파선)\n",
    "cell_format4.set_left(2)              # 셀의 왼쪽 테두리 설정(2: 중간 실선)\n",
    "cell_format5.set_right(5)             # 셀의 오른쪽 테두리 설정(5: 굵은 실선)\n",
    "cell_format6.set_border(6)            # 셀의 모든 테두리 설정(6: 이중 실선)\n",
    "\n",
    "# 4) 워크시트의 셀에 쓰기 작업 수행\n",
    "worksheet.write('B1', \"안녕\")               # 셀 서식 지정 없이 쓰기 작업 수행\n",
    "worksheet.write('B3', \"안녕\", cell_format1) # 셀 서식을 지정해 쓰기 작업 수행\n",
    "worksheet.write('B5', \"안녕\", cell_format2) # 셀 서식을 지정해 쓰기 작업 수행\n",
    "worksheet.write('B7', \"안녕\", cell_format3) # 셀 서식을 지정해 쓰기 작업 수행\n",
    "worksheet.write('D3', \"안녕\", cell_format4) # 셀 서식을 지정해 쓰기 작업 수행\n",
    "worksheet.write('D5', \"안녕\", cell_format5) # 셀 서식을 지정해 쓰기 작업 수행\n",
    "worksheet.write('D7', \"안녕\", cell_format6) # 셀 서식을 지정해 쓰기 작업 수행\n",
    "\n",
    "# 5) 워크북 객체를 닫고 엑셀 파일 생성\n",
    "workbook.close()\n",
    "\n",
    "print(\"생성한 엑셀 파일:\", excel_file) # 생성한 파일 이름 출력"
   ]
  },
  {
   "cell_type": "markdown",
   "metadata": {},
   "source": [
    "**[6장: 291~292페이지]**"
   ]
  },
  {
   "cell_type": "code",
   "execution_count": null,
   "metadata": {},
   "outputs": [],
   "source": [
    "import xlsxwriter\n",
    "\n",
    "# 엑셀 파일 경로\n",
    "folder = 'C:/myPyExcel/data/ch06/' \n",
    "excel_file = folder + 'XlsxWriter_cell_format_04.xlsx' \n",
    "\n",
    "# 1) 생성할 엑셀 파일이름을 지정해 워크북 객체 생성\n",
    "workbook = xlsxwriter.Workbook(excel_file) \n",
    "\n",
    "# 2) 워크북 내에 사용할 워크시트 생성\n",
    "worksheet = workbook.add_worksheet() \n",
    "\n",
    "# 3) 셀 서식 지정을 위한 서식 객체 생성(속성을 지정할 수 있음)\n",
    "# 지정할 셀의 서식 만큼 서식 객체 생성\n",
    "cell_format_border = workbook.add_format()\n",
    "cell_format_border.set_border(1) # 셀의 모든 테두리 설정(1: 가는 실선)\n",
    "    \n",
    "# 리스트 컴프리헨션으로 서식 객체 리스트를 생성\n",
    "cell_formats = [workbook.add_format() for k in range(8)]\n",
    "\n",
    "# 메서드를 이용해 서식 지정\n",
    "for k in range(8):\n",
    "    cell_formats[k].set_num_format(k+1) # 서식 객체마다 메서드로 출력 형식 지정\n",
    "\n",
    "# 4) 워크시트의 셀에 쓰기 작업 수행\n",
    "num_data1 = 1234.567\n",
    "num_data2 = -1234.567\n",
    "\n",
    "worksheet.write(0, 0, '입력', cell_format_border)    # 셀 서식을 지정해 쓰기\n",
    "worksheet.write(0, 1, num_data1, cell_format_border) # 셀 서식을 지정해 쓰기\n",
    "worksheet.write(0, 2, num_data2, cell_format_border) # 셀 서식을 지정해 쓰기\n",
    "\n",
    "worksheet.write(2, 0, \"인덱스\")              # 셀 서식 지정 없이 쓰기\n",
    "worksheet.write(2, 1, \"서식 지정 출력 결과\") # 셀 서식 지정 없이 쓰기\n",
    "worksheet.write(2, 2, \"서식 지정 출력 결과\") # 셀 서식 지정 없이 쓰기\n",
    "\n",
    "for k in range(8):\n",
    "    row = k + 3   # 행 위치 지정\n",
    "    index = k + 1 # 인덱스 표시를 위한 지정\n",
    "    worksheet.write(row, 0, index)  # 셀에 셀 서식 지정 없이 쓰기\n",
    "    worksheet.write(row, 1, num_data1, cell_formats[k]) # 셀 서식을 지정해 쓰기\n",
    "    worksheet.write(row, 2, num_data2, cell_formats[k]) # 셀 서식을 지정해 쓰기\n",
    "\n",
    "# 5) 워크북 객체를 닫고 엑셀 파일 생성\n",
    "workbook.close() \n",
    "\n",
    "print(\"생성한 엑셀 파일:\", excel_file) # 생성한 파일 이름 출력"
   ]
  },
  {
   "cell_type": "markdown",
   "metadata": {},
   "source": [
    "**[6장: 292~293페이지]**"
   ]
  },
  {
   "cell_type": "code",
   "execution_count": null,
   "metadata": {},
   "outputs": [],
   "source": [
    "import xlsxwriter\n",
    "\n",
    "# 엑셀 파일 경로\n",
    "folder = 'C:/myPyExcel/data/ch06/' \n",
    "excel_file = folder + 'XlsxWriter_cell_format_05.xlsx' \n",
    "\n",
    "# 1) 생성할 엑셀 파일이름을 지정해 워크북 객체 생성\n",
    "workbook = xlsxwriter.Workbook(excel_file) \n",
    "\n",
    "# 2) 워크북 내에 사용할 워크시트 생성\n",
    "worksheet = workbook.add_worksheet() \n",
    "\n",
    "# 3) 셀 서식 지정을 위한 서식 객체 생성(속성을 지정할 수 있음)\n",
    "# 지정할 셀의 서식 만큼 서식 객체 생성\n",
    "cell_format_border = workbook.add_format()\n",
    "\n",
    "# 리스트 컴프리헨션으로 서식 객체 리스트를 생성\n",
    "cell_formats = [workbook.add_format() for k in range(5)]\n",
    "\n",
    "# 메서드를 이용해 서식 지정\n",
    "for k in range(5):\n",
    "    cell_formats[k].set_num_format(k+9) # 서식 객체마다 메서드로 출력 형식 지정\n",
    "    \n",
    "# 4) 워크시트의 셀에 쓰기 작업 수행\n",
    "num_data  = [0.98765, 0.98765, 300000000, 18.25, 20.39] # 쓰기에 이용할 리스트\n",
    "\n",
    "worksheet.write(0, 0, \"인덱스\")              # 셀에 서식 지정 없이 쓰기\n",
    "worksheet.write(0, 1, \"입력한 숫자\")         # 셀에 서식 지정 없이 쓰기\n",
    "worksheet.write(0, 2, \"서식 지정 출력 결과\") # 셀에 서식 지정 없이 쓰기\n",
    "\n",
    "for k in range(5):\n",
    "    index = k + 9 # 인덱스 \n",
    "    worksheet.write(k + 1, 0, index)       # 셀 서식 지정 없이 인덱스를 쓰기\n",
    "    worksheet.write(k + 1, 1, num_data[k]) # 셀 서식 지정 없이 num_data를 쓰기\n",
    "    worksheet.write(k + 1, 2, num_data[k], cell_formats[k])# 셀 서식 지정해 num_data를 쓰기\n",
    "\n",
    "# 5) 워크북 객체를 닫고 엑셀 파일 생성\n",
    "workbook.close() \n",
    "\n",
    "print(\"생성한 엑셀 파일:\", excel_file) # 생성한 파일 이름 출력"
   ]
  },
  {
   "cell_type": "markdown",
   "metadata": {},
   "source": [
    "**[6장: 295~296페이지]**"
   ]
  },
  {
   "cell_type": "code",
   "execution_count": null,
   "metadata": {},
   "outputs": [],
   "source": [
    "import xlsxwriter\n",
    "from datetime import datetime\n",
    "\n",
    "# 엑셀 파일 경로\n",
    "folder = 'C:/myPyExcel/data/ch06/' \n",
    "excel_file = folder + 'XlsxWriter_cell_format_06.xlsx' \n",
    "\n",
    "# 1) 생성할 엑셀 파일이름을 지정해 워크북 객체 생성\n",
    "workbook = xlsxwriter.Workbook(excel_file) \n",
    "\n",
    "# 2) 워크북 내에 사용할 워크시트 생성\n",
    "worksheet = workbook.add_worksheet() \n",
    "\n",
    "# 3) 셀 서식 지정을 위한 서식 객체 생성\n",
    "# 날짜와 시각 서식 지정을 위한 서식 지정 문자열 리스트 생성\n",
    "datetime_formats = ['m/d/yy',                          # 인덱스 14\n",
    "                    'd-mmm-yyy',                       # 인덱스 15\n",
    "                    'd-mmm',                           # 인덱스 16 \n",
    "                    'mmm-yy',                          # 인덱스 17\n",
    "                    'h:mm AM/PM',                      # 인덱스 18  \n",
    "                    'h:mm:ss AM/PM',                   # 인덱스 19\n",
    "                    'h:mm',                            # 인덱스 20\n",
    "                    'h:mm:ss',                         # 인덱스 21\n",
    "                    'm/d/yy h:mm',                     # 인덱스 22\n",
    "                    'yyyy\"년\" mm\"월\" dd\"일\"',          # 한글 날짜 표시 \n",
    "                    'yyyy\"년\" mm\"월\" dd\"일\" hh:mm:ss', # 한글 날짜와 시각 표시\n",
    "                    'yy\"년\" m\"월\" d\"일\"',              # 한글 날짜 표시 \n",
    "                    'yy\"년\" m\"월\" d\"일\" hh:mm:ss'      # 한글 날짜와 시각 표시\n",
    "                   ]\n",
    "\n",
    "# 리스트 컴프리헨션으로 서식 객체 리스트를 생성\n",
    "cell_formats = [workbook.add_format() for k in range(13)]\n",
    "\n",
    "# 메서드를 이용해 서식 지정\n",
    "for k in range(13):\n",
    "    if (k < 9):\n",
    "        # 메서드 이용 시 인덱스로 출력 형식 지정\n",
    "        cell_formats[k].set_num_format(k + 14) \n",
    "    else:\n",
    "        # 메서드 이용 시 '사용자 지정 서식 문자열'로 출력 형식 지정\n",
    "        cell_formats[k].set_num_format(datetime_formats[k])\n",
    "\n",
    "# 텍스트 굵게, 글꼴 색은 파란색으로 속성을 지정해 서식 객체 생성\n",
    "cell_format = workbook.add_format({'bold': True})\n",
    "\n",
    "# 4) 워크시트의 셀에 쓰기 작업 수행\n",
    "datetime_data = datetime(2021, 4, 8, 17, 38, 59) # 날짜 및 시각 데이터 생성\n",
    "\n",
    "# 지정한 형식으로 셀에 쓰기 수행\n",
    "worksheet.write(0, 0, \"인덱스\", cell_format)   \n",
    "worksheet.write(0, 1, \"서식 지정 문자열\", cell_format)   \n",
    "worksheet.write(0, 2, \"서식 지정 출력 결과\", cell_format)\n",
    "\n",
    "# 셀에 쓰기\n",
    "for k in range(13):\n",
    "    index = k + 14   \n",
    "    row = k + 1\n",
    "    if(k < 9):\n",
    "        worksheet.write(row, 0, index)  # 셀에 쓰기 작업 수행\n",
    "    else:\n",
    "        worksheet.write(row, 0, \"한글로 날짜 서식 지정\")\n",
    "    # 셀 서식 지정 문자열 쓰기        \n",
    "    worksheet.write(row, 1, datetime_formats[k]) \n",
    "    # datetime_data에 대해 셀 서식을 지정해 쓰기 작업 수행\n",
    "    worksheet.write(row, 2, datetime_data, cell_formats[k]) \n",
    "\n",
    "# 5) 워크북 객체를 닫고 엑셀 파일 생성\n",
    "workbook.close() \n",
    "\n",
    "print(\"생성한 엑셀 파일:\", excel_file) # 생성한 파일 이름 출력"
   ]
  },
  {
   "cell_type": "markdown",
   "metadata": {},
   "source": [
    "**[6장: 299~300페이지]**"
   ]
  },
  {
   "cell_type": "code",
   "execution_count": null,
   "metadata": {},
   "outputs": [],
   "source": [
    "import xlsxwriter\n",
    "\n",
    "# 엑셀 파일 경로\n",
    "folder = 'C:/myPyExcel/data/ch06/' \n",
    "excel_file = folder + 'XlsxWriter_cell_format_07.xlsx' \n",
    "\n",
    "# 1) 생성할 엑셀 파일이름을 지정해 워크북 객체 생성\n",
    "workbook = xlsxwriter.Workbook(excel_file) \n",
    "\n",
    "# 2) 워크북 내에 사용할 워크시트 생성\n",
    "worksheet = workbook.add_worksheet() \n",
    "\n",
    "# 3) 셀 서식 지정을 위한 서식 객체 생성\n",
    "cell_format1 = workbook.add_format({'align': 'left'})    # 가로 맞춤: 왼쪽\n",
    "cell_format2 = workbook.add_format({'align': 'center'})  # 가로 맞춤: 가운데\n",
    "cell_format3 = workbook.add_format({'align': 'right'})   # 가로 맞춤: 오른쪽\n",
    "\n",
    "cell_format4 = workbook.add_format({'valign': 'top'})     # 세로 맞춤: 위쪽\n",
    "cell_format5 = workbook.add_format({'valign': 'vcenter'}) # 세로 맞춤: 가운데\n",
    "cell_format6 = workbook.add_format({'valign': 'bottom'})  # 세로 맞춤: 아래쪽\n",
    "\n",
    "# 동시 맞춤: (가로 맞춤: 가운데), (세로 맞춤: 가운데)\n",
    "cell_format7 = workbook.add_format({'align': 'center', 'valign': 'vcenter'})\n",
    "\n",
    "# 4) 워크시트의 셀에 쓰기 작업 수행\n",
    "worksheet.write('A1', \"텍스트 맞춤(서식 지정 없음)\")\n",
    "worksheet.write('A2', \"텍스트 맞춤(가로 맞춤: 왼쪽)\", cell_format1) \n",
    "worksheet.write('A3', \"텍스트 맞춤(가로 맞춤: 가운데)\", cell_format2)\n",
    "worksheet.write('A4', \"텍스트 맞춤(가로 맞춤: 오른쪽)\", cell_format3)\n",
    "worksheet.write('A5', \"텍스트 맞춤(세로 맞춤: 위쪽)\", cell_format4)\n",
    "worksheet.write('A6', \"텍스트 맞춤(세로 맞춤: 가운데)\", cell_format5)\n",
    "worksheet.write('A7', \"텍스트 맞춤(세로 맞춤: 아래쪽)\", cell_format6)\n",
    "worksheet.write('A8', \"텍스트 맞춤(가로:가운데 + 세로:가운데)\", cell_format7)\n",
    "\n",
    "# 5) 워크북 객체를 닫고 엑셀 파일 생성\n",
    "workbook.close() \n",
    "\n",
    "print(\"생성한 엑셀 파일:\", excel_file) # 생성한 파일 이름 출력"
   ]
  },
  {
   "cell_type": "markdown",
   "metadata": {},
   "source": [
    "**[6장: 302~303페이지]**"
   ]
  },
  {
   "cell_type": "code",
   "execution_count": null,
   "metadata": {},
   "outputs": [],
   "source": [
    "import xlsxwriter\n",
    "\n",
    "# 엑셀 파일 경로\n",
    "folder = 'C:/myPyExcel/data/ch06/' \n",
    "excel_file = folder + 'XlsxWriter_cell_format_08.xlsx' \n",
    "\n",
    "# 1) 생성할 엑셀 파일이름을 지정해 워크북 객체 생성\n",
    "workbook = xlsxwriter.Workbook(excel_file) \n",
    "\n",
    "# 2) 워크북 내에 사용할 워크시트 생성\n",
    "worksheet = workbook.add_worksheet() \n",
    "\n",
    "# 3) 행과 열의 높이 지정\n",
    "# 행의 높이 지정 \n",
    "worksheet.set_row(0, 20)  # 1행\n",
    "worksheet.set_row(1, 40)  # 2행\n",
    "worksheet.set_row(2, 60)  # 3행\n",
    "\n",
    "# 열의 너비를 지정\n",
    "worksheet.set_column(0, 0, 15) # A열\n",
    "worksheet.set_column(1, 2, 20) # B~C열\n",
    "worksheet.set_column(3, 3, 25) # D열\n",
    "\n",
    "# 4) 워크시트의 셀에 쓰기 작업 수행\n",
    "worksheet.write('A1', \"높이: 20, 너비: 15\")                  \n",
    "worksheet.write('A2', \"높이: 40, 너비: 15\")   \n",
    "worksheet.write('A3', \"높이: 60, 너비: 15\") \n",
    "worksheet.write('B1', \"높이: 20, 너비: 20\")   \n",
    "worksheet.write('B2', \"높이: 40, 너비: 20\") \n",
    "worksheet.write('B3', \"높이: 60, 너비: 20\") \n",
    "worksheet.write('C1', \"높이: 20, 너비: 20\")   \n",
    "worksheet.write('C2', \"높이: 40, 너비: 20\") \n",
    "worksheet.write('C3', \"높이: 60, 너비: 20\") \n",
    "worksheet.write('D1', \"높이: 20, 너비: 25\")   \n",
    "worksheet.write('D2', \"높이: 40, 너비: 25\") \n",
    "worksheet.write('D3', \"높이: 60, 너비: 25\") \n",
    "\n",
    "# 5) 워크북 객체를 닫고 엑셀 파일 생성\n",
    "workbook.close() \n",
    "\n",
    "print(\"생성한 엑셀 파일:\", excel_file) # 생성한 파일 이름 출력"
   ]
  },
  {
   "cell_type": "markdown",
   "metadata": {},
   "source": [
    "### XlsxWriter로 그림과 텍스트 상자 삽입"
   ]
  },
  {
   "cell_type": "markdown",
   "metadata": {},
   "source": [
    "**[6장: 304~305페이지]**"
   ]
  },
  {
   "cell_type": "code",
   "execution_count": null,
   "metadata": {},
   "outputs": [],
   "source": [
    "import xlsxwriter\n",
    "\n",
    "# 엑셀 파일 경로\n",
    "folder = 'C:/myPyExcel/data/ch06/' \n",
    "excel_file = folder + 'XlsxWriter_insert_image_01.xlsx' \n",
    "\n",
    "image_file = 'C:/myPyExcel/figures/book_image.png' # 그림 파일\n",
    "\n",
    "# 1) 생성할 엑셀 파일이름을 지정해 워크북 객체 생성\n",
    "workbook = xlsxwriter.Workbook(excel_file) \n",
    "\n",
    "# 2) 워크북 내에 사용할 워크시트 생성\n",
    "worksheet = workbook.add_worksheet() \n",
    "\n",
    "# 3) 필요 시 행과 열의 높이 지정\n",
    "worksheet.set_column(0, 0, 35) # 0열 (A열)의 너비 지정\n",
    "\n",
    "# 4) 워크시트의 셀에 쓰기와 이미지 삽입 작업 수행\n",
    "worksheet.write(1, 0, \"그림 삽입(옵션 지정 없음):\")   \n",
    "worksheet.insert_image(1, 1, image_file)\n",
    "\n",
    "worksheet.write(8, 0, \"그림 삽입(가로와 세로 위치 오프셋 조정):\")   \n",
    "worksheet.write(9, 0, \"{'x_offset': 25, 'y_offset': 10}\")  \n",
    "worksheet.insert_image(8, 1, image_file, {'x_offset': 25, 'y_offset': 10})\n",
    "\n",
    "worksheet.write(15, 0, \"그림 삽입(크기 확대):\")   \n",
    "worksheet.write(16, 0, \"{'x_scale': 1.5, 'y_scale': 1.5}\")   \n",
    "worksheet.insert_image(15, 1, image_file, {'x_scale': 1.5, 'y_scale': 1.5})\n",
    "\n",
    "worksheet.write(25, 0, \"그림 삽입(크기 축소):\")   \n",
    "worksheet.write(26, 0, \"{'x_scale': 0.75, 'y_scale': 0.7}\")   \n",
    "worksheet.insert_image(25, 1, image_file, {'x_scale': 0.75, 'y_scale': 0.7})\n",
    "\n",
    "# 5) 워크북 객체를 닫고 엑셀 파일 생성\n",
    "workbook.close() \n",
    "\n",
    "print(\"생성한 엑셀 파일:\", excel_file) # 생성한 파일 이름 출력"
   ]
  },
  {
   "cell_type": "markdown",
   "metadata": {},
   "source": [
    "**[6장: 308~310페이지]**"
   ]
  },
  {
   "cell_type": "code",
   "execution_count": null,
   "metadata": {},
   "outputs": [],
   "source": [
    "import xlsxwriter\n",
    "\n",
    "# 엑셀 파일 경로\n",
    "folder = 'C:/myPyExcel/data/ch06/' \n",
    "excel_file = folder + 'XlsxWriter_insert_textbox_01.xlsx' \n",
    "\n",
    "# 1) 생성할 엑셀 파일이름을 지정해 워크북 객체 생성\n",
    "workbook = xlsxwriter.Workbook(excel_file) \n",
    "\n",
    "# 2) 워크북 내에 사용할 워크시트 생성\n",
    "worksheet = workbook.add_worksheet() \n",
    "\n",
    "# 3) 필요 시 행과 열의 높이 지정\n",
    "worksheet.set_column(0, 0, 40) # 0열 (A열)의 너비 지정\n",
    "\n",
    "# 4) 워크시트의 셀에 쓰기와 텍스트 상자 삽입 작업 수행\n",
    "text = \"텍스트 상자\"\n",
    "\n",
    "worksheet.write(1, 0, \"텍스트 상자 삽입(옵션 지정 없음):\")   \n",
    "worksheet.insert_textbox(1, 1, text)\n",
    "\n",
    "# 텍스트 상자 삽입: 위치 오프셋과 크기 조정\n",
    "worksheet.write(8, 0, \"텍스트 상자 삽입(위치 오프셋과 크기 조정):\")   \n",
    "worksheet.write(9, 0, \"{'x_offset': 25, 'y_offset': 10,\")  \n",
    "worksheet.write(10, 0, \"'width': 240, 'height': 100}\") \n",
    "\n",
    "# # 텍스트 상자의 가로와 세로 오프셋과 크기 조정\n",
    "options = {'x_offset': 25, 'y_offset': 10, \n",
    "           'width': 240, 'height': 100}\n",
    "worksheet.insert_textbox(8, 1, text, options)\n",
    "\n",
    "# 텍스트 상자 삽입: 글꼴, 맞춤 속성 지정\n",
    "worksheet.write(16, 0, \"텍스트 상자 삽입(글꼴, 맞춤 속성 지정):\")   \n",
    "worksheet.write(17, 0, \"{'align': {'vertical': 'middle', 'horizontal': 'center'},\")   \n",
    "worksheet.write(18, 0, \"'font': {'bold': True, 'size': 15}}\")   \n",
    "\n",
    "# 텍스트 상자의 맞춤 속성과 글꼴 속성 지정\n",
    "options = {'align': {'vertical': 'middle', 'horizontal': 'center'}, \n",
    "           'font': {'bold': True, 'size': 15}}\n",
    "worksheet.insert_textbox(16, 1, text, options)\n",
    "\n",
    "# 텍스트 상자 삽입: 테두리, 채우기 속성 지정\n",
    "worksheet.write(23, 0, \"텍스트 상자 삽입(테두리, 채우기 속성 지정):\")   \n",
    "worksheet.write(24, 0, \"{'border': {'color': 'black', 'width': 2}},\")  \n",
    "worksheet.write(25, 0, \"'fill': {'color': 'yellow'}}\")  \n",
    "\n",
    "# 텍스트 상자의 테두리 속성과 채우기 속성 지정\n",
    "options = {'border': {'color': 'black', 'width': 2},\n",
    "             'fill': {'color': 'yellow'}}\n",
    "worksheet.insert_textbox(23, 1, text, options)\n",
    "\n",
    "# 5) 워크북 객체를 닫고 엑셀 파일 생성\n",
    "workbook.close() \n",
    "\n",
    "print(\"생성한 엑셀 파일:\", excel_file) # 생성한 파일 이름 출력"
   ]
  },
  {
   "cell_type": "markdown",
   "metadata": {},
   "source": [
    "## 6.2 파이썬으로 엑셀과 상호 작용할 수 있는 xlwings"
   ]
  },
  {
   "cell_type": "markdown",
   "metadata": {},
   "source": [
    "### xlwings의 기본 사용법"
   ]
  },
  {
   "cell_type": "markdown",
   "metadata": {},
   "source": [
    "**[6장: 313페이지]**"
   ]
  },
  {
   "cell_type": "code",
   "execution_count": null,
   "metadata": {},
   "outputs": [],
   "source": [
    "import xlwings as xw\n",
    "\n",
    "wb = xw.Book()  # 새로운 엑셀 파일(워크북)을 생성"
   ]
  },
  {
   "cell_type": "markdown",
   "metadata": {},
   "source": [
    "**[6장: 314페이지]**"
   ]
  },
  {
   "cell_type": "code",
   "execution_count": null,
   "metadata": {},
   "outputs": [],
   "source": [
    "sht = wb.sheets['Sheet1']       # 워크시트 지정\n",
    "\n",
    "# 행과 열 번호를 지정해 셀에 데이터 쓰기\n",
    "sht.range((1,1)).value = 100    # 셀 주소 A1에 정수 쓰기\n",
    "sht.range((2,1)).value = 3.14   # 셀 주소 A2에 실수 쓰기\n",
    "sht.range((3,1)).value = \"안녕\" # 셀 주소 A3에 문자열 쓰기\n",
    "\n",
    "# 셀 주소를 지정해 셀에 데이터 쓰기\n",
    "sht.range('C1').value = '데이터 1'\n",
    "sht.range('C2').value = '데이터 2'\n",
    "sht.range('C3').value = '데이터 3'\n",
    "sht.range('C4').value = '합계' # 합계 함수 지정\n",
    "\n",
    "sht.range('D1').value = 10  # 정수    \n",
    "sht.range('D2').value = 20\n",
    "sht.range('D3').value = 30\n",
    "sht.range('D4').value = '=sum(D1:D3)' # 합계 함수 지정"
   ]
  },
  {
   "cell_type": "markdown",
   "metadata": {},
   "source": [
    "**[6장: 315페이지]**"
   ]
  },
  {
   "cell_type": "code",
   "execution_count": null,
   "metadata": {},
   "outputs": [],
   "source": [
    "print(sht.range('A1').value)\n",
    "print(sht.range('A2').value)\n",
    "print(sht.range('A3').value)"
   ]
  },
  {
   "cell_type": "code",
   "execution_count": null,
   "metadata": {},
   "outputs": [],
   "source": [
    "print(sht.range((1,4)).value)\n",
    "print(sht.range((2,4)).value)\n",
    "print(sht.range((3,4)).value)"
   ]
  },
  {
   "cell_type": "markdown",
   "metadata": {},
   "source": [
    "**[6장: 316페이지]**"
   ]
  },
  {
   "cell_type": "code",
   "execution_count": null,
   "metadata": {},
   "outputs": [],
   "source": [
    "# 엑셀 파일 경로\n",
    "folder = 'C:/myPyExcel/data/ch06/' \n",
    "excel_file = folder + 'xlwings_test_01.xlsx' \n",
    "\n",
    "wb.save(excel_file) # 엑셀 파일 저장\n",
    "\n",
    "print(\"생성한 엑셀 파일:\", excel_file) # 저장한 엑셀 파일 이름 출력"
   ]
  },
  {
   "cell_type": "code",
   "execution_count": null,
   "metadata": {},
   "outputs": [],
   "source": [
    "wb.close()"
   ]
  },
  {
   "cell_type": "markdown",
   "metadata": {},
   "source": [
    "### xlwings로 다양한 자료형 데이터 쓰고 읽기"
   ]
  },
  {
   "cell_type": "markdown",
   "metadata": {},
   "source": [
    "**[6장: 317~318페이지]**"
   ]
  },
  {
   "cell_type": "code",
   "execution_count": null,
   "metadata": {},
   "outputs": [],
   "source": [
    "import xlwings as xw\n",
    "import numpy as np\n",
    "import pandas as pd\n",
    "\n",
    "wb = xw.Book()  # 새로운 엑셀 파일(워크북)을 생성\n",
    "sht = wb.sheets['Sheet1'] # 워크시트 지정\n",
    "\n",
    "# 리스트 데이터 쓰기\n",
    "sht.range('A1').value = \"리스트 데이터 쓰기\"\n",
    "list_data_2d = [[10, 20, 30], [40, 50, 60], [70, 80, 90]] # 2차원 리스트 생성\n",
    "sht.range((2,1)).value = list_data_2d  # 셀 주소: A2\n",
    "\n",
    "# 넘파이 배열 데이터 쓰기\n",
    "sht.range('A6').value = \"넘파이 배열 데이터 쓰기\"\n",
    "list_data_1d = [10, 20, 30, 40, 50] # 1차원 리스트 생성\n",
    "numpy_data = np.array(list_data_1d) # 1차원 배열 생성\n",
    "sht.range((7,1)).value = numpy_data  # 셀 주소: A7\n",
    "\n",
    "# 판다스 Series 데이터 쓰기\n",
    "sht.range('A9').value = \"판다스 Series 데이터 쓰기\"\n",
    "series_data = pd.Series(list_data_1d) # 리스트로 Series 데이터 생성\n",
    "sht.range('A10').value = series_data\n",
    "\n",
    "# 판다스 DataFrame 데이터 쓰기\n",
    "sht.range('A16').value = \"판다스 DataFrame 데이터 쓰기\"\n",
    "df_data = pd.DataFrame(list_data_2d, columns=['A', 'B', 'C'])\n",
    "sht.range('A17').value = df_data\n",
    "\n",
    "# 엑셀 파일 경로\n",
    "folder = 'C:/myPyExcel/data/ch06/' \n",
    "excel_file = folder + 'xlwings_test_02.xlsx' \n",
    "\n",
    "wb.save(excel_file) # 엑셀 파일 저장\n",
    "\n",
    "print(\"생성한 엑셀 파일:\", excel_file) # 저장한 엑셀 파일 이름 출력"
   ]
  },
  {
   "cell_type": "markdown",
   "metadata": {},
   "source": [
    "**[6장: 320~321페이지]**"
   ]
  },
  {
   "cell_type": "code",
   "execution_count": null,
   "metadata": {},
   "outputs": [],
   "source": [
    "import xlwings as xw\n",
    "import numpy as np\n",
    "import pandas as pd\n",
    "\n",
    "# 엑셀 파일 경로\n",
    "folder = 'C:/myPyExcel/data/ch06/' \n",
    "excel_file = folder + 'xlwings_test_02.xlsx' \n",
    "\n",
    "wb = xw.Book(excel_file) # 기존에 있는 엑셀 파일(excel_file)을 열기\n",
    "\n",
    "sht = wb.sheets['Sheet1'] # 워크시트 지정\n",
    "\n",
    "# 워크시트에 있는 표 데이터를 리스트 데이터로 읽기\n",
    "list_data1 = sht.range('A2').options(expand='table').value \n",
    "list_data1"
   ]
  },
  {
   "cell_type": "markdown",
   "metadata": {},
   "source": [
    "**[6장: 321페이지]**"
   ]
  },
  {
   "cell_type": "code",
   "execution_count": null,
   "metadata": {},
   "outputs": [],
   "source": [
    "# 워크시트에 있는 표 데이터를 넘파이 배열 데이터로 읽기\n",
    "array_data1 = sht.range('A7').options(np.array, expand='table').value \n",
    "array_data1"
   ]
  },
  {
   "cell_type": "code",
   "execution_count": null,
   "metadata": {},
   "outputs": [],
   "source": [
    "# 워크시트에 있는 표 데이터를 판다스의 Series 데이터로 읽어 오기\n",
    "series_data1 = sht.range('A10').options(pd.Series, expand='table', header=False).value\n",
    "series_data1"
   ]
  },
  {
   "cell_type": "markdown",
   "metadata": {},
   "source": [
    "**[6장: 322페이지]**"
   ]
  },
  {
   "cell_type": "code",
   "execution_count": null,
   "metadata": {},
   "outputs": [],
   "source": [
    "# 워크시트에 있는 표 데이터를 판다스의 Series 데이터로 읽기\n",
    "series_data2 = sht.range('B10').options(pd.Series, expand='table',\n",
    "                                        header=False, index=False).value \n",
    "series_data2"
   ]
  },
  {
   "cell_type": "code",
   "execution_count": null,
   "metadata": {},
   "outputs": [],
   "source": [
    "# 워크시트에 있는 표 데이터를 판다스의 DataFrame 데이터로 읽기\n",
    "df_data1 = sht.range('A17').options(pd.DataFrame, expand='table').value\n",
    "df_data1"
   ]
  },
  {
   "cell_type": "markdown",
   "metadata": {},
   "source": [
    "**[6장: 323페이지]**"
   ]
  },
  {
   "cell_type": "code",
   "execution_count": null,
   "metadata": {},
   "outputs": [],
   "source": [
    "# 워크시트에 있는 표 데이터를 판다스의 DataFrame 데이터로 읽기\n",
    "df_data2 = sht.range('B17').options(pd.DataFrame, expand='table', index=False).value \n",
    "df_data2"
   ]
  },
  {
   "cell_type": "markdown",
   "metadata": {},
   "source": [
    "**[6장: 323~324페이지]**"
   ]
  },
  {
   "cell_type": "code",
   "execution_count": null,
   "metadata": {
    "scrolled": true
   },
   "outputs": [],
   "source": [
    "# 엑셀 파일 경로\n",
    "folder = 'C:/myPyExcel/data/ch06/' \n",
    "excel_file = folder + 'xlwings_test_03.xlsx' \n",
    "\n",
    "wb = xw.Book(excel_file) # 기존에 있는 엑셀 파일(excel_file)을 열기\n",
    "\n",
    "sht = wb.sheets['Sheet1'] # 워크시트 지정\n",
    "\n",
    "# 워크시트에 있는 표 데이터를 판다스의 DataFrame 데이터로 읽기\n",
    "df_data3 = sht.range((1,1)).options(pd.DataFrame, expand='table', index=False).value \n",
    "df_data3"
   ]
  },
  {
   "cell_type": "markdown",
   "metadata": {},
   "source": [
    "**[6장: 324페이지]**"
   ]
  },
  {
   "cell_type": "code",
   "execution_count": null,
   "metadata": {},
   "outputs": [],
   "source": [
    "df_data3['사번'].dtype"
   ]
  },
  {
   "cell_type": "code",
   "execution_count": null,
   "metadata": {},
   "outputs": [],
   "source": [
    "df_data3['이름'].dtype"
   ]
  },
  {
   "cell_type": "code",
   "execution_count": null,
   "metadata": {},
   "outputs": [],
   "source": [
    "df_data3['입사일'].dtype"
   ]
  },
  {
   "cell_type": "markdown",
   "metadata": {},
   "source": [
    "**[6장: 325페이지]**"
   ]
  },
  {
   "cell_type": "code",
   "execution_count": null,
   "metadata": {},
   "outputs": [],
   "source": [
    "df_data3['사번'] = df_data3['사번'].astype(int) # 열 데이터의 자료형을 정수로 변환 \n",
    "df_data3"
   ]
  },
  {
   "cell_type": "code",
   "execution_count": null,
   "metadata": {},
   "outputs": [],
   "source": [
    "df_data3['사번'].dtype"
   ]
  },
  {
   "cell_type": "markdown",
   "metadata": {},
   "source": [
    "### xlwings로 엑셀 파일 출력하기"
   ]
  },
  {
   "cell_type": "markdown",
   "metadata": {},
   "source": [
    "**[6장: 327페이지]**"
   ]
  },
  {
   "cell_type": "code",
   "execution_count": null,
   "metadata": {},
   "outputs": [],
   "source": [
    "import xlwings as xw\n",
    "import numpy as np\n",
    "import pandas as pd\n",
    "\n",
    "# 엑셀 파일 경로\n",
    "folder = 'C:/myPyExcel/data/ch06/' \n",
    "excel_file = folder + 'xlwings_test_02.xlsx' \n",
    "\n",
    "wb = xw.Book(excel_file) # 기존에 있는 엑셀 파일(excel_file)을 열기\n",
    "\n",
    "# wb.sheets['Sheet1'].api.PrintOut() # 기본 프린터로 워크시트 내용 출력\n",
    "# wb.api.PrintOut() # 이 코드도 동작\n",
    "\n",
    "wb.close() # 열려 있는 엑셀 파일(워크북) 객체를 닫기"
   ]
  },
  {
   "cell_type": "markdown",
   "metadata": {},
   "source": [
    "**[6장: 328페이지]**"
   ]
  },
  {
   "cell_type": "code",
   "execution_count": null,
   "metadata": {
    "scrolled": true
   },
   "outputs": [],
   "source": [
    "import xlwings as xw\n",
    "from pathlib import Path\n",
    "\n",
    "# 엑셀 파일 경로\n",
    "folder = 'C:/myPyExcel/data/ch06/' \n",
    "excel_file = folder + 'xlwings_test_02.xlsx' \n",
    "\n",
    "# 출력할 PDF 파일 경로\n",
    "pdf_file = folder + 'xlwings_test_02.pdf' \n",
    "\n",
    "wb = xw.Book(excel_file) # 기존에 있는 엑셀 파일(excel_file)을 열기\n",
    "\n",
    "wb.sheets['Sheet1'].api.ExportAsFixedFormat(0, pdf_file) # PDF 파일 생성\n",
    "# wb.api.ExportAsFixedFormat(0, pdf_file) # 이 코드도 동작\n",
    "\n",
    "wb.close() # 열려 있는 엑셀 파일(워크북) 객체를 닫기\n",
    "\n",
    "print(\"생성한 PDF 파일:\", pdf_file) # 저장한 PDF 파일 이름 출력"
   ]
  },
  {
   "cell_type": "markdown",
   "metadata": {},
   "source": [
    "**[6장: 329~330페이지]**"
   ]
  },
  {
   "cell_type": "code",
   "execution_count": null,
   "metadata": {
    "scrolled": true
   },
   "outputs": [],
   "source": [
    "import xlwings as xw\n",
    "from pathlib import Path\n",
    "\n",
    "# 엑셀 파일 경로\n",
    "folder = 'C:/myPyExcel/data/ch06/' \n",
    "excel_file = folder + 'xlwings_test_02.xlsx' \n",
    "\n",
    "# 출력할 PDF 파일 경로\n",
    "pdf_file = folder + 'xlwings_test_02.pdf' \n",
    "\n",
    "wb = xw.Book(excel_file) # 기존에 있는 엑셀 파일(excel_file)을 열기\n",
    "\n",
    "file_path = Path(pdf_file) # Path 클래스로부터 객체 생성\n",
    "\n",
    "if(file_path.exists() == True): # 객체를 이용해 파일이 있는지 검사\n",
    "    file_path.unlink()           # 파일이 있다면 제거\n",
    "\n",
    "wb.sheets['Sheet1'].api.ExportAsFixedFormat(0, pdf_file) # PDF 파일 생성\n",
    "# wb.api.ExportAsFixedFormat(0, pdf_file) # 이 코드도 동작\n",
    "\n",
    "wb.close() # 열려 있는 엑셀 파일(워크북) 객체를 닫기\n",
    "\n",
    "print(\"생성한 PDF 파일:\", pdf_file) # 저장한 PDF 파일 이름 출력"
   ]
  },
  {
   "cell_type": "markdown",
   "metadata": {},
   "source": [
    "## 6.3 정리"
   ]
  }
 ],
 "metadata": {
  "kernelspec": {
   "display_name": "Python 3",
   "language": "python",
   "name": "python3"
  },
  "language_info": {
   "codemirror_mode": {
    "name": "ipython",
    "version": 3
   },
   "file_extension": ".py",
   "mimetype": "text/x-python",
   "name": "python",
   "nbconvert_exporter": "python",
   "pygments_lexer": "ipython3",
   "version": "3.8.3"
  },
  "toc": {
   "base_numbering": "6",
   "nav_menu": {},
   "number_sections": false,
   "sideBar": true,
   "skip_h1_title": false,
   "title_cell": "Table of Contents",
   "title_sidebar": "Contents",
   "toc_cell": false,
   "toc_position": {
    "height": "825px",
    "left": "101px",
    "top": "142.133px",
    "width": "441px"
   },
   "toc_section_display": true,
   "toc_window_display": false
  }
 },
 "nbformat": 4,
 "nbformat_minor": 2
}
