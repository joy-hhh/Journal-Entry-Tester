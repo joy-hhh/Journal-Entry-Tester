{
 "cells": [
  {
   "cell_type": "markdown",
   "metadata": {},
   "source": [
    "# 5장 데이터 처리와 분석을 위한 라이브러리"
   ]
  },
  {
   "cell_type": "markdown",
   "metadata": {},
   "source": [
    "## 5.1 배열 데이터 연산에 효율적인 넘파이(NumPy)"
   ]
  },
  {
   "cell_type": "markdown",
   "metadata": {},
   "source": [
    "### 배열 데이터 생성"
   ]
  },
  {
   "cell_type": "markdown",
   "metadata": {},
   "source": [
    "**[5장: 150페이지]**"
   ]
  },
  {
   "cell_type": "code",
   "execution_count": null,
   "metadata": {},
   "outputs": [],
   "source": [
    "import numpy as np\n",
    "\n",
    "list_data = [0, 1, 2, 3, 4, 5.0]\n",
    "a1 = np.array(list_data)\n",
    "a1"
   ]
  },
  {
   "cell_type": "markdown",
   "metadata": {},
   "source": [
    "**[5장: 151페이지]**"
   ]
  },
  {
   "cell_type": "code",
   "execution_count": null,
   "metadata": {},
   "outputs": [],
   "source": [
    "type(a1)"
   ]
  },
  {
   "cell_type": "code",
   "execution_count": null,
   "metadata": {},
   "outputs": [],
   "source": [
    "a2 = np.array([[1, 2, 3], [4, 5, 6], [7, 8, 9]])\n",
    "a2"
   ]
  },
  {
   "cell_type": "markdown",
   "metadata": {},
   "source": [
    "**[5장: 152페이지]**"
   ]
  },
  {
   "cell_type": "code",
   "execution_count": null,
   "metadata": {},
   "outputs": [],
   "source": [
    "a3 = np.array(['abc', 'def', '123'])\n",
    "a3"
   ]
  },
  {
   "cell_type": "code",
   "execution_count": null,
   "metadata": {},
   "outputs": [],
   "source": [
    "a4 = np.array([10, 'hello', 'python', 3.14])\n",
    "a4"
   ]
  },
  {
   "cell_type": "markdown",
   "metadata": {},
   "source": [
    "**[5장: 153페이지]**"
   ]
  },
  {
   "cell_type": "code",
   "execution_count": null,
   "metadata": {},
   "outputs": [],
   "source": [
    "np.arange(0, 10, 1)  # start, stop, step 모두 지정"
   ]
  },
  {
   "cell_type": "code",
   "execution_count": null,
   "metadata": {},
   "outputs": [],
   "source": [
    "np.arange(0, 10)     # start, stop만 지정(step=1)"
   ]
  },
  {
   "cell_type": "code",
   "execution_count": null,
   "metadata": {},
   "outputs": [],
   "source": [
    "np.arange(10)        # stop만 지정(start=0. step=1)"
   ]
  },
  {
   "cell_type": "code",
   "execution_count": null,
   "metadata": {},
   "outputs": [],
   "source": [
    "np.arange(0, 5, 0.5) # start, stop, step 모두 지정"
   ]
  },
  {
   "cell_type": "markdown",
   "metadata": {},
   "source": [
    "**[5장: 154페이지]**"
   ]
  },
  {
   "cell_type": "code",
   "execution_count": null,
   "metadata": {},
   "outputs": [],
   "source": [
    "np.linspace(1, 10, 10) # start, stop, num 지정"
   ]
  },
  {
   "cell_type": "code",
   "execution_count": null,
   "metadata": {
    "scrolled": true
   },
   "outputs": [],
   "source": [
    "np.linspace(0, np.pi, 20)"
   ]
  },
  {
   "cell_type": "code",
   "execution_count": null,
   "metadata": {},
   "outputs": [],
   "source": [
    "arr1 = np.array([0, 1, 2, 3, 4, 5])     # 1차원 배열\n",
    "arr1.shape"
   ]
  },
  {
   "cell_type": "code",
   "execution_count": null,
   "metadata": {},
   "outputs": [],
   "source": [
    "arr2 = np.array([[0, 1, 2], [3, 4, 5]]) # 2차원 배열\n",
    "arr2.shape"
   ]
  },
  {
   "cell_type": "markdown",
   "metadata": {},
   "source": [
    "**[5장: 155페이지]**"
   ]
  },
  {
   "cell_type": "code",
   "execution_count": null,
   "metadata": {},
   "outputs": [],
   "source": [
    "arr1  # 1차원 배열 출력"
   ]
  },
  {
   "cell_type": "code",
   "execution_count": null,
   "metadata": {},
   "outputs": [],
   "source": [
    "arr1.reshape(2, 3) # 1차원 배열을 2차원 배열로 재구성 "
   ]
  },
  {
   "cell_type": "code",
   "execution_count": null,
   "metadata": {},
   "outputs": [],
   "source": [
    "arr2  # 2차원 배열 출력"
   ]
  },
  {
   "cell_type": "code",
   "execution_count": null,
   "metadata": {},
   "outputs": [],
   "source": [
    "arr2.reshape(6,) # 2차원 배열을 1차원 배열로 재구성"
   ]
  },
  {
   "cell_type": "markdown",
   "metadata": {},
   "source": [
    "**[5장: 156페이지]**"
   ]
  },
  {
   "cell_type": "code",
   "execution_count": null,
   "metadata": {},
   "outputs": [],
   "source": [
    "np.arange(0, 24, 1).reshape(2, 3, 4) # 1차원 배열을 3차원 배열로 재구성 "
   ]
  },
  {
   "cell_type": "code",
   "execution_count": null,
   "metadata": {},
   "outputs": [],
   "source": [
    "new_arr1 = arr1.reshape(6, 1) # 6 x 1 형태의 2차원 배열로 재구성\n",
    "new_arr1"
   ]
  },
  {
   "cell_type": "code",
   "execution_count": null,
   "metadata": {},
   "outputs": [],
   "source": [
    "new_arr2 = arr1.reshape(1, 6) # 1 x 6 형태의 2차원 배열로 재구성\n",
    "new_arr2"
   ]
  },
  {
   "cell_type": "code",
   "execution_count": null,
   "metadata": {},
   "outputs": [],
   "source": [
    "[arr1.ndim, new_arr1.ndim, new_arr2.ndim] # 리스트로 묶어서 출력"
   ]
  },
  {
   "cell_type": "markdown",
   "metadata": {},
   "source": [
    "**[5장: 157페이지]**"
   ]
  },
  {
   "cell_type": "code",
   "execution_count": null,
   "metadata": {},
   "outputs": [],
   "source": [
    "arr1.reshape(2, -1) # arr1.reshape(2, 3)과 동일"
   ]
  },
  {
   "cell_type": "code",
   "execution_count": null,
   "metadata": {},
   "outputs": [],
   "source": [
    "arr1.reshape(-1, 2) # arr1.reshape(3, 2)와 동일"
   ]
  },
  {
   "cell_type": "code",
   "execution_count": null,
   "metadata": {},
   "outputs": [],
   "source": [
    "arr1.reshape(-1, 1) # arr1.reshape(6, 1)과 동일"
   ]
  },
  {
   "cell_type": "code",
   "execution_count": null,
   "metadata": {
    "scrolled": false
   },
   "outputs": [],
   "source": [
    "np.arange(0, 24, 1).reshape(2, 3, -1) # arr1.reshape(2, 3, 4)와 동일"
   ]
  },
  {
   "cell_type": "markdown",
   "metadata": {},
   "source": [
    "**[5장: 159페이지]**"
   ]
  },
  {
   "cell_type": "code",
   "execution_count": null,
   "metadata": {},
   "outputs": [],
   "source": [
    "arr1 = np.array([0, 1, 2, 3, 4, 5]) # 정수 배열\n",
    "arr1"
   ]
  },
  {
   "cell_type": "code",
   "execution_count": null,
   "metadata": {},
   "outputs": [],
   "source": [
    "arr1 = np.array([0, 1, 2, 3, 4, 5], dtype=np.int) # 정수 배열\n",
    "arr1.dtype"
   ]
  },
  {
   "cell_type": "markdown",
   "metadata": {},
   "source": [
    "**[5장: 160페이지]**"
   ]
  },
  {
   "cell_type": "code",
   "execution_count": null,
   "metadata": {},
   "outputs": [],
   "source": [
    "arr2 = arr1.astype(np.uint) # 부호 없는 정수로 변경\n",
    "arr2"
   ]
  },
  {
   "cell_type": "code",
   "execution_count": null,
   "metadata": {},
   "outputs": [],
   "source": [
    "arr3 = arr1.astype(np.float)\n",
    "arr3"
   ]
  },
  {
   "cell_type": "code",
   "execution_count": null,
   "metadata": {},
   "outputs": [],
   "source": [
    "arr3.dtype # 배열 요소의 데이터 타입 출력 "
   ]
  },
  {
   "cell_type": "code",
   "execution_count": null,
   "metadata": {},
   "outputs": [],
   "source": [
    "arr4 = np.array([10.0, 10.1, 10.2, 10.3, 10.4, 10.5]) # 실수 배열\n",
    "arr4"
   ]
  },
  {
   "cell_type": "code",
   "execution_count": null,
   "metadata": {},
   "outputs": [],
   "source": [
    "arr5 = arr4.astype(np.int)\n",
    "arr5"
   ]
  },
  {
   "cell_type": "markdown",
   "metadata": {},
   "source": [
    "**[5장: 161페이지]**"
   ]
  },
  {
   "cell_type": "code",
   "execution_count": null,
   "metadata": {},
   "outputs": [],
   "source": [
    "arr6 = np.array(['abc', 'def', '123456']) # 실수 배열\n",
    "arr6"
   ]
  },
  {
   "cell_type": "markdown",
   "metadata": {},
   "source": [
    "### 배열 데이터 연산"
   ]
  },
  {
   "cell_type": "markdown",
   "metadata": {},
   "source": [
    "**[5장: 161페이지]**"
   ]
  },
  {
   "cell_type": "code",
   "execution_count": null,
   "metadata": {},
   "outputs": [],
   "source": [
    "import numpy as np\n",
    "\n",
    "arr1 = np.array([10, 20, 30, 40])\n",
    "arr2 = np.array([1, 2, 3, 4])\n",
    "\n",
    "arr1 + arr2  # 덧셈"
   ]
  },
  {
   "cell_type": "code",
   "execution_count": null,
   "metadata": {},
   "outputs": [],
   "source": [
    "arr1 - arr2 # 뺄셈"
   ]
  },
  {
   "cell_type": "code",
   "execution_count": null,
   "metadata": {},
   "outputs": [],
   "source": [
    "arr1 * arr2 # 곱셈"
   ]
  },
  {
   "cell_type": "markdown",
   "metadata": {},
   "source": [
    "**[5장: 162페이지]**"
   ]
  },
  {
   "cell_type": "code",
   "execution_count": null,
   "metadata": {},
   "outputs": [],
   "source": [
    "arr1 / arr2 # 나눗셈"
   ]
  },
  {
   "cell_type": "code",
   "execution_count": null,
   "metadata": {},
   "outputs": [],
   "source": [
    "arr2 + 10 # 배열의 각 요소에 상수 덧셈"
   ]
  },
  {
   "cell_type": "code",
   "execution_count": null,
   "metadata": {},
   "outputs": [],
   "source": [
    "arr2 - 1 # 배열의 각 요소에 상수 뺄셈"
   ]
  },
  {
   "cell_type": "code",
   "execution_count": null,
   "metadata": {},
   "outputs": [],
   "source": [
    "arr2 * 2 # 배열의 각 요소에 상수 곱셈"
   ]
  },
  {
   "cell_type": "code",
   "execution_count": null,
   "metadata": {},
   "outputs": [],
   "source": [
    "arr2 / 10 # 배열의 각 요소에 상수 나눗셈"
   ]
  },
  {
   "cell_type": "code",
   "execution_count": null,
   "metadata": {},
   "outputs": [],
   "source": [
    "arr2 ** 2 # 배열의 각 요소에 거듭제곱"
   ]
  },
  {
   "cell_type": "code",
   "execution_count": null,
   "metadata": {},
   "outputs": [],
   "source": [
    "arr1 >= 30 # 배열의 각 요소에 비교 연산"
   ]
  },
  {
   "cell_type": "markdown",
   "metadata": {},
   "source": [
    "**[5장: 163페이지]**"
   ]
  },
  {
   "cell_type": "code",
   "execution_count": null,
   "metadata": {},
   "outputs": [],
   "source": [
    "x = np.linspace(0, np.pi * 2, 20 )\n",
    "np.sin(x)"
   ]
  },
  {
   "cell_type": "code",
   "execution_count": null,
   "metadata": {},
   "outputs": [],
   "source": [
    "def my_square(a):\n",
    "    return a**2\n",
    "\n",
    "my_square(arr2) # 함수 호출"
   ]
  },
  {
   "cell_type": "markdown",
   "metadata": {},
   "source": [
    "**[5장: 164페이지]**"
   ]
  },
  {
   "cell_type": "code",
   "execution_count": null,
   "metadata": {},
   "outputs": [],
   "source": [
    "import numpy as np\n",
    "\n",
    "arr3 = np.array([1, 2, 3, 4, 5]) # 배열의 생성\n",
    "[arr3.sum(), arr3.mean()]        # 합, 평균"
   ]
  },
  {
   "cell_type": "code",
   "execution_count": null,
   "metadata": {},
   "outputs": [],
   "source": [
    "[arr3.std(), arr3.var()] # 표준편차, 분산"
   ]
  },
  {
   "cell_type": "code",
   "execution_count": null,
   "metadata": {},
   "outputs": [],
   "source": [
    "[arr3.min(), arr3.max()] # 최소, 최대"
   ]
  },
  {
   "cell_type": "code",
   "execution_count": null,
   "metadata": {},
   "outputs": [],
   "source": [
    "arr3.cumsum() # 누적 합"
   ]
  },
  {
   "cell_type": "code",
   "execution_count": null,
   "metadata": {},
   "outputs": [],
   "source": [
    "arr3.cumprod() # 누적 곱"
   ]
  },
  {
   "cell_type": "markdown",
   "metadata": {},
   "source": [
    "### 배열 데이터 선택"
   ]
  },
  {
   "cell_type": "markdown",
   "metadata": {},
   "source": [
    "**[5장: 165페이지]**"
   ]
  },
  {
   "cell_type": "code",
   "execution_count": null,
   "metadata": {},
   "outputs": [],
   "source": [
    "import numpy as np\n",
    "\n",
    "a1 = np.array([0, 10, 20, 30, 40, 50]) # 1차원 배열 생성\n",
    "[a1[0], a1[3], a1[5], a1[-1], a1[-2]]  # 배열 인덱싱의 다양한 예"
   ]
  },
  {
   "cell_type": "code",
   "execution_count": null,
   "metadata": {},
   "outputs": [],
   "source": [
    "a1[4] = 90\n",
    "a1"
   ]
  },
  {
   "cell_type": "code",
   "execution_count": null,
   "metadata": {
    "scrolled": true
   },
   "outputs": [],
   "source": [
    "a2 = np.array([0, 10, 20, 30, 40, 50]) # 1차원 배열 생성\n",
    "a2[[4, 0, 5, -1, -2]] # 배열의 위치로 여러 개의 요소를 선택"
   ]
  },
  {
   "cell_type": "markdown",
   "metadata": {},
   "source": [
    "**[5장: 166페이지]**"
   ]
  },
  {
   "cell_type": "code",
   "execution_count": null,
   "metadata": {},
   "outputs": [],
   "source": [
    "a = np.array([0, 1, 2, 3, 4, 5, 6, 7, 8, 9])\n",
    "a"
   ]
  },
  {
   "cell_type": "code",
   "execution_count": null,
   "metadata": {},
   "outputs": [],
   "source": [
    "a[a >= 5]"
   ]
  },
  {
   "cell_type": "code",
   "execution_count": null,
   "metadata": {},
   "outputs": [],
   "source": [
    "a[(a % 2) == 0]"
   ]
  },
  {
   "cell_type": "code",
   "execution_count": null,
   "metadata": {},
   "outputs": [],
   "source": [
    "a[ ((a % 2)==0) & (a > 5) ] # 두 조건을 동시에 만족하는 요소만 선택"
   ]
  },
  {
   "cell_type": "code",
   "execution_count": null,
   "metadata": {},
   "outputs": [],
   "source": [
    "a[ ((a % 2)==0) | (a > 5) ] # 두 조건 중 하나만 만족해도 요소 선택"
   ]
  },
  {
   "cell_type": "code",
   "execution_count": null,
   "metadata": {},
   "outputs": [],
   "source": [
    "a[ ~((a % 2)==0) ] # 짝수를 찾는 조건의 논리 부정을 이용해 홀수 선택"
   ]
  },
  {
   "cell_type": "markdown",
   "metadata": {},
   "source": [
    "**[5장: 167페이지]**"
   ]
  },
  {
   "cell_type": "code",
   "execution_count": null,
   "metadata": {},
   "outputs": [],
   "source": [
    "import numpy as np\n",
    "\n",
    "a1 = np.array([0, 10, 20, 30, 40, 50]) # 1차원 배열 생성\n",
    "\n",
    "a1[1:4] # start, end를 모두 지정해 슬라이싱. 선택 범위: start ~ end-1"
   ]
  },
  {
   "cell_type": "code",
   "execution_count": null,
   "metadata": {},
   "outputs": [],
   "source": [
    "a1[:3] # end만 지정해 슬라이싱. 선택 범위: 0 ~ end-1"
   ]
  },
  {
   "cell_type": "code",
   "execution_count": null,
   "metadata": {},
   "outputs": [],
   "source": [
    "a1[2:] # start만 지정해 슬라이싱. 선택 범위: start ~ 배열의_마지막_위치"
   ]
  },
  {
   "cell_type": "code",
   "execution_count": null,
   "metadata": {},
   "outputs": [],
   "source": [
    "a1[:] # start, end 모두 지정하지 않으면 배열 전체가 선택됨"
   ]
  },
  {
   "cell_type": "markdown",
   "metadata": {},
   "source": [
    "**[5장: 168페이지]**"
   ]
  },
  {
   "cell_type": "code",
   "execution_count": null,
   "metadata": {},
   "outputs": [],
   "source": [
    "a1[2:5] = np.array([25, 35, 45]) # 선택한 위치(2, 3, 4)의 요소를 새로운 배열로 변경\n",
    "a1"
   ]
  },
  {
   "cell_type": "code",
   "execution_count": null,
   "metadata": {},
   "outputs": [],
   "source": [
    "a1[3:6] = 70 # 선택한 위치(3, 4, 5)의 요소를 모두 스칼라 값으로 변경\n",
    "a1"
   ]
  },
  {
   "cell_type": "code",
   "execution_count": null,
   "metadata": {},
   "outputs": [],
   "source": [
    "a2 = np.array([0, 10, 20, 30, 40, 50, 60, 70, 80, 90]) # 1차원 배열 생성\n",
    "\n",
    "a2[0:10:2] # 선택 범위: start~end-1, 증가폭(step): 2                             "
   ]
  },
  {
   "cell_type": "code",
   "execution_count": null,
   "metadata": {},
   "outputs": [],
   "source": [
    "a2[2:8:3] # 선택 범위: start~end-1, 증가폭(step): 3"
   ]
  },
  {
   "cell_type": "code",
   "execution_count": null,
   "metadata": {},
   "outputs": [],
   "source": [
    "a2[0:10:] # 선택 범위: start ~ end-1, 증가폭(step): 1"
   ]
  },
  {
   "cell_type": "markdown",
   "metadata": {},
   "source": [
    "**[5장: 169페이지]**"
   ]
  },
  {
   "cell_type": "code",
   "execution_count": null,
   "metadata": {},
   "outputs": [],
   "source": [
    "a2[3::] # 선택 범위: start~배열의_마지막_위치, 증가폭(step): 1"
   ]
  },
  {
   "cell_type": "code",
   "execution_count": null,
   "metadata": {},
   "outputs": [],
   "source": [
    "a2[:5:] # 선택 범위: 0~end-1, 증가폭(step): 1"
   ]
  },
  {
   "cell_type": "code",
   "execution_count": null,
   "metadata": {},
   "outputs": [],
   "source": [
    "a2[::] # 선택 범위: 0 ~ 배열의_마지막_위치, 증가폭(step): 1"
   ]
  },
  {
   "cell_type": "code",
   "execution_count": null,
   "metadata": {},
   "outputs": [],
   "source": [
    "a2[::-1] # 선택 범위: 배열의_마지막_위치~0, 증가폭(step): -1 -> 역순으로 선택"
   ]
  },
  {
   "cell_type": "code",
   "execution_count": null,
   "metadata": {},
   "outputs": [],
   "source": [
    "a2[8:2:-2] # 증가폭(step): -2 -> 역순으로 선택"
   ]
  },
  {
   "cell_type": "markdown",
   "metadata": {},
   "source": [
    "## 5.2 표 데이터 처리에 강한 판다스(pandas)"
   ]
  },
  {
   "cell_type": "markdown",
   "metadata": {},
   "source": [
    "### 데이터 구조와 생성"
   ]
  },
  {
   "cell_type": "markdown",
   "metadata": {},
   "source": [
    "**[5장: 171페이지]**"
   ]
  },
  {
   "cell_type": "code",
   "execution_count": null,
   "metadata": {},
   "outputs": [],
   "source": [
    "import pandas as pd\n",
    "\n",
    "s1 = pd.Series([10, 20, 30, 40, 50]) # 리스트로 Series 데이터 생성\n",
    "s1"
   ]
  },
  {
   "cell_type": "code",
   "execution_count": null,
   "metadata": {},
   "outputs": [],
   "source": [
    "s1.index"
   ]
  },
  {
   "cell_type": "markdown",
   "metadata": {},
   "source": [
    "**[5장: 172페이지]**"
   ]
  },
  {
   "cell_type": "code",
   "execution_count": null,
   "metadata": {},
   "outputs": [],
   "source": [
    "s1.values"
   ]
  },
  {
   "cell_type": "code",
   "execution_count": null,
   "metadata": {
    "scrolled": false
   },
   "outputs": [],
   "source": [
    "import numpy as np\n",
    "\n",
    "index_data = ['2020-02-27','2020-02-28','2020-02-29','2020-03-01'] # 날짜 지정 \n",
    "data = [3500, 3579, np.nan, 3782]      # 데이터 지정\n",
    "\n",
    "s2 = pd.Series(data, index=index_data) # Series 데이터 생성\n",
    "s2"
   ]
  },
  {
   "cell_type": "code",
   "execution_count": null,
   "metadata": {},
   "outputs": [],
   "source": [
    "s3 = pd.Series({'국어': 100, '영어': 95, '수학': 90})\n",
    "s3"
   ]
  },
  {
   "cell_type": "markdown",
   "metadata": {},
   "source": [
    "**[5장: 174페이지]**"
   ]
  },
  {
   "cell_type": "code",
   "execution_count": null,
   "metadata": {},
   "outputs": [],
   "source": [
    "index_data = pd.date_range(start='2020-02-27', end='2020-03-01') # 날짜 생성\n",
    "data = [3500, 3579, np.nan, 3782] # 데이터 지정\n",
    "\n",
    "pd.Series(data, index=index_data) # Series 데이터 생성"
   ]
  },
  {
   "cell_type": "code",
   "execution_count": null,
   "metadata": {},
   "outputs": [],
   "source": [
    "# 시작일~종료일 이틀 주기(freq='2D')로 날짜 생성\n",
    "pd.date_range(start='2020-07-01', end='2020-07-10', freq='2D') "
   ]
  },
  {
   "cell_type": "code",
   "execution_count": null,
   "metadata": {
    "scrolled": true
   },
   "outputs": [],
   "source": [
    "# 시작일 기준으로 설정한 기간(periods=12)동안 날짜 생성\n",
    "pd.date_range(start='2020-07-01', periods=12) "
   ]
  },
  {
   "cell_type": "markdown",
   "metadata": {},
   "source": [
    "**[5장: 175페이지]**"
   ]
  },
  {
   "cell_type": "code",
   "execution_count": null,
   "metadata": {
    "scrolled": true
   },
   "outputs": [],
   "source": [
    "# 시작일 기준으로 설정한 기간동안 업무일 기준(freq='B')으로 날짜 생성\n",
    "pd.date_range(start='2020-07-01', periods=12, freq='B') "
   ]
  },
  {
   "cell_type": "code",
   "execution_count": null,
   "metadata": {},
   "outputs": [],
   "source": [
    "# 시작일과 시각 기준으로 설정한 기간동안 날짜 및 시각 생성(freq='30min')\n",
    "pd.date_range(start='2020-07-01 10:00', periods=5, freq='30min') "
   ]
  },
  {
   "cell_type": "code",
   "execution_count": null,
   "metadata": {},
   "outputs": [],
   "source": [
    "s4 = pd.Series({'B': 4.0, 'A': 5.0, 'D': 2.0, 'C': 3.0})\n",
    "s4"
   ]
  },
  {
   "cell_type": "markdown",
   "metadata": {},
   "source": [
    "**[5장: 176페이지]**"
   ]
  },
  {
   "cell_type": "code",
   "execution_count": null,
   "metadata": {},
   "outputs": [],
   "source": [
    "s4.reindex(['A', 'B', 'C', 'D'])"
   ]
  },
  {
   "cell_type": "markdown",
   "metadata": {},
   "source": [
    "**[5장: 177페이지]**"
   ]
  },
  {
   "cell_type": "code",
   "execution_count": null,
   "metadata": {},
   "outputs": [],
   "source": [
    "import pandas as pd\n",
    "\n",
    "data = [[1,2,3], [4,5,6],[7,8,9]]\n",
    "df = pd.DataFrame(data)\n",
    "df"
   ]
  },
  {
   "cell_type": "markdown",
   "metadata": {},
   "source": [
    "**[5장: 178페이지]**"
   ]
  },
  {
   "cell_type": "code",
   "execution_count": null,
   "metadata": {},
   "outputs": [],
   "source": [
    "import numpy as np\n",
    "import pandas as pd\n",
    "\n",
    "data = np.array([[1, 2, 3], [4, 5, 6], [7, 8 ,9], [10, 11, 12]]) # data 생성\n",
    "index_data = pd.date_range('2020-01-11', periods=4) # index를 위한 날짜 데이터\n",
    "columns_data = ['A', 'B', 'C'] # columns를 위한 리스트 데이터\n",
    "\n",
    "pd.DataFrame(data, index=index_data, columns=columns_data) # DataFrame 데이터 생성"
   ]
  },
  {
   "cell_type": "markdown",
   "metadata": {},
   "source": [
    "**[5장: 178~179페이지]**"
   ]
  },
  {
   "cell_type": "code",
   "execution_count": null,
   "metadata": {},
   "outputs": [],
   "source": [
    "dict_data = {'연도': [2017, 2017, 2018, 2018, 2019, 2019],\n",
    "              '지사': ['한국', '미국', '한국', '미국', '한국','미국'],\n",
    "              '고객 수': [200, np.nan, 250, 450, 300, 500]} # 딕셔너리 데이터\n",
    "\n",
    "df = pd.DataFrame(dict_data) # 딕셔너리 데이터로부터 DataFrame 데이터 생성\n",
    "df"
   ]
  },
  {
   "cell_type": "markdown",
   "metadata": {},
   "source": [
    "**[5장: 179페이지]**"
   ]
  },
  {
   "cell_type": "code",
   "execution_count": null,
   "metadata": {},
   "outputs": [],
   "source": [
    "df.index"
   ]
  },
  {
   "cell_type": "code",
   "execution_count": null,
   "metadata": {},
   "outputs": [],
   "source": [
    "df.columns"
   ]
  },
  {
   "cell_type": "code",
   "execution_count": null,
   "metadata": {
    "scrolled": true
   },
   "outputs": [],
   "source": [
    "df.values"
   ]
  },
  {
   "cell_type": "markdown",
   "metadata": {},
   "source": [
    "**[5장: 180페이지]**"
   ]
  },
  {
   "cell_type": "code",
   "execution_count": null,
   "metadata": {
    "scrolled": true
   },
   "outputs": [],
   "source": [
    "df1 = df.set_index(\"연도\")\n",
    "df1"
   ]
  },
  {
   "cell_type": "code",
   "execution_count": null,
   "metadata": {},
   "outputs": [],
   "source": [
    "dict_data = {'A': [10, 20, 30, 40, 50, 60],\n",
    "             'B': [0.1, 0.2, 0.3, 0.4, 0.5, 0.6],\n",
    "             'C': [100, 200, 300, 400, 500, 600]} # 딕셔너리 데이터\n",
    "\n",
    "df2 = pd.DataFrame(dict_data) # 딕셔너리 데이터로부터 DataFrame 데이터 생성\n",
    "df2"
   ]
  },
  {
   "cell_type": "markdown",
   "metadata": {},
   "source": [
    "**[5장: 181페이지]**"
   ]
  },
  {
   "cell_type": "code",
   "execution_count": null,
   "metadata": {},
   "outputs": [],
   "source": [
    "df2.reindex([4, 2, 5, 3, 1])"
   ]
  },
  {
   "cell_type": "code",
   "execution_count": null,
   "metadata": {},
   "outputs": [],
   "source": [
    "df2.reindex(columns=['B', 'C', 'A'])"
   ]
  },
  {
   "cell_type": "markdown",
   "metadata": {},
   "source": [
    "### 표 형식의 데이터 파일 읽고 쓰기"
   ]
  },
  {
   "cell_type": "markdown",
   "metadata": {},
   "source": [
    "**[5장: 184페이지]**"
   ]
  },
  {
   "cell_type": "code",
   "execution_count": null,
   "metadata": {},
   "outputs": [],
   "source": [
    "%%writefile C:/myPyExcel/data/ch05/korea_rain1.csv\n",
    "연도,봄,여름,가을,겨울\n",
    "2014,215.9,599.8,293.1,76.9\n",
    "2015,223.2,387.1,247.7,109.1 \n",
    "2016,312.8,446.2,381.6,108.1 \n",
    "2017,118.6,609.7,172.5,75.6 \n",
    "2018,368.1,586.5,351.2,66.5"
   ]
  },
  {
   "cell_type": "code",
   "execution_count": null,
   "metadata": {
    "scrolled": true
   },
   "outputs": [],
   "source": [
    "import pandas as pd\n",
    "\n",
    "#  CSV 파일 경로\n",
    "folder = 'C:/myPyExcel/data/ch05/' # 폴더 경로를 지정\n",
    "csv_file = folder + 'korea_rain1.csv' # 파일 경로를 지정\n",
    "\n",
    "# CSV 파일을 읽어와서 DataFrame 데이터 생성\n",
    "df = pd.read_csv(csv_file, encoding = \"utf-8\") \n",
    "df"
   ]
  },
  {
   "cell_type": "markdown",
   "metadata": {},
   "source": [
    "**[5장: 185페이지]**"
   ]
  },
  {
   "cell_type": "code",
   "execution_count": null,
   "metadata": {},
   "outputs": [],
   "source": [
    "df = pd.read_csv(csv_file, index_col=\"연도\")\n",
    "df"
   ]
  },
  {
   "cell_type": "markdown",
   "metadata": {},
   "source": [
    "**[5장: 186페이지]**"
   ]
  },
  {
   "cell_type": "code",
   "execution_count": null,
   "metadata": {},
   "outputs": [],
   "source": [
    "# 텍스트 파일 경로\n",
    "folder = 'C:/myPyExcel/data/ch05/' \n",
    "txt_file = folder + 'korea_rain1_space.txt' \n",
    "\n",
    "# 공백 구분자가 있는 텍스트 데이터 파일을 읽어서 DataFrame 데이터 생성\n",
    "df = pd.read_csv(txt_file, sep=\" \", encoding=\"utf-8\")\n",
    "df"
   ]
  },
  {
   "cell_type": "code",
   "execution_count": null,
   "metadata": {
    "scrolled": true
   },
   "outputs": [],
   "source": [
    "# 텍스트 파일 경로\n",
    "folder = 'C:/myPyExcel/data/ch05/'\n",
    "txt_file = folder + 'korea_rain1_tab.txt' \n",
    "\n",
    "# 탭 구분자가 있는 텍스트 데이터 파일을 읽어서 DataFrame 데이터 생성\n",
    "df = pd.read_csv(txt_file, sep=\"\\t\", encoding=\"utf-8\")\n",
    "df"
   ]
  },
  {
   "cell_type": "markdown",
   "metadata": {},
   "source": [
    "**[5장: 187페이지]**"
   ]
  },
  {
   "cell_type": "code",
   "execution_count": null,
   "metadata": {},
   "outputs": [],
   "source": [
    "%%writefile C:/myPyExcel/data/ch05/korea_rain2.csv\n",
    "2014,215.9,599.8,293.1,76.9\n",
    "2015,223.2,387.1,247.7,109.1 \n",
    "2016,312.8,446.2,381.6,108.1 \n",
    "2017,118.6,609.7,172.5,75.6 \n",
    "2018,368.1,586.5,351.2,66.5"
   ]
  },
  {
   "cell_type": "code",
   "execution_count": null,
   "metadata": {},
   "outputs": [],
   "source": [
    "# 텍스트 파일 경로\n",
    "folder = 'C:/myPyExcel/data/ch05/'\n",
    "txt_file = folder + 'korea_rain2.csv' # 열 이름이 없는 CSV 파일\n",
    "\n",
    "# CSV 파일을 읽어 DataFrame 데이터 생성\n",
    "df2 = pd.read_csv(txt_file) \n",
    "df2"
   ]
  },
  {
   "cell_type": "markdown",
   "metadata": {},
   "source": [
    "**[5장: 188페이지]**"
   ]
  },
  {
   "cell_type": "code",
   "execution_count": null,
   "metadata": {},
   "outputs": [],
   "source": [
    "# 텍스트 파일 경로\n",
    "folder = 'C:/myPyExcel/data/ch05/'\n",
    "txt_file = folder + 'korea_rain2.csv' # 열 이름이 없는 CSV 파일\n",
    "\n",
    "# CSV 파일을 읽어 DataFrame 데이터 생성(header 옵션 지정)\n",
    "df2 = pd.read_csv(txt_file, header=None)\n",
    "df2"
   ]
  },
  {
   "cell_type": "code",
   "execution_count": null,
   "metadata": {},
   "outputs": [],
   "source": [
    "# 텍스트 파일 경로\n",
    "folder = 'C:/myPyExcel/data/ch05/'\n",
    "txt_file = folder + 'korea_rain2.csv' # 열 이름이 없는 CSV 파일\n",
    "\n",
    "# CSV 파일을 읽어 DataFrame 데이터 생성(names 옵션 지정)\n",
    "names_list = [\"Year\", \"Spring\", \"Summer\", \"Fall\", \"Winter\"]\n",
    "df2 = pd.read_csv(txt_file, names=names_list)\n",
    "# df2 = pd.read_csv(txt_file, header=None, names=names_list) 도 동일\n",
    "df2"
   ]
  },
  {
   "cell_type": "markdown",
   "metadata": {},
   "source": [
    "**[5장: 189페이지]**"
   ]
  },
  {
   "cell_type": "code",
   "execution_count": null,
   "metadata": {},
   "outputs": [],
   "source": [
    "# 텍스트 파일 경로\n",
    "folder = 'C:/myPyExcel/data/ch05/'\n",
    "txt_file = folder + 'korea_rain1.csv' # 열 이름이 있는 CSV 파일\n",
    "\n",
    "# CSV 파일을 읽어 DataFrame 데이터 생성(header와 names 옵션 지정)\n",
    "names_list = [\"연도_new\", \"봄_new\", \"여름_new\", \"가을_new\", \"겨울_new\"]\n",
    "df2 = pd.read_csv(txt_file, header=0, names=names_list)\n",
    "df2"
   ]
  },
  {
   "cell_type": "markdown",
   "metadata": {},
   "source": [
    "**[5장: 190페이지]**"
   ]
  },
  {
   "cell_type": "code",
   "execution_count": null,
   "metadata": {},
   "outputs": [],
   "source": [
    "df = pd.DataFrame({ '제품ID': ['P1001', 'P1002', 'P1003', 'P1004'],\n",
    "                    '판매가격':[5000, 7000, 8000, 10000],\n",
    "                     '판매량':[50, 93, 70, 48]}  )\n",
    "df"
   ]
  },
  {
   "cell_type": "markdown",
   "metadata": {},
   "source": [
    "**[5장: 191페이지]**"
   ]
  },
  {
   "cell_type": "code",
   "execution_count": null,
   "metadata": {},
   "outputs": [],
   "source": [
    "# CSV 파일 경로\n",
    "folder = 'C:/myPyExcel/data/ch05/'\n",
    "csv_file = folder + 'product_sales1.csv'\n",
    "\n",
    "df.to_csv(csv_file) # DataFrame 데이터를 CSV 파일로 쓰기\n",
    "print(\"생성한 CSV 파일:\", csv_file) # 생성한 파일 이름 출력"
   ]
  },
  {
   "cell_type": "markdown",
   "metadata": {},
   "source": [
    "**[5장: 192페이지]**"
   ]
  },
  {
   "cell_type": "code",
   "execution_count": null,
   "metadata": {},
   "outputs": [],
   "source": [
    "# CSV 파일 경로\n",
    "folder = 'C:/myPyExcel/data/ch05/'\n",
    "csv_file = folder + 'product_sales1_cp949_encoding.csv'\n",
    "\n",
    "# DataFrame 데이터를 CSV 파일로 쓰기(인코딩은 'cp949', index 포함 안 함)\n",
    "df.to_csv(csv_file, encoding=\"cp949\", index=False)\n",
    "print(\"생성한 CSV 파일:\", csv_file) # 생성한 파일 이름 출력"
   ]
  },
  {
   "cell_type": "markdown",
   "metadata": {},
   "source": [
    "**[5장: 194페이지]**"
   ]
  },
  {
   "cell_type": "code",
   "execution_count": null,
   "metadata": {
    "scrolled": true
   },
   "outputs": [],
   "source": [
    "import pandas as pd\n",
    "\n",
    "# 엑셀 파일 경로\n",
    "folder = 'C:/myPyExcel/data/ch05/'\n",
    "excel_file = folder + '사원별_월간_판매현황.xlsx'\n",
    "\n",
    "# 엑셀 파일을 읽어서 DataFrame 데이터 생성\n",
    "df = pd.read_excel(excel_file) \n",
    "df"
   ]
  },
  {
   "cell_type": "markdown",
   "metadata": {},
   "source": [
    "**[5장: 195페이지]**"
   ]
  },
  {
   "cell_type": "code",
   "execution_count": null,
   "metadata": {
    "scrolled": false
   },
   "outputs": [],
   "source": [
    "df = pd.read_excel(excel_file, index_col='이름') \n",
    "# df = pd.read_excel(excel_file, index_col=0) # 이 방법도 가능\n",
    "df"
   ]
  },
  {
   "cell_type": "markdown",
   "metadata": {},
   "source": [
    "**[5장: 196페이지]**"
   ]
  },
  {
   "cell_type": "code",
   "execution_count": null,
   "metadata": {
    "scrolled": true
   },
   "outputs": [],
   "source": [
    "# 엑셀 파일 경로\n",
    "folder = 'C:/myPyExcel/data/ch05/'\n",
    "excel_file = folder + '사원별_월간_판매현황2.xlsx' \n",
    "\n",
    "# 워크시트를 지정해 엑셀 파일을 읽어서 DataFrame 데이터를 생성\n",
    "df = pd.read_excel(excel_file, sheet_name='하반기')\n",
    "# df = pd.read_excel(excel_file, sheet_name=1)  # 이 방법도 가능\n",
    "df"
   ]
  },
  {
   "cell_type": "markdown",
   "metadata": {},
   "source": [
    "**[5장: 197페이지]**"
   ]
  },
  {
   "cell_type": "code",
   "execution_count": null,
   "metadata": {
    "scrolled": true
   },
   "outputs": [],
   "source": [
    "df = pd.read_excel(excel_file, sheet_name='하반기', index_col='이름')\n",
    "df"
   ]
  },
  {
   "cell_type": "markdown",
   "metadata": {},
   "source": [
    "**[5장: 198페이지]**"
   ]
  },
  {
   "cell_type": "code",
   "execution_count": null,
   "metadata": {
    "scrolled": true
   },
   "outputs": [],
   "source": [
    "# 엑셀 파일 경로\n",
    "folder = 'C:/myPyExcel/data/ch05/'\n",
    "excel_file = folder + '사원별_월간_판매현황_열이름없음.xlsx' # 열 이름 없는 엑셀 파일\n",
    "\n",
    "# 워크시트를 지정해 엑셀 파일을 읽어서 DataFrame 데이터를 생성(header와 names 옵션 지정)\n",
    "names_list = [\"Name\", \"January\", \"February\", \"March\", \"April\", \"May\", \"June\"]\n",
    "df = pd.read_excel(excel_file, header=None, names=names_list)\n",
    "df"
   ]
  },
  {
   "cell_type": "markdown",
   "metadata": {},
   "source": [
    "**[5장: 199페이지]**"
   ]
  },
  {
   "cell_type": "code",
   "execution_count": null,
   "metadata": {},
   "outputs": [],
   "source": [
    "# 엑셀 파일 경로\n",
    "folder = 'C:/myPyExcel/data/ch05/'\n",
    "excel_file = folder + '사원별_월간_판매현황.xlsx' # 첫 줄에 열 이름 있는 엑셀 파일\n",
    "\n",
    "# 워크시트를 지정해 엑셀 파일을 읽어서 DataFrame 데이터를 생성(header와 names 옵션 지정)\n",
    "names_list = [\"사원명\", \"1월달\", \"2월달\", \"3월달\", \"4월달\", \"5월달\", \"6월달\"]\n",
    "df = pd.read_excel(excel_file, header=0, names=names_list)\n",
    "df"
   ]
  },
  {
   "cell_type": "markdown",
   "metadata": {},
   "source": [
    "**[5장: 201~202페이지]**"
   ]
  },
  {
   "cell_type": "code",
   "execution_count": null,
   "metadata": {},
   "outputs": [],
   "source": [
    "# 엑셀 파일 경로\n",
    "folder = 'C:/myPyExcel/data/ch05/'\n",
    "excel_file = folder + '사원별_월간_판매현황2.xlsx' \n",
    "\n",
    "# 엑셀 파일의 첫 번째 워크시트를 읽어서 DataFrame 데이터(df1) 생성\n",
    "df1 = pd.read_excel(excel_file, sheet_name=0) \n",
    "# 엑셀 파일의 두 번째 워크시트를 읽어서 DataFrame 데이터(df2) 생성\n",
    "df2 = pd.read_excel(excel_file, sheet_name=1)\n",
    "df1"
   ]
  },
  {
   "cell_type": "markdown",
   "metadata": {},
   "source": [
    "**[5장: 202페이지]**"
   ]
  },
  {
   "cell_type": "code",
   "execution_count": null,
   "metadata": {},
   "outputs": [],
   "source": [
    "# 엑셀 파일 경로\n",
    "folder = 'C:/myPyExcel/data/ch05/'\n",
    "excel_file = folder + '사원별_월간_판매현황_new.xlsx'\n",
    "\n",
    "# DataFrame 데이터를 엑셀 파일로 쓰기\n",
    "df1.to_excel(excel_file) \n",
    "\n",
    "print(\"생성한 엑셀 파일:\", excel_file) # 생성한 파일 이름 출력"
   ]
  },
  {
   "cell_type": "markdown",
   "metadata": {},
   "source": [
    "**[5장: 203페이지]**"
   ]
  },
  {
   "cell_type": "code",
   "execution_count": null,
   "metadata": {},
   "outputs": [],
   "source": [
    "# 엑셀 파일 경로\n",
    "folder = 'C:/myPyExcel/data/ch05/'\n",
    "excel_file = folder + '사원별_월간_판매현황_new2.xlsx'\n",
    "\n",
    "# DataFrame 데이터를 엑셀로 쓰기(옵션 지정)\n",
    "df1.to_excel(excel_file, sheet_name='상반기', index=False) \n",
    "\n",
    "print(\"생성한 엑셀 파일:\", excel_file) # 생성한 파일 이름 출력"
   ]
  },
  {
   "cell_type": "markdown",
   "metadata": {},
   "source": [
    "**[5장: 204페이지]**"
   ]
  },
  {
   "cell_type": "code",
   "execution_count": null,
   "metadata": {
    "scrolled": false
   },
   "outputs": [],
   "source": [
    "# 엑셀 파일 경로\n",
    "folder = 'C:/myPyExcel/data/ch05/' \n",
    "excel_file = folder + '사원별_월간_판매현황_two_sheets.xlsx' \n",
    "\n",
    "# DataFrame 데이터를 엑셀 파일의 '상반기'와 '하반기' 시트에 쓰기\n",
    "with pd.ExcelWriter(excel_file, engine='xlsxwriter') as excel_writer:\n",
    "    df1.to_excel(excel_writer, sheet_name='상반기', index=False)\n",
    "    df2.to_excel(excel_writer, sheet_name='하반기', index=False)\n",
    "    \n",
    "print(\"생성한 엑셀 파일:\", excel_file) # 생성한 파일 이름 출력"
   ]
  },
  {
   "cell_type": "markdown",
   "metadata": {},
   "source": [
    "**[5장: 205~206페이지]**"
   ]
  },
  {
   "cell_type": "code",
   "execution_count": null,
   "metadata": {},
   "outputs": [],
   "source": [
    "import pandas as pd\n",
    "\n",
    "# 판다스 DataFrame 데이터 생성\n",
    "df1 = pd.DataFrame({ '제품ID':['P1001', 'P1002', 'P1003', 'P1004'],\n",
    "                     '판매가격':[5000, 7000, 8000, 10000],\n",
    "                     '판매량':[50, 93, 70, 48]}  )\n",
    "\n",
    "df2 = pd.DataFrame({ '제품ID':['P2001', 'P2002', 'P2003', 'P2004'],\n",
    "                     '판매가격':[5200, 7200, 8200, 10200],\n",
    "                     '판매량':[51, 94, 72, 58]}  )\n",
    "\n",
    "df3 = pd.DataFrame({ '제품ID':['P3001', 'P3002', 'P3003', 'P3004'],\n",
    "                     '판매가격':[5300, 7300, 8300, 10300],\n",
    "                     '판매량':[52, 95, 74, 68]}  )\n",
    "\n",
    "df4 = pd.DataFrame({ '제품ID':['P4001', 'P4002', 'P4003', 'P4004'],\n",
    "                     '판매가격':[5400, 7400, 8400, 10400],\n",
    "                     '판매량':[53, 96, 76, 78]}  )\n",
    "\n",
    "# 출력할 엑셀 파일 경로\n",
    "folder = 'C:/myPyExcel/data/ch05/' \n",
    "excel_file = folder + 'product_sales_in_one_worksheet.xlsx' \n",
    "\n",
    "# 1) 생성한 객체(excel_writer)를 이용해 DataFrame 데이터(df)를 쓰기\n",
    "excel_writer = pd.ExcelWriter(excel_file, engine='xlsxwriter')\n",
    "\n",
    "# 2) 여러 DataFrame 데이터를 하나의 엑셀 워크시트에 위치를 달리해서 출력\n",
    "df1.to_excel(excel_writer) # startrow=0, startcol=0 과 동일\n",
    "df2.to_excel(excel_writer, startrow=0, startcol=5, index=False)\n",
    "df3.to_excel(excel_writer, startrow=6, startcol=0)\n",
    "df4.to_excel(excel_writer, startrow=5, startcol=5, index=False, header=False)\n",
    "\n",
    "# 3) 객체를 닫고 엑셀 파일로 저장       \n",
    "excel_writer.save()\n",
    "\n",
    "print(\"생성한 엑셀 파일:\", excel_file) # 생성한 파일 이름 출력"
   ]
  },
  {
   "cell_type": "markdown",
   "metadata": {},
   "source": [
    "**[5장: 207페이지]**"
   ]
  },
  {
   "cell_type": "code",
   "execution_count": null,
   "metadata": {},
   "outputs": [],
   "source": [
    "import pandas as pd\n",
    "\n",
    "# CSV 파일 경로\n",
    "folder = 'C:/myPyExcel/data/ch05/' \n",
    "csv_file = folder + 'korea_rain1.csv' \n",
    "\n",
    "# 출력할 엑셀 파일 경로\n",
    "excel_file = folder + 'korea_rain1.xlsx' \n",
    "\n",
    "# CSV 파일 데이터를 DataFrame 데이터로 읽기\n",
    "df = pd.read_csv(csv_file)\n",
    "\n",
    "# DataFrame 데이터를 엑셀 파일로 쓰기 (index는 포함하지 않음)\n",
    "df.to_excel(excel_file, index=False)             \n",
    "\n",
    "print(\"출력 엑셀 파일:\", excel_file)"
   ]
  },
  {
   "cell_type": "markdown",
   "metadata": {},
   "source": [
    "**[5장: 208페이지]**"
   ]
  },
  {
   "cell_type": "code",
   "execution_count": null,
   "metadata": {},
   "outputs": [],
   "source": [
    "import pandas as pd\n",
    "\n",
    "# 엑셀 파일 경로\n",
    "folder = 'C:/myPyExcel/data/ch05/' \n",
    "excel_file = folder + 'korea_rain1.xlsx' \n",
    "\n",
    "# 출력할 CSV 파일 경로\n",
    "output_csv_file = folder + 'korea_rain2_cp949.csv' \n",
    "\n",
    "# 엑셀 파일을 DataFrame 데이터로 읽기\n",
    "df = pd.read_excel(excel_file)\n",
    "\n",
    "# DataFrame 데이터를 CSV 파일로 쓰기 (encoding과 index 옵션 지정)\n",
    "df.to_csv(output_csv_file, encoding=\"cp949\", index=False) \n",
    "\n",
    "print(\"출력 CSV 파일:\", output_csv_file)"
   ]
  },
  {
   "cell_type": "markdown",
   "metadata": {},
   "source": [
    "### 표 데이터 연산"
   ]
  },
  {
   "cell_type": "markdown",
   "metadata": {},
   "source": [
    "**[5장: 209~210페이지]**"
   ]
  },
  {
   "cell_type": "code",
   "execution_count": null,
   "metadata": {},
   "outputs": [],
   "source": [
    "import pandas as pd\n",
    "\n",
    "s1 = pd.Series([10, 20, 30, 40, 50]) \n",
    "s1"
   ]
  },
  {
   "cell_type": "markdown",
   "metadata": {},
   "source": [
    "**[5장: 210페이지]**"
   ]
  },
  {
   "cell_type": "code",
   "execution_count": null,
   "metadata": {},
   "outputs": [],
   "source": [
    "s2 = pd.Series([1, 2, 3, 4])\n",
    "s2"
   ]
  },
  {
   "cell_type": "code",
   "execution_count": null,
   "metadata": {},
   "outputs": [],
   "source": [
    "s1 + s2 # Series 데이터끼리 더하기"
   ]
  },
  {
   "cell_type": "code",
   "execution_count": null,
   "metadata": {},
   "outputs": [],
   "source": [
    "s1 -  s2 # Series 데이터끼리 빼기"
   ]
  },
  {
   "cell_type": "markdown",
   "metadata": {},
   "source": [
    "**[5장: 211페이지]**"
   ]
  },
  {
   "cell_type": "code",
   "execution_count": null,
   "metadata": {},
   "outputs": [],
   "source": [
    "s1 * s2 # Series 데이터끼리 곱하기"
   ]
  },
  {
   "cell_type": "code",
   "execution_count": null,
   "metadata": {},
   "outputs": [],
   "source": [
    "s1 / s2 # Series 데이터끼리 나누기"
   ]
  },
  {
   "cell_type": "code",
   "execution_count": null,
   "metadata": {},
   "outputs": [],
   "source": [
    "s1 + 5 # value의 각 요소에 상수 더함"
   ]
  },
  {
   "cell_type": "code",
   "execution_count": null,
   "metadata": {
    "scrolled": true
   },
   "outputs": [],
   "source": [
    "s1 ** 2 # value의 각 요소에 거듭제곱"
   ]
  },
  {
   "cell_type": "markdown",
   "metadata": {},
   "source": [
    "**[5장: 212페이지]**"
   ]
  },
  {
   "cell_type": "code",
   "execution_count": null,
   "metadata": {},
   "outputs": [],
   "source": [
    "s1 > 30 # value의 각 요소에 비교 연산"
   ]
  },
  {
   "cell_type": "code",
   "execution_count": null,
   "metadata": {},
   "outputs": [],
   "source": [
    "dict_data1 = {'A': [1, 2, 3, 4, 5],\n",
    "              'B': [10, 20, 30, 40, 50],\n",
    "              'C': [100, 200, 300, 400, 500]}\n",
    "df1 = pd.DataFrame(dict_data1)\n",
    "df1"
   ]
  },
  {
   "cell_type": "code",
   "execution_count": null,
   "metadata": {},
   "outputs": [],
   "source": [
    "dict_data2 = {'A': [6, 7, 8, 9],\n",
    "              'B': [60, 70, 80, 90],\n",
    "              'D': [600, 700, 800, 900]}\n",
    "df2 = pd.DataFrame(dict_data2)\n",
    "df2"
   ]
  },
  {
   "cell_type": "markdown",
   "metadata": {},
   "source": [
    "**[5장: 213페이지]**"
   ]
  },
  {
   "cell_type": "code",
   "execution_count": null,
   "metadata": {},
   "outputs": [],
   "source": [
    "df1 + df2 # DataFrame 데이터끼리 더하기"
   ]
  },
  {
   "cell_type": "code",
   "execution_count": null,
   "metadata": {},
   "outputs": [],
   "source": [
    "df1 - df2 # DataFrame 데이터끼리 빼기"
   ]
  },
  {
   "cell_type": "code",
   "execution_count": null,
   "metadata": {
    "scrolled": true
   },
   "outputs": [],
   "source": [
    "df1 * df2 # DataFrame 데이터끼리 곱하기"
   ]
  },
  {
   "cell_type": "markdown",
   "metadata": {},
   "source": [
    "**[5장: 214페이지]**"
   ]
  },
  {
   "cell_type": "code",
   "execution_count": null,
   "metadata": {},
   "outputs": [],
   "source": [
    "df1 / df2 # DataFrame 데이터끼리 나누기"
   ]
  },
  {
   "cell_type": "code",
   "execution_count": null,
   "metadata": {},
   "outputs": [],
   "source": [
    "df1 + 5 # value의 각 요소에 값을 더함"
   ]
  },
  {
   "cell_type": "code",
   "execution_count": null,
   "metadata": {},
   "outputs": [],
   "source": [
    "df1 ** 2 # value의 각 요소에 거듭제곱"
   ]
  },
  {
   "cell_type": "markdown",
   "metadata": {},
   "source": [
    "**[5장: 215페이지]**"
   ]
  },
  {
   "cell_type": "code",
   "execution_count": null,
   "metadata": {},
   "outputs": [],
   "source": [
    "df1 > 30 # value의 각 요소에 비교 연산"
   ]
  },
  {
   "cell_type": "code",
   "execution_count": null,
   "metadata": {
    "scrolled": true
   },
   "outputs": [],
   "source": [
    "import pandas as pd\n",
    "\n",
    "# CSV 파일 이름 지정\n",
    "csv_file = \"C:/myPyExcel/data/ch05/korea_rain1.csv\"\n",
    "\n",
    "# CSV 파일을 읽어와서 DataFrame 데이터 생성\n",
    "df = pd.read_csv(csv_file, encoding=\"utf8\", index_col='연도') \n",
    "df"
   ]
  },
  {
   "cell_type": "markdown",
   "metadata": {},
   "source": [
    "**[5장: 216페이지]**"
   ]
  },
  {
   "cell_type": "code",
   "execution_count": null,
   "metadata": {},
   "outputs": [],
   "source": [
    "df.mean() # df.mean(axis=0)와 동일"
   ]
  },
  {
   "cell_type": "code",
   "execution_count": null,
   "metadata": {},
   "outputs": [],
   "source": [
    "df.std() # df.std(axis=0)와 동일"
   ]
  },
  {
   "cell_type": "code",
   "execution_count": null,
   "metadata": {
    "scrolled": true
   },
   "outputs": [],
   "source": [
    "df.mean(axis=1)"
   ]
  },
  {
   "cell_type": "markdown",
   "metadata": {},
   "source": [
    "**[5장: 217페이지]**"
   ]
  },
  {
   "cell_type": "code",
   "execution_count": null,
   "metadata": {},
   "outputs": [],
   "source": [
    "df.std(axis=1)"
   ]
  },
  {
   "cell_type": "code",
   "execution_count": null,
   "metadata": {},
   "outputs": [],
   "source": [
    "df.describe()"
   ]
  },
  {
   "cell_type": "markdown",
   "metadata": {},
   "source": [
    "### 표 데이터 선택"
   ]
  },
  {
   "cell_type": "markdown",
   "metadata": {},
   "source": [
    "**[5장: 219페이지]**"
   ]
  },
  {
   "cell_type": "code",
   "execution_count": null,
   "metadata": {},
   "outputs": [],
   "source": [
    "import pandas as pd\n",
    "import numpy as np\n",
    "\n",
    "index_data = ['a', 'b', 'c', 'd', 'e']   # index용 데이터\n",
    "data = [0.0, 1.0, 2.0, 3.0, 4.0]         # 데이터\n",
    "s1 = pd.Series(data, index = index_data)\n",
    "s1"
   ]
  },
  {
   "cell_type": "code",
   "execution_count": null,
   "metadata": {},
   "outputs": [],
   "source": [
    "s1.loc['a'] # index 라벨 지정으로 하나의 행 데이터 선택"
   ]
  },
  {
   "cell_type": "code",
   "execution_count": null,
   "metadata": {
    "scrolled": true
   },
   "outputs": [],
   "source": [
    "s1.loc[['a', 'c', 'e']] # index 라벨 리스트 지정으로 여러 행의 데이터를 선택"
   ]
  },
  {
   "cell_type": "markdown",
   "metadata": {},
   "source": [
    "**[5장: 220페이지]**"
   ]
  },
  {
   "cell_type": "code",
   "execution_count": null,
   "metadata": {},
   "outputs": [],
   "source": [
    "s1.loc[['e', 'b', 'a']] # index 라벨 리스트 지정으로 여러 행의 데이터를 선택"
   ]
  },
  {
   "cell_type": "code",
   "execution_count": null,
   "metadata": {},
   "outputs": [],
   "source": [
    "s1.loc['b':'d'] # index 라벨 슬라이싱으로 여러 행의 데이터를 선택"
   ]
  },
  {
   "cell_type": "code",
   "execution_count": null,
   "metadata": {},
   "outputs": [],
   "source": [
    "s1.iloc[1] # index 위치 지정으로 하나의 행 데이터를 선택"
   ]
  },
  {
   "cell_type": "code",
   "execution_count": null,
   "metadata": {},
   "outputs": [],
   "source": [
    "s1.iloc[[0, 2, 4]] # index 위치 리스트 지정으로 여러 행의 데이터를 선택"
   ]
  },
  {
   "cell_type": "code",
   "execution_count": null,
   "metadata": {},
   "outputs": [],
   "source": [
    "s1.iloc[1:4] # index 위치 슬라이싱으로 여러 행의 데이터를 선택"
   ]
  },
  {
   "cell_type": "markdown",
   "metadata": {},
   "source": [
    "**[5장: 221페이지]**"
   ]
  },
  {
   "cell_type": "code",
   "execution_count": null,
   "metadata": {},
   "outputs": [],
   "source": [
    "s1.loc['a':'c'] = 10 # 여러 행의 데이터에 스칼라 값을 지정\n",
    "s1"
   ]
  },
  {
   "cell_type": "code",
   "execution_count": null,
   "metadata": {},
   "outputs": [],
   "source": [
    "s1.iloc[3:5] = 20\n",
    "s1"
   ]
  },
  {
   "cell_type": "code",
   "execution_count": null,
   "metadata": {},
   "outputs": [],
   "source": [
    "dict_data = {'A': [0, 10, 20, 30, 40],\n",
    "             'B': [0, 0.1, 0.2, 0.3, 0.4],\n",
    "             'C': [0, 100, 200, 300, 400]} # 딕셔너리 데이터\n",
    "\n",
    "index_data = ['a', 'b', 'c', 'd', 'e'] # index 지정용 데이터\n",
    "\n",
    "df1 = pd.DataFrame(dict_data, index=index_data) # 딕셔너리 데이터로부터 DataFrame 데이터 생성\n",
    "df1"
   ]
  },
  {
   "cell_type": "markdown",
   "metadata": {},
   "source": [
    "**[5장: 222페이지]**"
   ]
  },
  {
   "cell_type": "code",
   "execution_count": null,
   "metadata": {},
   "outputs": [],
   "source": [
    "df1.loc['a'] # index 라벨 지정으로 하나의 행 데이터를 선택"
   ]
  },
  {
   "cell_type": "code",
   "execution_count": null,
   "metadata": {},
   "outputs": [],
   "source": [
    "df1.loc[['a', 'c', 'e']] # index 라벨 리스트 지정으로 여러 행의 데이터를 선택"
   ]
  },
  {
   "cell_type": "code",
   "execution_count": null,
   "metadata": {},
   "outputs": [],
   "source": [
    "df1.loc['b':'d'] # index 라벨 슬라이싱으로 여러 행의 데이터를 선택"
   ]
  },
  {
   "cell_type": "code",
   "execution_count": null,
   "metadata": {},
   "outputs": [],
   "source": [
    "df1.iloc[2] # index 위치 지정으로 하나의 행 데이터를 선택"
   ]
  },
  {
   "cell_type": "markdown",
   "metadata": {},
   "source": [
    "**[5장: 223페이지]**"
   ]
  },
  {
   "cell_type": "code",
   "execution_count": null,
   "metadata": {},
   "outputs": [],
   "source": [
    "df1.iloc[[1, 3, 4]] # index 위치 리스트 지정으로 여러 행의 데이터를 선택"
   ]
  },
  {
   "cell_type": "code",
   "execution_count": null,
   "metadata": {},
   "outputs": [],
   "source": [
    "df1.iloc[1:3] # index 위치 슬라이싱으로 여러 행의 데이터를 선택"
   ]
  },
  {
   "cell_type": "code",
   "execution_count": null,
   "metadata": {},
   "outputs": [],
   "source": [
    "df1.loc['a':'c'] = 50\n",
    "df1"
   ]
  },
  {
   "cell_type": "markdown",
   "metadata": {},
   "source": [
    "**[5장: 224페이지]**"
   ]
  },
  {
   "cell_type": "code",
   "execution_count": null,
   "metadata": {},
   "outputs": [],
   "source": [
    "index_data = ['a', 'b', 'c', 'd', 'e'] # index용 데이터\n",
    "data = [0, 1, 2, 3, 4] # 데이터\n",
    "\n",
    "s2 = pd.Series(data, index=index_data)\n",
    "s2"
   ]
  },
  {
   "cell_type": "code",
   "execution_count": null,
   "metadata": {},
   "outputs": [],
   "source": [
    "s2['a'] # index 라벨 지정으로 하나의 행 데이터를 선택"
   ]
  },
  {
   "cell_type": "code",
   "execution_count": null,
   "metadata": {},
   "outputs": [],
   "source": [
    "s2[['a', 'c']] # index 라벨 리스트 지정으로 여러 행의 데이터를 선택"
   ]
  },
  {
   "cell_type": "code",
   "execution_count": null,
   "metadata": {},
   "outputs": [],
   "source": [
    "s2['c':'e'] # index 라벨 슬라이싱으로 여러 행의 데이터를 선택"
   ]
  },
  {
   "cell_type": "code",
   "execution_count": null,
   "metadata": {},
   "outputs": [],
   "source": [
    "s2['a':'e':2] # index 라벨 슬라이싱으로 여러 행의 데이터를 선택"
   ]
  },
  {
   "cell_type": "markdown",
   "metadata": {},
   "source": [
    "**[5장: 225페이지]**"
   ]
  },
  {
   "cell_type": "code",
   "execution_count": null,
   "metadata": {},
   "outputs": [],
   "source": [
    "s2[0] # index 위치 지정으로 하나의 행 데이터를 선택"
   ]
  },
  {
   "cell_type": "code",
   "execution_count": null,
   "metadata": {},
   "outputs": [],
   "source": [
    "s2[[1, 2, 4]] # index 위치 리스트 지정으로 여러 행의 데이터를 선택"
   ]
  },
  {
   "cell_type": "code",
   "execution_count": null,
   "metadata": {
    "scrolled": true
   },
   "outputs": [],
   "source": [
    "s2[0:5:2] # index 위치 슬라이싱으로 여러 행의 데이터를 선택"
   ]
  },
  {
   "cell_type": "code",
   "execution_count": null,
   "metadata": {
    "scrolled": false
   },
   "outputs": [],
   "source": [
    "# Series 데이터 생성\n",
    "s = pd.Series(range(-3, 6)) \n",
    "s"
   ]
  },
  {
   "cell_type": "markdown",
   "metadata": {},
   "source": [
    "**[5장: 226페이지]**"
   ]
  },
  {
   "cell_type": "code",
   "execution_count": null,
   "metadata": {},
   "outputs": [],
   "source": [
    "# DataFrame 데이터 생성\n",
    "dict_data = {'지점': ['서울', '대전', '대구', '부산', '광주'],\n",
    "             '1월': [558, 234, 340, 380, 213],\n",
    "             '2월': [437, 216, 238, 290, 194], \n",
    "             '3월': [337, 196, 209, 272, 186]} # 딕셔너리 데이터\n",
    "\n",
    "df = pd.DataFrame(dict_data) # 딕셔너리 데이터로부터 DataFrame 데이터 생성\n",
    "df"
   ]
  },
  {
   "cell_type": "code",
   "execution_count": null,
   "metadata": {},
   "outputs": [],
   "source": [
    "s[s > 0] # 조건을 만족하는 행 데이터 가져오기"
   ]
  },
  {
   "cell_type": "markdown",
   "metadata": {},
   "source": [
    "**[5장: 227페이지]**"
   ]
  },
  {
   "cell_type": "code",
   "execution_count": null,
   "metadata": {},
   "outputs": [],
   "source": [
    "s[(s >= -2) & (s%2 == 0)] # 두 조건을 모두 만족하는 행 데이터 가져오기 "
   ]
  },
  {
   "cell_type": "code",
   "execution_count": null,
   "metadata": {},
   "outputs": [],
   "source": [
    "df[df['1월'] >= 300] # 조건을 만족하는 행 데이터 가져오기"
   ]
  },
  {
   "cell_type": "code",
   "execution_count": null,
   "metadata": {},
   "outputs": [],
   "source": [
    "df[(df['지점'] == '서울') | (df['지점'] == '부산')] # 둘 중 하나만 만족해도 행을 선택"
   ]
  },
  {
   "cell_type": "markdown",
   "metadata": {},
   "source": [
    "**[5장: 228페이지]**"
   ]
  },
  {
   "cell_type": "code",
   "execution_count": null,
   "metadata": {},
   "outputs": [],
   "source": [
    "df[df['지점'].isin(['서울','부산'])]"
   ]
  },
  {
   "cell_type": "code",
   "execution_count": null,
   "metadata": {},
   "outputs": [],
   "source": [
    "dict_data = { '제품ID':['P501', 'P502', 'P503', 'P504', 'P505', 'P506', 'P507'],\n",
    "              '판매가격':[6400, 5400, 9400, 10400, 9800, 1200, 3400],\n",
    "              '판매량':[63, 56, 98, 48, 72, 59, 43],\n",
    "              '이익률':[0.30, 0.21, 0.15, 0.25, 0.45, 0.47, 0.32]}  # 딕셔너리 데이터\n",
    "\n",
    "df2 = pd.DataFrame(dict_data)\n",
    "df2"
   ]
  },
  {
   "cell_type": "markdown",
   "metadata": {},
   "source": [
    "**[5장: 229페이지]**"
   ]
  },
  {
   "cell_type": "code",
   "execution_count": null,
   "metadata": {},
   "outputs": [],
   "source": [
    "df2.head() # 처음 5개의 행 데이터 선택"
   ]
  },
  {
   "cell_type": "code",
   "execution_count": null,
   "metadata": {},
   "outputs": [],
   "source": [
    "df2.head(2) # 처음 2개의 행 데이터 선택"
   ]
  },
  {
   "cell_type": "code",
   "execution_count": null,
   "metadata": {
    "scrolled": true
   },
   "outputs": [],
   "source": [
    "df2.tail() # 마지막 5개의 행 데이터 선택"
   ]
  },
  {
   "cell_type": "markdown",
   "metadata": {},
   "source": [
    "**[5장: 230페이지]**"
   ]
  },
  {
   "cell_type": "code",
   "execution_count": null,
   "metadata": {},
   "outputs": [],
   "source": [
    "df2.tail(3) # 마지막 3개의 행 데이터 선택"
   ]
  },
  {
   "cell_type": "code",
   "execution_count": null,
   "metadata": {},
   "outputs": [],
   "source": [
    "df2['제품ID']"
   ]
  },
  {
   "cell_type": "markdown",
   "metadata": {},
   "source": [
    "**[5장: 231페이지]**"
   ]
  },
  {
   "cell_type": "code",
   "execution_count": null,
   "metadata": {},
   "outputs": [],
   "source": [
    "df2[['제품ID']]"
   ]
  },
  {
   "cell_type": "code",
   "execution_count": null,
   "metadata": {
    "scrolled": true
   },
   "outputs": [],
   "source": [
    "df2[['제품ID', '이익률', '판매가격']]"
   ]
  },
  {
   "cell_type": "markdown",
   "metadata": {},
   "source": [
    "**[5장: 232페이지]**"
   ]
  },
  {
   "cell_type": "code",
   "execution_count": null,
   "metadata": {},
   "outputs": [],
   "source": [
    "# 지정한 열 데이터의 모든 값을 스칼라값으로 변경\n",
    "df2['이익률'] = 0.5 # '이익률' 열 데이터를 0.5로 변경\n",
    "df2"
   ]
  },
  {
   "cell_type": "code",
   "execution_count": null,
   "metadata": {},
   "outputs": [],
   "source": [
    "dict_data = {'A': [0, 1, 2, 3, 4],\n",
    "             'B': [10, 11, 12, 13, 14],\n",
    "             'C': [20, 21, 22, 23, 24]} # 딕셔너리 데이터\n",
    "\n",
    "index_data = ['a', 'b', 'c', 'd', 'e'] # index 지정용 데이터\n",
    "\n",
    "df = pd.DataFrame(dict_data, index=index_data) # DataFrame 데이터 생성\n",
    "df"
   ]
  },
  {
   "cell_type": "markdown",
   "metadata": {},
   "source": [
    "**[5장: 233페이지]** "
   ]
  },
  {
   "cell_type": "code",
   "execution_count": null,
   "metadata": {},
   "outputs": [],
   "source": [
    "df.loc['a', 'A'] # loc 이용"
   ]
  },
  {
   "cell_type": "code",
   "execution_count": null,
   "metadata": {},
   "outputs": [],
   "source": [
    "df.iloc[0, 0] #iloc 이용"
   ]
  },
  {
   "cell_type": "code",
   "execution_count": null,
   "metadata": {},
   "outputs": [],
   "source": [
    "df.loc['a':'c', ['A', 'B']] # loc 이용"
   ]
  },
  {
   "cell_type": "code",
   "execution_count": null,
   "metadata": {},
   "outputs": [],
   "source": [
    "df.iloc[0:3, 0:2] # iloc 이용"
   ]
  },
  {
   "cell_type": "markdown",
   "metadata": {},
   "source": [
    "**[5장: 234페이지]**"
   ]
  },
  {
   "cell_type": "code",
   "execution_count": null,
   "metadata": {},
   "outputs": [],
   "source": [
    "df.loc[df['A']>2, ['A', 'B']] # loc 이용"
   ]
  },
  {
   "cell_type": "code",
   "execution_count": null,
   "metadata": {},
   "outputs": [],
   "source": [
    "df.loc['a':'c', ['A', 'B']] = 50 # 스칼라 값 지정\n",
    "df"
   ]
  },
  {
   "cell_type": "code",
   "execution_count": null,
   "metadata": {
    "scrolled": true
   },
   "outputs": [],
   "source": [
    "df.iloc[3:5, 1:3] = 100 # 스칼라 값 지정\n",
    "df"
   ]
  },
  {
   "cell_type": "markdown",
   "metadata": {},
   "source": [
    "**[5장: 235페이지]**"
   ]
  },
  {
   "cell_type": "code",
   "execution_count": null,
   "metadata": {},
   "outputs": [],
   "source": [
    "df.loc[df['B']<70, 'B'] = 70 # 스칼라 값 지정\n",
    "df"
   ]
  },
  {
   "cell_type": "code",
   "execution_count": null,
   "metadata": {},
   "outputs": [],
   "source": [
    "df.loc[df['C']<30, 'D'] = 40 # loc 이용. 스칼라 값 지정\n",
    "df"
   ]
  },
  {
   "cell_type": "markdown",
   "metadata": {},
   "source": [
    "**[5장: 236페이지]**"
   ]
  },
  {
   "cell_type": "code",
   "execution_count": null,
   "metadata": {},
   "outputs": [],
   "source": [
    "dict_data = {'A': [0, 1, 2, 3],\n",
    "             'B': [4, 5, 6, 7],\n",
    "             'C': [8, 9, 10, 11]} # 딕셔너리 데이터\n",
    "\n",
    "index_data = ['a', 'b', 'c', 'd'] # index 지정용 데이터\n",
    "\n",
    "df1 = pd.DataFrame(dict_data, index=index_data) # DataFrame 데이터 생성\n",
    "df1"
   ]
  },
  {
   "cell_type": "code",
   "execution_count": null,
   "metadata": {},
   "outputs": [],
   "source": [
    "df1['C']['c'] # 하나의 열 선택 후 하나의 행 선택(index 라벨)"
   ]
  },
  {
   "cell_type": "code",
   "execution_count": null,
   "metadata": {},
   "outputs": [],
   "source": [
    "df1['C'][2] # 하나의 열 선택 후 하나의 행 선택(index 위치)"
   ]
  },
  {
   "cell_type": "markdown",
   "metadata": {},
   "source": [
    "**[5장: 237페이지]**"
   ]
  },
  {
   "cell_type": "code",
   "execution_count": null,
   "metadata": {},
   "outputs": [],
   "source": [
    "df1['C'][[0,1,3]] # 하나의 열 선택 후 리스트로 여러 행을 선택"
   ]
  },
  {
   "cell_type": "code",
   "execution_count": null,
   "metadata": {},
   "outputs": [],
   "source": [
    "df1['C']['a':'d'] # 하나의 열 선택 후 슬라이싱으로 여러 행을 선택"
   ]
  },
  {
   "cell_type": "code",
   "execution_count": null,
   "metadata": {},
   "outputs": [],
   "source": [
    "df1['C'][df1['B']>=5] # 하나의 열 선택 후 조건을 지정해 행을 선택"
   ]
  },
  {
   "cell_type": "code",
   "execution_count": null,
   "metadata": {},
   "outputs": [],
   "source": [
    "df1.T"
   ]
  },
  {
   "cell_type": "markdown",
   "metadata": {},
   "source": [
    "**[5장: 238페이지]**"
   ]
  },
  {
   "cell_type": "code",
   "execution_count": null,
   "metadata": {},
   "outputs": [],
   "source": [
    "import numpy as np\n",
    "import pandas as pd\n",
    "\n",
    "s3 = pd.Series([10, 20, 30, 40, np.nan, 60]) # Series 데이터 생성\n",
    "s3"
   ]
  },
  {
   "cell_type": "markdown",
   "metadata": {},
   "source": [
    "**[5장: 239페이지]**"
   ]
  },
  {
   "cell_type": "code",
   "execution_count": null,
   "metadata": {},
   "outputs": [],
   "source": [
    "s3.drop(index = 0) # Series 데이터에서 하나의 행을 제거"
   ]
  },
  {
   "cell_type": "code",
   "execution_count": null,
   "metadata": {},
   "outputs": [],
   "source": [
    "s3.drop(index = [1, 3, 5]) # Series 데이터에서 여러 행을 제거"
   ]
  },
  {
   "cell_type": "code",
   "execution_count": null,
   "metadata": {},
   "outputs": [],
   "source": [
    "import pandas as pd\n",
    "\n",
    "# CSV 파일 경로\n",
    "folder = 'C:/myPyExcel/data/ch05/' \n",
    "csv_file = folder + 'electric_products.csv' \n",
    "\n",
    "# CSV 파일을 읽어와서 DataFrame 데이터 생성\n",
    "df3 = pd.read_csv(csv_file, encoding=\"utf-8\") \n",
    "df3"
   ]
  },
  {
   "cell_type": "markdown",
   "metadata": {},
   "source": [
    "**[5장: 240페이지]**"
   ]
  },
  {
   "cell_type": "code",
   "execution_count": null,
   "metadata": {},
   "outputs": [],
   "source": [
    "# DataFrame 데이터에서 여러 행을 제거\n",
    "df3.drop(index=[1, 2]) "
   ]
  },
  {
   "cell_type": "code",
   "execution_count": null,
   "metadata": {},
   "outputs": [],
   "source": [
    "# DataFrame 데이터에서 여러 열의 데이터를 제거\n",
    "df3.drop(columns=['M3','M4']) "
   ]
  },
  {
   "cell_type": "code",
   "execution_count": null,
   "metadata": {},
   "outputs": [],
   "source": [
    "# DataFrame 데이터에서 행과 열의 데이터를 제거\n",
    "df3.drop(index=[1,2], columns=['M3','M4'])"
   ]
  },
  {
   "cell_type": "markdown",
   "metadata": {},
   "source": [
    "### 표 데이터 통합"
   ]
  },
  {
   "cell_type": "markdown",
   "metadata": {},
   "source": [
    "**[5장: 242페이지]**"
   ]
  },
  {
   "cell_type": "code",
   "execution_count": null,
   "metadata": {},
   "outputs": [],
   "source": [
    "import pandas as pd\n",
    "\n",
    "s1 = pd.Series([10, 20, 30])\n",
    "s1"
   ]
  },
  {
   "cell_type": "code",
   "execution_count": null,
   "metadata": {},
   "outputs": [],
   "source": [
    "s2 = pd.Series([40, 50, 60])\n",
    "s2"
   ]
  },
  {
   "cell_type": "code",
   "execution_count": null,
   "metadata": {},
   "outputs": [],
   "source": [
    "s3 = pd.Series([70, 80, 90])\n",
    "s3"
   ]
  },
  {
   "cell_type": "code",
   "execution_count": null,
   "metadata": {},
   "outputs": [],
   "source": [
    "# 세로 방향으로 연결\n",
    "pd.concat([s1, s2])"
   ]
  },
  {
   "cell_type": "markdown",
   "metadata": {},
   "source": [
    "**[5장: 243페이지]**"
   ]
  },
  {
   "cell_type": "code",
   "execution_count": null,
   "metadata": {},
   "outputs": [],
   "source": [
    "# 기존 index를 무시하고 새로운 index를 생성\n",
    "pd.concat([s1, s2], ignore_index=True) "
   ]
  },
  {
   "cell_type": "code",
   "execution_count": null,
   "metadata": {
    "scrolled": true
   },
   "outputs": [],
   "source": [
    "# 기존 index를 무시하고 새로운 index를 생성\n",
    "pd.concat([s1, s2, s3], ignore_index=True) "
   ]
  },
  {
   "cell_type": "markdown",
   "metadata": {},
   "source": [
    "**[5장: 244페이지]**"
   ]
  },
  {
   "cell_type": "code",
   "execution_count": null,
   "metadata": {},
   "outputs": [],
   "source": [
    "df1 = pd.DataFrame({'물리':[95, 92, 98, 100],\n",
    "                    '화학':[91, 93, 97, 99]})\n",
    "df1"
   ]
  },
  {
   "cell_type": "code",
   "execution_count": null,
   "metadata": {},
   "outputs": [],
   "source": [
    "df2 = pd.DataFrame({'물리':[87, 89],\n",
    "                    '화학':[85, 90]})\n",
    "df2"
   ]
  },
  {
   "cell_type": "code",
   "execution_count": null,
   "metadata": {},
   "outputs": [],
   "source": [
    "df3 = pd.DataFrame({'물리':[72, 85]})\n",
    "df3"
   ]
  },
  {
   "cell_type": "code",
   "execution_count": null,
   "metadata": {},
   "outputs": [],
   "source": [
    "df4 = pd.DataFrame({'생명과학':[94, 91, 94, 83],\n",
    "                    '자구과학':[86, 94, 89, 93]})\n",
    "df4"
   ]
  },
  {
   "cell_type": "markdown",
   "metadata": {},
   "source": [
    "**[5장: 245페이지]**"
   ]
  },
  {
   "cell_type": "code",
   "execution_count": null,
   "metadata": {},
   "outputs": [],
   "source": [
    "# 세로 방향으로 연결하되 기존 index를 무시\n",
    "pd.concat([df1, df2], ignore_index=True)"
   ]
  },
  {
   "cell_type": "code",
   "execution_count": null,
   "metadata": {},
   "outputs": [],
   "source": [
    "# 세로 방향으로 연결하되 기존 index를 무시\n",
    "pd.concat([df2, df3], ignore_index=True) "
   ]
  },
  {
   "cell_type": "code",
   "execution_count": null,
   "metadata": {},
   "outputs": [],
   "source": [
    "# 세로 방향으로 공통 데이터만 연결 (기존 index를 무시)\n",
    "pd.concat([df2, df3], ignore_index=True, join='inner')"
   ]
  },
  {
   "cell_type": "markdown",
   "metadata": {},
   "source": [
    "**[5장: 246페이지]**"
   ]
  },
  {
   "cell_type": "code",
   "execution_count": null,
   "metadata": {
    "scrolled": true
   },
   "outputs": [],
   "source": [
    "# 가로 방향으로 연결\n",
    "pd.concat([df1, df4], axis=1)"
   ]
  },
  {
   "cell_type": "code",
   "execution_count": null,
   "metadata": {},
   "outputs": [],
   "source": [
    "# 가로 방향으로 모든 데이터 연결\n",
    "pd.concat([df2, df4], axis=1) "
   ]
  },
  {
   "cell_type": "markdown",
   "metadata": {},
   "source": [
    "**[5장: 247페이지]**"
   ]
  },
  {
   "cell_type": "code",
   "execution_count": null,
   "metadata": {
    "scrolled": true
   },
   "outputs": [],
   "source": [
    "# 가로 방향으로 공통 데이터만 연결\n",
    "pd.concat([df2, df4], axis=1, join='inner')"
   ]
  },
  {
   "cell_type": "code",
   "execution_count": null,
   "metadata": {},
   "outputs": [],
   "source": [
    "# s1에 s2를 세로 방향으로 연결하되 기존 index를 무시하고 새로운 index를 생성\n",
    "s1.append(s2, ignore_index=True) "
   ]
  },
  {
   "cell_type": "markdown",
   "metadata": {},
   "source": [
    "**[5장: 248페이지]**"
   ]
  },
  {
   "cell_type": "code",
   "execution_count": null,
   "metadata": {},
   "outputs": [],
   "source": [
    "# s1에 s2, s3를 세로 방향으로 연결하되 기존 index를 무시하고 새로운 index를 생성\n",
    "s1.append([s2, s3], ignore_index=True) "
   ]
  },
  {
   "cell_type": "code",
   "execution_count": null,
   "metadata": {},
   "outputs": [],
   "source": [
    "# df1에 df2를 세로 방향으로 연결하되 기존 index를 무시하고 새로운 index를 생성\n",
    "df1.append(df2, ignore_index=True) "
   ]
  },
  {
   "cell_type": "markdown",
   "metadata": {},
   "source": [
    "**[5장: 249페이지]**"
   ]
  },
  {
   "cell_type": "code",
   "execution_count": null,
   "metadata": {},
   "outputs": [],
   "source": [
    "# df2에 df3를 세로 방향으로 연결하되 기존 index를 무시하고 새로운 index를 생성\n",
    "df2.append(df3, ignore_index=True)"
   ]
  },
  {
   "cell_type": "code",
   "execution_count": null,
   "metadata": {},
   "outputs": [],
   "source": [
    "# df1에 df2, df3를 세로 방향으로 연결하되 기존 index를 무시하고 새로운 index를 생성\n",
    "df1.append([df2, df3], ignore_index=True)"
   ]
  },
  {
   "cell_type": "markdown",
   "metadata": {},
   "source": [
    "**[5장: 250페이지]**"
   ]
  },
  {
   "cell_type": "code",
   "execution_count": null,
   "metadata": {},
   "outputs": [],
   "source": [
    "dict_data = {'A': ['a0', 'a1', 'a2'], \n",
    "             'B': ['b0', 'b1', 'b2']} \n",
    "\n",
    "df_left1 = pd.DataFrame(dict_data)\n",
    "df_left1"
   ]
  },
  {
   "cell_type": "markdown",
   "metadata": {},
   "source": [
    "**[5장: 250~251페이지]**"
   ]
  },
  {
   "cell_type": "code",
   "execution_count": null,
   "metadata": {
    "scrolled": true
   },
   "outputs": [],
   "source": [
    "dict_data = {'C': ['c0', 'c1', 'c2'], \n",
    "             'D': ['d0', 'd1', 'd2']}\n",
    "\n",
    "df_right1 = pd.DataFrame(dict_data, index = [1, 2, 3])\n",
    "df_right1"
   ]
  },
  {
   "cell_type": "markdown",
   "metadata": {},
   "source": [
    "**[5장: 251페이지]**"
   ]
  },
  {
   "cell_type": "code",
   "execution_count": null,
   "metadata": {},
   "outputs": [],
   "source": [
    "dict_data = {'A': ['a0', 'a1', 'a2'], \n",
    "             'D': ['d0', 'd1', 'd2']}\n",
    "\n",
    "df_right2 = pd.DataFrame(dict_data)\n",
    "df_right2"
   ]
  },
  {
   "cell_type": "code",
   "execution_count": null,
   "metadata": {
    "scrolled": true
   },
   "outputs": [],
   "source": [
    "# 왼쪽 데이터는 모두 선택, 왼쪽 index와 연관된 항목이 있는 오른쪽 데이터만 병합\n",
    "df_left1.join(df_right1, how='left') # df_left1.join(df_right1)와 동일"
   ]
  },
  {
   "cell_type": "markdown",
   "metadata": {},
   "source": [
    "**[5장: 252페이지]**"
   ]
  },
  {
   "cell_type": "code",
   "execution_count": null,
   "metadata": {},
   "outputs": [],
   "source": [
    "# 오른쪽 데이터는 모두 선택, 오른쪽 index와 연관된 항목이 있는 왼쪽 데이터만 병합\n",
    "df_left1.join(df_right1, how='right')"
   ]
  },
  {
   "cell_type": "code",
   "execution_count": null,
   "metadata": {},
   "outputs": [],
   "source": [
    "# index를 기준으로 왼쪽과 오른쪽 열 데이터를 모두 병합\n",
    "df_left1.join(df_right1, how='outer')"
   ]
  },
  {
   "cell_type": "code",
   "execution_count": null,
   "metadata": {},
   "outputs": [],
   "source": [
    "# index를 기준으로 왼쪽과 오른쪽에 연관된 항목이 모두 있는 데이터만 병합\n",
    "df_left1.join(df_right1, how='inner')"
   ]
  },
  {
   "cell_type": "code",
   "execution_count": null,
   "metadata": {
    "scrolled": true
   },
   "outputs": [],
   "source": [
    "# lsuffix와 rsuffix 옵션 추가\n",
    "df_left1.join(df_right2, lsuffix ='_1', rsuffix='_2')"
   ]
  },
  {
   "cell_type": "markdown",
   "metadata": {},
   "source": [
    "**[5장: 253페이지]**"
   ]
  },
  {
   "cell_type": "code",
   "execution_count": null,
   "metadata": {},
   "outputs": [],
   "source": [
    "pd.concat([df_left1, df_right2], axis=1) # 가로 방향으로 연결"
   ]
  },
  {
   "cell_type": "markdown",
   "metadata": {},
   "source": [
    "**[5장: 254페이지]**"
   ]
  },
  {
   "cell_type": "code",
   "execution_count": null,
   "metadata": {},
   "outputs": [],
   "source": [
    "df_left3 = pd.DataFrame({'key': ['k0', 'k1', 'k2', 'k3'],\n",
    "                         'A': ['a0', 'a1', 'a2', 'a3']})\n",
    "df_left3"
   ]
  },
  {
   "cell_type": "code",
   "execution_count": null,
   "metadata": {},
   "outputs": [],
   "source": [
    "df_right3 = pd.DataFrame({'key': ['k2', 'k3', 'k4', 'k5'],\n",
    "                          'B': ['b2', 'b3', 'b4', 'b5']})\n",
    "df_right3"
   ]
  },
  {
   "cell_type": "markdown",
   "metadata": {},
   "source": [
    "**[5장: 255페이지]**"
   ]
  },
  {
   "cell_type": "code",
   "execution_count": null,
   "metadata": {},
   "outputs": [],
   "source": [
    "df_left3.merge(df_right3, how='left', on='key')"
   ]
  },
  {
   "cell_type": "code",
   "execution_count": null,
   "metadata": {},
   "outputs": [],
   "source": [
    "df_left3.merge(df_right3, how='right', on='key')"
   ]
  },
  {
   "cell_type": "code",
   "execution_count": null,
   "metadata": {
    "scrolled": true
   },
   "outputs": [],
   "source": [
    "df_left3.merge(df_right3, how='outer', on='key')"
   ]
  },
  {
   "cell_type": "markdown",
   "metadata": {},
   "source": [
    "**[5장: 256페이지]**"
   ]
  },
  {
   "cell_type": "code",
   "execution_count": null,
   "metadata": {},
   "outputs": [],
   "source": [
    "df_left3.merge(df_right3, how='inner', on='key') # df_left3.merge(df_right3)와 동일"
   ]
  },
  {
   "cell_type": "code",
   "execution_count": null,
   "metadata": {
    "scrolled": true
   },
   "outputs": [],
   "source": [
    "df_left3.merge(df_right3) # df_left3.merge(df_right3, how='inner', on='key')와 동일"
   ]
  },
  {
   "cell_type": "code",
   "execution_count": null,
   "metadata": {},
   "outputs": [],
   "source": [
    "df_left4 = pd.DataFrame({'key': ['k0', 'k1', 'k2', 'k3'],\n",
    "                         'A': ['a0', 'a1', 'a2', 'a3'],\n",
    "                         'C': ['c0', 'c1', 'c2', 'c3']})\n",
    "df_left4"
   ]
  },
  {
   "cell_type": "code",
   "execution_count": null,
   "metadata": {
    "scrolled": true
   },
   "outputs": [],
   "source": [
    "df_right4 = pd.DataFrame({'key': ['k0', 'k1', 'k2', 'k3'],\n",
    "                          'A': ['a0', 'a1', 'a4', 'a5'],\n",
    "                          'D': ['d0', 'd1', 'd2', 'd3']})\n",
    "df_right4"
   ]
  },
  {
   "cell_type": "markdown",
   "metadata": {},
   "source": [
    "**[5장: 257페이지]**"
   ]
  },
  {
   "cell_type": "code",
   "execution_count": null,
   "metadata": {},
   "outputs": [],
   "source": [
    "df_left4.merge(df_right4, how='inner')"
   ]
  },
  {
   "cell_type": "code",
   "execution_count": null,
   "metadata": {
    "scrolled": false
   },
   "outputs": [],
   "source": [
    "df_left4.merge(df_right4, how='inner', on=['key', 'A'])"
   ]
  },
  {
   "cell_type": "markdown",
   "metadata": {},
   "source": [
    "**[5장: 258페이지]**"
   ]
  },
  {
   "cell_type": "code",
   "execution_count": null,
   "metadata": {},
   "outputs": [],
   "source": [
    "df_left4.merge(df_right4, how='outer', on='key')"
   ]
  },
  {
   "cell_type": "code",
   "execution_count": null,
   "metadata": {
    "scrolled": true
   },
   "outputs": [],
   "source": [
    "df_left4.merge(df_right4, how='outer', on='key', suffixes=('_left', '_right'))"
   ]
  },
  {
   "cell_type": "code",
   "execution_count": null,
   "metadata": {
    "scrolled": true
   },
   "outputs": [],
   "source": [
    "df_left5 = pd.DataFrame({'key_left': ['k0', 'k1', 'k2', 'k3'],\n",
    "                         'A': ['a0', 'a1', 'a2', 'a3']})\n",
    "df_left5"
   ]
  },
  {
   "cell_type": "markdown",
   "metadata": {},
   "source": [
    "**[5장: 259페이지]**"
   ]
  },
  {
   "cell_type": "code",
   "execution_count": null,
   "metadata": {},
   "outputs": [],
   "source": [
    "df_right5 = pd.DataFrame({'key_right': ['k1', 'k2', 'k3'],\n",
    "                          'A': ['a1', 'a4', 'a5']}, index=[2,3,4])\n",
    "df_right5"
   ]
  },
  {
   "cell_type": "code",
   "execution_count": null,
   "metadata": {},
   "outputs": [],
   "source": [
    "# 두 개의 DataFrame 데이터를 통합 \n",
    "df_left5.merge(df_right5, how='left', left_on='key_left', right_on='key_right')"
   ]
  },
  {
   "cell_type": "code",
   "execution_count": null,
   "metadata": {
    "scrolled": true
   },
   "outputs": [],
   "source": [
    "code_list = ['LS05', 'SM10', 'BP70', 'LS10', 'BP70', 'SM10', 'LS05']\n",
    "sales_list = [29, 25, 30, 22, 19, 38, 45]\n",
    "store_list = ['강남','강남','강남','대학로','대학로','인천공항','인천공항']\n",
    "\n",
    "# 제품의 코드와 매장별 판매량이 있는 DataFrame 데이터 생성\n",
    "df_sales = pd.DataFrame({'code': code_list, \n",
    "                         'sales': sales_list, \n",
    "                         'store': store_list})\n",
    "df_sales"
   ]
  },
  {
   "cell_type": "markdown",
   "metadata": {},
   "source": [
    "**[5장: 260페이지]**"
   ]
  },
  {
   "cell_type": "code",
   "execution_count": null,
   "metadata": {},
   "outputs": [],
   "source": [
    "# 제품의 코드와 제품 이름이 있는 DataFrame 데이터 생성\n",
    "df_ref = pd.DataFrame({'code': ['LS05', 'SM10', 'BP70', 'LS10'],\n",
    "                       'name': ['브리오슈', '베이글', '치아바타', '바게트']})\n",
    "df_ref"
   ]
  },
  {
   "cell_type": "code",
   "execution_count": null,
   "metadata": {},
   "outputs": [],
   "source": [
    "df_sales.merge(df_ref, how='left', on='code') # 두 개의 DataFrame 데이터를 병합"
   ]
  },
  {
   "cell_type": "markdown",
   "metadata": {},
   "source": [
    "## 5.3 정리"
   ]
  }
 ],
 "metadata": {
  "kernelspec": {
   "display_name": "Python 3",
   "language": "python",
   "name": "python3"
  },
  "language_info": {
   "codemirror_mode": {
    "name": "ipython",
    "version": 3
   },
   "file_extension": ".py",
   "mimetype": "text/x-python",
   "name": "python",
   "nbconvert_exporter": "python",
   "pygments_lexer": "ipython3",
   "version": "3.8.3"
  },
  "toc": {
   "base_numbering": "5",
   "nav_menu": {},
   "number_sections": false,
   "sideBar": true,
   "skip_h1_title": false,
   "title_cell": "Table of Contents",
   "title_sidebar": "Contents",
   "toc_cell": false,
   "toc_position": {
    "height": "825px",
    "left": "22px",
    "top": "111.133px",
    "width": "385px"
   },
   "toc_section_display": true,
   "toc_window_display": false
  }
 },
 "nbformat": 4,
 "nbformat_minor": 2
}
