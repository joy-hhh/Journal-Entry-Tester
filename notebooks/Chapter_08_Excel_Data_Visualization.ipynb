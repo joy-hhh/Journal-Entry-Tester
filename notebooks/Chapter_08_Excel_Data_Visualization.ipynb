{
 "cells": [
  {
   "cell_type": "markdown",
   "metadata": {},
   "source": [
    "# 8장 엑셀 데이터 시각화"
   ]
  },
  {
   "cell_type": "markdown",
   "metadata": {},
   "source": [
    "## 8.1 엑셀 차트"
   ]
  },
  {
   "cell_type": "markdown",
   "metadata": {},
   "source": [
    "### 엑셀 차트를 생성하는 코드의 기본 구조"
   ]
  },
  {
   "cell_type": "markdown",
   "metadata": {},
   "source": [
    "### 막대형 차트"
   ]
  },
  {
   "cell_type": "markdown",
   "metadata": {},
   "source": [
    "**[8장: 427~428페이지]**"
   ]
  },
  {
   "cell_type": "code",
   "execution_count": null,
   "metadata": {
    "scrolled": false
   },
   "outputs": [],
   "source": [
    "import pandas as pd\n",
    "\n",
    "folder = 'C:/myPyExcel/data/ch08/' # 데이터 디렉터리(폴더)\n",
    "excel_file = folder + '영업팀별_판매현황.xlsx' # 원본 엑셀 파일\n",
    "\n",
    "df = pd.read_excel(excel_file) # 엑셀 파일을 DataFrame 데이터(df)로 읽어 오기\n",
    "df"
   ]
  },
  {
   "cell_type": "markdown",
   "metadata": {},
   "source": [
    "**[8장: 428~429페이지]**"
   ]
  },
  {
   "cell_type": "code",
   "execution_count": null,
   "metadata": {},
   "outputs": [],
   "source": [
    "# (1) 판다스 ExcelWriter 객체 생성\n",
    "folder = 'C:/myPyExcel/data/ch08/' # 엑셀 파일이 있는 디렉터리(폴더)\n",
    "excel_file_chart = folder + '영업팀별_판매현황_세로막대형차트.xlsx' # 생성할 파일\n",
    "\n",
    "excel_writer = pd.ExcelWriter(excel_file_chart, engine='xlsxwriter')\n",
    "\n",
    "# (2) DataFrame 데이터를 지정된 워크시트(sheet_name=시트_이름)에 쓰기\n",
    "df.to_excel(excel_writer, sheet_name='Sheet1', index=False)\n",
    "\n",
    "# (3) ExcelWriter 객체에서 워크북(workbook)과 워크시트(worksheet) 객체 생성\n",
    "workbook  = excel_writer.book\n",
    "worksheet = excel_writer.sheets['Sheet1']\n",
    "\n",
    "# (4) 차트 객체 생성(원하는 차트의 종류 지정)\n",
    "chart = workbook.add_chart({'type': 'column'}) # 세로 막대형 차트\n",
    "\n",
    "# (5) 차트를 생성하기 위한 데이터 값의 범위 지정\n",
    "chart.add_series({'values': '=Sheet1!B2:B7'}) # 막대형 차트 데이터 범위 지정\n",
    "chart.add_series({'values': '=Sheet1!C2:C7'}) # 막대형 차트 데이터 범위 지정\n",
    "chart.add_series({'values': '=Sheet1!D2:D7'}) # 막대형 차트 데이터 범위 지정\n",
    "\n",
    "# (6) 워크시트에 차트가 들어갈 위치 지정해 차트 넣기\n",
    "worksheet.insert_chart('E2', chart, {'x_offset': 25, 'y_offset': 10})\n",
    "\n",
    "# (7) ExcelWriter 객체를 닫고 엑셀 파일을 출력\n",
    "excel_writer.save()\n",
    "\n",
    "print(\"생성 파일:\", excel_file_chart) # 생성한 파일 이름 출력"
   ]
  },
  {
   "cell_type": "markdown",
   "metadata": {},
   "source": [
    "**[8장: 430~432페이지]**"
   ]
  },
  {
   "cell_type": "code",
   "execution_count": null,
   "metadata": {
    "scrolled": true
   },
   "outputs": [],
   "source": [
    "import pandas as pd\n",
    "\n",
    "folder = 'C:/myPyExcel/data/ch08/' # 엑셀 파일이 있는 디렉터리(폴더)\n",
    "excel_file = folder + '영업팀별_판매현황.xlsx' # 원본 엑셀 파일\n",
    "df = pd.read_excel(excel_file) # 엑셀 파일을 DataFrame 데이터(df)로 읽어 오기\n",
    "\n",
    "# (1) 판다스 ExcelWriter 객체 생성\n",
    "folder = 'C:/myPyExcel/data/ch08/' # 엑셀 파일이 있는 디렉터리(폴더)\n",
    "excel_file_chart = folder + '영업팀별_판매현황_세로막대형차트2.xlsx' # 생성할 파일\n",
    "excel_writer = pd.ExcelWriter(excel_file_chart, engine = 'xlsxwriter')\n",
    "\n",
    "# (2) DataFrame 데이터를 지정된 워크시트(sheet_name=시트_이름)에 쓰기\n",
    "worksheet_name = 'Sheet1' # 워크 시트 이름을 변수에 할당\n",
    "df.to_excel(excel_writer, sheet_name=worksheet_name, index=False)\n",
    "\n",
    "# (3) ExcelWriter 객체에서 워크북(workbook)과 워크시트(worksheet) 객체 생성\n",
    "workbook  = excel_writer.book\n",
    "worksheet = excel_writer.sheets[worksheet_name]\n",
    "\n",
    "# (4) 차트 객체 생성(원하는 차트의 종류 지정)\n",
    "chart = workbook.add_chart({'type': 'column'}) # 세로 막대형 차트\n",
    "\n",
    "# (5) 차트를 생성하기 위한 데이터 값의 범위 지정\n",
    "columns_len = len(df.columns) # df.shape[1]도 가능\n",
    "\n",
    "for k in range(columns_len - 1):\n",
    "    start_row = 1           # 범위의 시작 행 번호\n",
    "    start_column = k + 1    # 범위의 시작 열 번호\n",
    "    end_row = len(df.index) # 범위의 끝 행 번호(df.shape[0]도 가능)\n",
    "    end_column = k + 1      # 범위의 끝 열 번호\n",
    "    \n",
    "    # 그래프 및 축 값을 위한 데이터 범위, 범례 이름, 그래프 사이 간격 지정\n",
    "    chart.add_series({\n",
    "        'values': [worksheet_name, start_row, start_column,\n",
    "                   end_row, end_column],    # 막대형 차트를 위한 데이터 범위 지정\n",
    "        'categories': [worksheet_name, start_row, 0,\n",
    "                       end_row, 0],         # 축 값에 사용할 데이터 범위 지정\n",
    "        'name': [worksheet_name, 0, k + 1], # 범례 이름으로 사용할 데이터 지정\n",
    "        'overlap': -15 }) # 그래프 사이의 간격 지정\n",
    "                             \n",
    "# (5-1) 엑셀 차트에 차트 제목과 x, y축 제목 추가\n",
    "chart.set_title({'name': '영업팀별 하반기 판매현황'}) # 차트 제목을 지정\n",
    "chart.set_x_axis({'name': '월'})                      # x축 제목을 지정\n",
    "chart.set_y_axis({'name': '판매현황'})                # y축 제목을 지정\n",
    "\n",
    "# (6) 워크시트에 차트가 들어갈 위치 지정해 차트 넣기\n",
    "worksheet.insert_chart(1, columns_len, chart, {'x_offset': 25, 'y_offset': 10})\n",
    "\n",
    "# (7) ExcelWriter 객체를 닫고 엑셀 파일을 출력\n",
    "excel_writer.save()\n",
    "\n",
    "print(\"생성한 엑셀 파일:\", excel_file_chart)          # 생성한 파일 이름 출력"
   ]
  },
  {
   "cell_type": "markdown",
   "metadata": {},
   "source": [
    "**[8장: 433~434페이지]**"
   ]
  },
  {
   "cell_type": "code",
   "execution_count": null,
   "metadata": {},
   "outputs": [],
   "source": [
    "import pandas as pd\n",
    "\n",
    "folder = 'C:/myPyExcel/data/ch08/' # 엑셀 파일이 있는 디렉터리(폴더)\n",
    "excel_file = folder + '영업팀별_판매현황.xlsx' # 원본 엑셀 파일\n",
    "df = pd.read_excel(excel_file) # 엑셀 파일을 DataFrame 데이터(df)로 읽어 오기\n",
    "\n",
    "# (1) 판다스 ExcelWriter 객체 생성\n",
    "folder = 'C:/myPyExcel/data/ch08/' # 엑셀 파일이 있는 디렉터리(폴더)\n",
    "excel_file_chart = folder + '영업팀별_판매현황_가로막대형차트.xlsx' # 생성할 파일\n",
    "excel_writer = pd.ExcelWriter(excel_file_chart, engine='xlsxwriter')\n",
    "\n",
    "# (2) DataFrame 데이터를 지정된 워크시트(sheet_name=시트_이름)에 쓰기\n",
    "worksheet_name = 'Sheet1' # 워크 시트 이름을 변수에 할당\n",
    "df.to_excel(excel_writer, sheet_name=worksheet_name, index=False)\n",
    "\n",
    "# (3) ExcelWriter 객체에서 워크북(workbook)과 워크시트(worksheet) 객체 생성\n",
    "workbook  = excel_writer.book\n",
    "worksheet = excel_writer.sheets[worksheet_name]\n",
    "\n",
    "# (4) 차트 객체 생성(원하는 차트의 종류 지정)\n",
    "chart = workbook.add_chart({'type': 'bar'}) # 가로 막대형 차트\n",
    "\n",
    "# (5) 차트를 생성하기 위한 데이터 값의 범위 지정\n",
    "columns_len = len(df.columns) # df.shape[1]도 가능\n",
    "\n",
    "for k in range(columns_len - 1):\n",
    "    start_row = 1           # 범위의 시작 행 번호\n",
    "    start_column = k + 1    # 범위의 시작 열 번호\n",
    "    end_row = len(df.index) # 범위의 끝 행 번호(df.shape[0]도 가능)\n",
    "    end_column = k + 1      # 범위의 끝 열 번호\n",
    "    \n",
    "    # 그래프 및 축 값을 위한 데이터 범위, 범례 이름, 그래프 사이 간격 지정\n",
    "    chart.add_series({\n",
    "        'values': [worksheet_name, start_row, start_column, end_row, end_column],\n",
    "        'categories': [worksheet_name, start_row, 0, end_row, 0],\n",
    "        'name': [worksheet_name, 0, k + 1],  \n",
    "        'overlap': -15     \n",
    "        }) \n",
    "\n",
    "# (5-1) 엑셀 차트에 차트 제목과 x, y축 제목 추가\n",
    "chart.set_title({'name': '영업팀별 판매현황'}) # 차트 제목을 지정\n",
    "chart.set_x_axis({'name': '판매현황'})         # x축 제목을 지정\n",
    "chart.set_y_axis({'name': '월',                # y축 제목을 지정\n",
    "                  'reverse': True})           # y축 방향을 반대로 지정\n",
    "\n",
    "# (6) 워크시트에 차트가 들어갈 위치 지정해 차트 넣기\n",
    "worksheet.insert_chart(1, columns_len, chart, {'x_offset': 25, 'y_offset': 10})\n",
    "\n",
    "# (7) ExcelWriter 객체를 닫고 엑셀 파일을 출력\n",
    "excel_writer.save()\n",
    "\n",
    "print(\"생성 파일:\", excel_file_chart) # 생성한 파일 이름 출력"
   ]
  },
  {
   "cell_type": "markdown",
   "metadata": {},
   "source": [
    "### 꺾은선형 차트"
   ]
  },
  {
   "cell_type": "markdown",
   "metadata": {},
   "source": [
    "**[8장: 436페이지]**"
   ]
  },
  {
   "cell_type": "code",
   "execution_count": null,
   "metadata": {},
   "outputs": [],
   "source": [
    "import pandas as pd\n",
    "\n",
    "folder = 'C:/myPyExcel/data/ch08/' # 엑셀 파일이 있는 디렉터리(폴더)\n",
    "excel_file = folder + '공장별_생산현황.xlsx' # 원본 엑셀 파일\n",
    "\n",
    "df = pd.read_excel(excel_file)     # 엑셀 파일을 DataFrame 데이터(df)로 읽어 오기\n",
    "df"
   ]
  },
  {
   "cell_type": "markdown",
   "metadata": {},
   "source": [
    "**[8장: 437~438페이지]**"
   ]
  },
  {
   "cell_type": "code",
   "execution_count": null,
   "metadata": {
    "scrolled": true
   },
   "outputs": [],
   "source": [
    "# (1) 판다스 ExcelWriter 객체 생성\n",
    "folder = 'C:/myPyExcel/data/ch08/' # 엑셀 파일이 있는 디렉터리(폴더)\n",
    "excel_file_chart = folder + '공장별_생산현황_꺾은선형차트.xlsx' #  생성할 엑셀 파일\n",
    "excel_writer = pd.ExcelWriter(excel_file_chart, engine='xlsxwriter')\n",
    "\n",
    "# (2) DataFrame 데이터를 지정된 워크시트(sheet_name=시트_이름)에 쓰기\n",
    "worksheet_name = 'Sheet1' # 워크 시트 이름을 변수에 할당\n",
    "df.to_excel(excel_writer, sheet_name=worksheet_name, index=False)\n",
    "\n",
    "# (3) ExcelWriter 객체에서 워크북(workbook)과 워크시트(worksheet) 객체 생성\n",
    "workbook  = excel_writer.book\n",
    "worksheet = excel_writer.sheets[worksheet_name]\n",
    "\n",
    "# (4) 차트 객체 생성(원하는 차트의 종류 지정)\n",
    "chart = workbook.add_chart({'type': 'line'}) # 꺾은선형 차트\n",
    "\n",
    "# (5) 차트를 생성하기 위한 데이터 값의 범위 지정\n",
    "columns_len = len(df.columns) # df.shape[1]도 가능\n",
    "\n",
    "for k in range(columns_len - 1):\n",
    "    start_row = 1           # 범위의 시작 행 번호\n",
    "    start_column = k + 1    # 범위의 시작 열 번호\n",
    "    end_row = len(df.index) # 범위의 끝 행 번호(df.shape[0]도 가능)\n",
    "    end_column = k + 1      # 범위의 끝 열 번호\n",
    "    \n",
    "    # 그래프 및 축 값을 위한 데이터 범위, 범례 이름, 마커 지정\n",
    "    chart.add_series({\n",
    "        'values': [worksheet_name, start_row, start_column, \n",
    "                   end_row, end_column],    # 꺾은선형 차트를 위한 데이터 범위 지정\n",
    "        'categories': [worksheet_name, start_row, 0, \n",
    "                       end_row, 0],         # x 축 값에 사용할 데이터 범위 지정\n",
    "        'name': [worksheet_name, 0, k + 1], # 범례 이름에 사용할 데이터 지정\n",
    "        'marker': {'type': 'circle'}        # 마커 추가: 원모양(circle)으로 지정\n",
    "        })\n",
    "          \n",
    "# (5-1) 엑셀 차트에 차트 제목과 x, y축 제목 추가\n",
    "chart.set_title({'name': '공장별 생산 현황'}) # 차트 제목을 지정\n",
    "chart.set_x_axis({'name': '연도'})            # x축 제목을 지정\n",
    "chart.set_y_axis({'name': '생산량'})          # y축 제목을 지정\n",
    "\n",
    "# (6) 워크시트에 차트가 들어갈 위치 지정해 차트 넣기\n",
    "worksheet.insert_chart(1, columns_len, chart, {'x_offset': 25, 'y_offset': 10})\n",
    "\n",
    "# (7) ExcelWriter 객체를 닫고 엑셀 파일을 출력\n",
    "excel_writer.save()\n",
    "\n",
    "print(\"생성 파일:\", excel_file_chart)          # 생성한 파일 이름 출력"
   ]
  },
  {
   "cell_type": "markdown",
   "metadata": {},
   "source": [
    "### 영역형 차트"
   ]
  },
  {
   "cell_type": "markdown",
   "metadata": {},
   "source": [
    "**[8장: 440페이지]**"
   ]
  },
  {
   "cell_type": "code",
   "execution_count": null,
   "metadata": {},
   "outputs": [],
   "source": [
    "import pandas as pd\n",
    "\n",
    "folder = 'C:/myPyExcel/data/ch08/' # 엑셀 파일이 있는 디렉터리(폴더)\n",
    "excel_file = folder +  '공장별_생산현황2.xlsx' # 원본 엑셀 파일\n",
    "\n",
    "df = pd.read_excel(excel_file) # 엑셀 파일을 DataFrame 데이터(df)로 읽어 오기\n",
    "df"
   ]
  },
  {
   "cell_type": "markdown",
   "metadata": {},
   "source": [
    "**[8장: 441~442페이지]**"
   ]
  },
  {
   "cell_type": "code",
   "execution_count": null,
   "metadata": {},
   "outputs": [],
   "source": [
    "# (1) 판다스 ExcelWriter 객체 생성\n",
    "folder = 'C:/myPyExcel/data/ch08/' # 엑셀 파일이 있는 디렉터리(폴더)\n",
    "excel_file_chart = folder + '공장별_생산현황2_누적영역형차트.xlsx' # 생성 파일\n",
    "\n",
    "excel_writer = pd.ExcelWriter(excel_file_chart, engine='xlsxwriter')\n",
    "\n",
    "# (2) DataFrame 데이터를 지정된 워크시트(sheet_name=시트_이름)에 쓰기\n",
    "worksheet_name = 'Sheet1' # 워크 시트 이름을 변수에 할당\n",
    "df.to_excel(excel_writer, sheet_name=worksheet_name, index=False)\n",
    "\n",
    "# (3) ExcelWriter 객체에서 워크북(workbook)과 워크시트(worksheet) 객체 생성\n",
    "workbook  = excel_writer.book\n",
    "worksheet = excel_writer.sheets[worksheet_name]\n",
    "\n",
    "# (4) 차트 객체 생성(원하는 차트의 종류 지정)\n",
    "chart = workbook.add_chart({'type': 'area', # 차트 종류: 영역형(area)\n",
    "                            'subtype': 'stacked'}) # 누적(stacked)\n",
    "\n",
    "# (5) 차트를 생성하기 위한 데이터 값의 범위 지정\n",
    "columns_len = len(df.columns) # df.shape[1]도 가능\n",
    "\n",
    "for k in range(columns_len - 1):\n",
    "    start_row = 1           # 범위의 시작 행 번호\n",
    "    start_column = k + 1    # 범위의 시작 열 번호\n",
    "    end_row = len(df.index) # 범위의 끝 행 번호(df.shape[0]도 가능)\n",
    "    end_column = k + 1      # 범위의 끝 열 번호\n",
    "    \n",
    "    # 그래프 및 축 값을 위한 데이터 범위, 범례 이름 지정\n",
    "    chart.add_series({\n",
    "        'values': [worksheet_name, start_row, start_column, \n",
    "                   end_row, end_column],   # 영역형 차트를 위한 데이터 범위 지정\n",
    "        'categories': [worksheet_name, start_row, 0, \n",
    "                       end_row, 0],        # x 축 값에 사용할 데이터 범위 지정\n",
    "        'name': [worksheet_name, 0, k + 1] # 범례 이름에 사용할 데이터 지정\n",
    "        })\n",
    "    \n",
    "# (5-1) 엑셀 차트에 차트 제목과 x, y축 제목 추가\n",
    "chart.set_title({'name': '공장별 생산 현황(누적)'}) # 차트 제목을 지정\n",
    "chart.set_x_axis({'name': '연도'})                  # x축 제목을 지정\n",
    "chart.set_y_axis({'name': '생산량'})                # y축 제목을 지정\n",
    "\n",
    "# (6) 워크시트에 차트가 들어갈 위치 지정해 차트 넣기\n",
    "worksheet.insert_chart(1, columns_len, chart, {'x_offset': 25, 'y_offset': 10})\n",
    "\n",
    "# (7) ExcelWriter 객체를 닫고 엑셀 파일을 출력\n",
    "excel_writer.save()\n",
    "\n",
    "print(\"생성 파일:\", excel_file_chart)     # 생성한 파일 이름 출력"
   ]
  },
  {
   "cell_type": "markdown",
   "metadata": {},
   "source": [
    "### 원형 차트"
   ]
  },
  {
   "cell_type": "markdown",
   "metadata": {},
   "source": [
    "**[8장: 444페이지]**"
   ]
  },
  {
   "cell_type": "code",
   "execution_count": null,
   "metadata": {
    "scrolled": false
   },
   "outputs": [],
   "source": [
    "import pandas as pd\n",
    "\n",
    "folder = 'C:/myPyExcel/data/ch08/' # 엑셀 파일이 있는 디렉터리(폴더)\n",
    "excel_file = folder + '가장_좋아하는_운동.xlsx' # 원본 엑셀 파일\n",
    "\n",
    "df = pd.read_excel(excel_file)     # 엑셀 파일을 DataFrame 데이터(df)로 읽어 오기\n",
    "df"
   ]
  },
  {
   "cell_type": "markdown",
   "metadata": {},
   "source": [
    "**[8장: 445~446페이지]**"
   ]
  },
  {
   "cell_type": "code",
   "execution_count": null,
   "metadata": {
    "scrolled": true
   },
   "outputs": [],
   "source": [
    "# (1) 판다스 ExcelWriter 객체 생성\n",
    "folder = 'C:/myPyExcel/data/ch08/' # 엑셀 파일이 있는 디렉터리(폴더)\n",
    "excel_file_chart = folder + '가장_좋아하는_운동_원형차트.xlsx' # 생성 파일\n",
    "\n",
    "excel_writer = pd.ExcelWriter(excel_file_chart, engine='xlsxwriter')\n",
    "\n",
    "# (2) DataFrame 데이터를 지정된 워크시트(sheet_name=시트_이름)에 쓰기\n",
    "worksheet_name = 'Sheet1' # 워크 시트 이름을 변수에 할당\n",
    "df.to_excel(excel_writer, sheet_name=worksheet_name, index=False)\n",
    "\n",
    "# (3) ExcelWriter 객체에서 워크북(workbook)과 워크시트(worksheet) 객체 생성\n",
    "workbook  = excel_writer.book\n",
    "worksheet = excel_writer.sheets[worksheet_name]\n",
    "\n",
    "# (4) 차트 객체 생성(원하는 차트의 종류 지정)\n",
    "chart = workbook.add_chart({'type': 'pie'}) # 원형 차트\n",
    "\n",
    "# (5) 차트를 생성하기 위한 데이터 값의 범위 지정\n",
    "columns_len = len(df.columns) # df.shape[1]도 가능\n",
    "\n",
    "for k in range(columns_len - 1):\n",
    "    start_row = 1           # 범위의 시작 행 번호\n",
    "    start_column = k + 1    # 범위의 시작 열 번호\n",
    "    end_row = len(df.index) # 범위의 끝 행 번호(df.shape[0]도 가능)\n",
    "    end_column = k + 1      # 범위의 끝 열 번호\n",
    "    \n",
    "    # 그래프 및 축 값을 위한 데이터 범위, 범례 이름, 데이터 라벨 지정\n",
    "    chart.add_series({\n",
    "        'values': [worksheet_name, start_row, start_column, \n",
    "                   end_row, end_column],     # 원형 차트를 위한 데이터 범위 지정\n",
    "        'categories': [worksheet_name, start_row, 0, \n",
    "                       end_row, 0],          # 원형 차트의 항목 이름에 사용할 데이터 범위 지정\n",
    "        'name': [worksheet_name, 0, k + 1],  # 범례 이름에 사용할 데이터 지정        \n",
    "        'data_labels': {'value': True,      # 차트에 데이터 값 표시\n",
    "                        'percentage': True, # 차트에 퍼센트 비율 표시\n",
    "                        'category': True,   # 항목 이름 표시\n",
    "                        'position': 'outside_end'} # 위치 지정        \n",
    "        })\n",
    "    \n",
    "# (5-1) 엑셀 차트에 차트 제목, 범례 위치, 스타일 지정\n",
    "chart.set_title({'name': '가장 좋아하는 운동 조사 결과'}) # 차트 제목을 지정\n",
    "chart.set_legend({'position': 'bottom'}) # 범례의 위치를 아래로 지정\n",
    "chart.set_style(10) # 차트 스타일 지정(원형 차트의 경우 흰색 외곽선과 그림자 추가)\n",
    "\n",
    "# (6) 워크시트에 차트가 들어갈 위치 지정해 차트 넣기\n",
    "worksheet.insert_chart(1, columns_len, chart, {'x_offset': 25, 'y_offset': 10})\n",
    "\n",
    "# (7) ExcelWriter 객체를 닫고 엑셀 파일을 출력\n",
    "excel_writer.save()\n",
    "\n",
    "print(\"생성 파일:\", excel_file_chart)    # 생성한 파일 이름 출력"
   ]
  },
  {
   "cell_type": "markdown",
   "metadata": {},
   "source": [
    "### 분산형 차트"
   ]
  },
  {
   "cell_type": "markdown",
   "metadata": {},
   "source": [
    "**[8장: 448페이지]**"
   ]
  },
  {
   "cell_type": "code",
   "execution_count": null,
   "metadata": {
    "scrolled": true
   },
   "outputs": [],
   "source": [
    "import pandas as pd\n",
    "\n",
    "folder = 'C:/myPyExcel/data/ch08/' # 엑셀 파일이 있는 디렉터리(폴더)\n",
    "excel_file = folder + '키와_몸무게.xlsx' # 원본 엑셀 파일\n",
    "\n",
    "df = pd.read_excel(excel_file) # 엑셀 파일을 DataFrame 데이터(df)로 읽어 오기\n",
    "df"
   ]
  },
  {
   "cell_type": "markdown",
   "metadata": {},
   "source": [
    "**[8장: 449~450페이지]**"
   ]
  },
  {
   "cell_type": "code",
   "execution_count": null,
   "metadata": {
    "scrolled": true
   },
   "outputs": [],
   "source": [
    "# (1) 판다스 ExcelWriter 객체 생성\n",
    "folder = 'C:/myPyExcel/data/ch08/' # 엑셀 파일이 있는 디렉터리(폴더)\n",
    "excel_file_chart = folder + '키와_몸무게_분산형차트.xlsx' # 생성할 파일\n",
    "\n",
    "excel_writer = pd.ExcelWriter(excel_file_chart, engine='xlsxwriter')\n",
    "\n",
    "# (2) DataFrame 데이터를 지정된 워크시트(sheet_name=시트_이름)에 쓰기\n",
    "worksheet_name = 'Sheet1' # 워크 시트 이름을 변수에 할당\n",
    "df.to_excel(excel_writer, sheet_name=worksheet_name, index=False)\n",
    "\n",
    "# (3) ExcelWriter 객체에서 워크북(workbook)과 워크시트(worksheet) 객체 생성\n",
    "workbook  = excel_writer.book\n",
    "worksheet = excel_writer.sheets[worksheet_name]\n",
    "\n",
    "# (4) 차트 객체 생성(원하는 차트의 종류 지정)\n",
    "chart = workbook.add_chart({'type': 'scatter'}) # 분산형 차트\n",
    "\n",
    "# (5) 차트를 생성하기 위한 데이터 값의 범위 지정\n",
    "columns_len = len(df.columns) # df.shape[1]도 가능\n",
    "\n",
    "start_row = 1     # 범위의 시작 행 번호\n",
    "start_column = 1  # 범위의 시작 열 번호\n",
    "end_row = len(df.index) # 범위의 끝 행 번호(df.shape[0]도 가능)\n",
    "end_column = 1    # 범위의 끝 열 번호\n",
    "\n",
    "# 그래프 및 축 값을 위한 데이터 범위, 마커 지정\n",
    "chart.add_series({\n",
    "    'values': [worksheet_name, start_row, start_column, \n",
    "               end_row, end_column],  # y축 값에 사용할 데이터 범위 지정\n",
    "    'categories': [worksheet_name, start_row, 0, \n",
    "                   end_row, 0],       # x축 값에 사용할 데이터 범위 지정      \n",
    "    'marker': {'type': 'circle',      # 마커 모양: 원(circle)으로 지정  \n",
    "               'size': 10}            # 마커 크기: 10으로 지정     \n",
    "    })\n",
    "\n",
    "# (5-1) 엑셀 차트에 차트 제목과 x, y축 제목, 범례를 위한 설정\n",
    "chart.set_title({'name': '키와 몸무게의 관계'}) # 차트 제목을 지정\n",
    "chart.set_x_axis({'name': '키 (cm)',            # x축 제목을 지정\n",
    "                  'min': 150, 'max': 190,       # x축의 최솟값 및 최댓값 지정\n",
    "                  'major_gridlines': {'visible': True} # x축 격자가 보이게 설정\n",
    "                 })      \n",
    "chart.set_y_axis({'name': '몸무게 (kg)',  # y축 제목 을지정\n",
    "                  'min': 40, 'max': 100}) # y축의 최솟값 및 최댓값 지정\n",
    "chart.set_legend({'position': 'none'})    # 범례를 표시하지 않음\n",
    "        \n",
    "# (6) 워크시트에 차트가 들어갈 위치 지정해 차트 넣기\n",
    "worksheet.insert_chart(1, columns_len, chart, {'x_offset': 25, 'y_offset': 10})\n",
    "\n",
    "# (7) ExcelWriter 객체를 닫고 엑셀 파일을 출력\n",
    "excel_writer.save()\n",
    "\n",
    "print(\"생성 파일:\", excel_file_chart)     # 생성한 파일 이름 출력"
   ]
  },
  {
   "cell_type": "markdown",
   "metadata": {},
   "source": [
    "**[8장: 452페이지]**"
   ]
  },
  {
   "cell_type": "code",
   "execution_count": null,
   "metadata": {
    "scrolled": true
   },
   "outputs": [],
   "source": [
    "import pandas as pd\n",
    "\n",
    "folder = 'C:/myPyExcel/data/ch08/' # 엑셀 파일이 있는 디렉터리(폴더)\n",
    "excel_file = folder + '제품별_시장점유율.xlsx' # 원본 엑셀 파일\n",
    "\n",
    "df = pd.read_excel(excel_file) # 엑셀 파일을 DataFrame 데이터(df)로 읽어 오기\n",
    "df"
   ]
  },
  {
   "cell_type": "markdown",
   "metadata": {},
   "source": [
    "**[8장: 453~454페이지]**"
   ]
  },
  {
   "cell_type": "code",
   "execution_count": null,
   "metadata": {
    "scrolled": true
   },
   "outputs": [],
   "source": [
    "# (1) 판다스 ExcelWriter 객체 생성\n",
    "folder = 'C:/myPyExcel/data/ch08/' # 엑셀 파일이 있는 디렉터리(폴더)\n",
    "excel_file_chart = folder + '제품별_시장점유율_거품형차트.xlsx' #  생성할 파일\n",
    "\n",
    "excel_writer = pd.ExcelWriter(excel_file_chart, engine='xlsxwriter')\n",
    "\n",
    "# (2) DataFrame 데이터를 지정된 워크시트(sheet_name=시트_이름)에 쓰기\n",
    "worksheet_name = 'Sheet1' # 워크 시트 이름을 변수에 할당\n",
    "df.to_excel(excel_writer, sheet_name=worksheet_name, index=False)\n",
    "\n",
    "# (3) ExcelWriter 객체에서 워크북(workbook)과 워크시트(worksheet) 객체 생성\n",
    "workbook  = excel_writer.book\n",
    "worksheet = excel_writer.sheets[worksheet_name]\n",
    "\n",
    "# (4) 차트 객체 생성(원하는 차트의 종류 지정)\n",
    "chart = workbook.add_chart({'type': 'scatter'}) # 분산형 차트\n",
    "\n",
    "# (5) 차트를 생성하기 위한 데이터 값의 범위 지정\n",
    "columns_len = len(df.columns) # df.shape[1]도 가능\n",
    "    \n",
    "for k in range(len(df.index)):  # 각 행별로 add_series()를 이용해 내용을 지정\n",
    "    start_row = k + 1           # 범위의 시작 행 번호\n",
    "    end_row = start_row         # 끝 행 번호는 시작 행 번호와 같게 지정\n",
    "    \n",
    "    market_share = df.iloc[k, 3] # 점유율(%) 데이터    \n",
    "    circle_size = int(15 + market_share * 1.1) # 원 크기를 점유율(%) 데이터와 연동  \n",
    "    if(circle_size > 72): # 최대 지정 가능 크기: 72\n",
    "        circle_size = 72\n",
    "        print(\"원의 크기를 줄이세요\")\n",
    "\n",
    "    # 그래프 및 축 값을 위한 데이터 범위, 범례 이름, 마커, 데이터 라벨 지정\n",
    "    chart.add_series({\n",
    "        'values': [worksheet_name, start_row, 2, \n",
    "                   end_row, 2],     # y축의 값에 사용할 데이터 범위 지정\n",
    "        'categories': [worksheet_name, start_row, 1, \n",
    "                       end_row, 1], # x축의 값에 사용할 데이터 범위 지정\n",
    "        'name': [worksheet_name, start_row, 0], # 범례의 이름으로 사용할 데이터 지정        \n",
    "        'marker': {'type': 'circle',            # 마커 모양: 원(circle)\n",
    "                   'size': circle_size},        # 마커 크기: circle_size\n",
    "        'data_labels': {'value': True,         # values에 지정한 값을 차트에 표시\n",
    "                        'position': 'center'}   # 위치: 중앙\n",
    "         }) \n",
    "    \n",
    "# (5-1) 엑셀 차트에 차트 제목과 x, y축 제목, 범례를 위한 설정\n",
    "chart.set_title({'name': '제품별 시장점유율 비교'})     # 차트 제목을 지정\n",
    "chart.set_x_axis({'name': '판매량',                     # x축 제목을 지정\n",
    "                  'min': 0, 'max': 10,                  # x축의 최솟값 및 최댓값 지정\n",
    "                  'major_gridlines': {'visible': True} # x축 격자가 보이게 설정\n",
    "                  })    \n",
    "chart.set_y_axis({'name': '판매 가격(억원)',            # y축 제목을 지정\n",
    "                  'min': 0, 'max': 8})                  # y축의 최솟값 및 최댓값 지정\n",
    "        \n",
    "# (6) 워크시트에 차트가 들어갈 위치 지정해 차트 넣기\n",
    "worksheet.insert_chart(1, columns_len, chart, {'x_offset': 25, 'y_offset': 10})\n",
    "\n",
    "# (7) ExcelWriter 객체를 닫고 엑셀 파일을 출력\n",
    "excel_writer.save()\n",
    "\n",
    "print(\"생성한 엑셀 파일:\", excel_file_chart)   # 생성한 파일 이름 출력"
   ]
  },
  {
   "cell_type": "markdown",
   "metadata": {},
   "source": [
    "## 8.2 엑셀 스파크라인"
   ]
  },
  {
   "cell_type": "markdown",
   "metadata": {},
   "source": [
    "### 스파크라인의 종류와 활용 예"
   ]
  },
  {
   "cell_type": "markdown",
   "metadata": {},
   "source": [
    "### 스파크라인을 생성하는 코드의 기본 구조"
   ]
  },
  {
   "cell_type": "markdown",
   "metadata": {},
   "source": [
    "**[8장: 458페이지]**"
   ]
  },
  {
   "cell_type": "code",
   "execution_count": null,
   "metadata": {},
   "outputs": [],
   "source": [
    "import pandas as pd\n",
    "\n",
    "folder = 'C:/myPyExcel/data/ch08/' # 엑셀 파일이 있는 디렉터리(폴더)\n",
    "excel_file = folder +  '월별_영업이익.xlsx' # 원본 엑셀 파일\n",
    "\n",
    "df = pd.read_excel(excel_file) # 엑셀 파일을 DataFrame 데이터(df)로 읽어 오기\n",
    "df"
   ]
  },
  {
   "cell_type": "markdown",
   "metadata": {},
   "source": [
    "**[8장: 458~459페이지]**"
   ]
  },
  {
   "cell_type": "code",
   "execution_count": null,
   "metadata": {},
   "outputs": [],
   "source": [
    "from xlsxwriter.utility import xl_range\n",
    "\n",
    "# (1) 판다스 ExcelWriter 객체 생성\n",
    "folder = 'C:/myPyExcel/data/ch08/' # 엑셀 파일이 있는 디렉터리(폴더)\n",
    "excel_file_chart = folder + '월별_영업이익_스파크라인.xlsx' # 생성할 엑셀 파일\n",
    "\n",
    "excel_writer = pd.ExcelWriter(excel_file_chart, engine='xlsxwriter')\n",
    "\n",
    "# (2) DataFrame 데이터를 지정된 워크시트(sheet_name=시트_이름)에 쓰기\n",
    "worksheet_name = 'Sheet1'          # 워크 시트 이름을 변수에 할당\n",
    "df.to_excel(excel_writer, sheet_name=worksheet_name, index=False)\n",
    "\n",
    "# (3) ExcelWriter 객체에서 워크북(workbook)과 워크시트(worksheet) 객체 생성\n",
    "workbook  = excel_writer.book\n",
    "worksheet = excel_writer.sheets[worksheet_name]\n",
    "\n",
    "# (4) 셀에 스파크라인 추가\n",
    "# 꺾은선형 스파크 라인(마커 포함)\n",
    "worksheet.add_sparkline('G2', # 스파크라인이 들어갈 셀의 주소 지정\n",
    "                        {'range': 'Sheet1!B2:F2',   # 데이터 범위 지정(주소 형식)\n",
    "                         'type': 'line',            # 꺾은선형 스파크라인\n",
    "                         'markers': True})         # 마커 표시\n",
    "\n",
    "# 열 스파크 라인(스타일 지정)\n",
    "worksheet.add_sparkline('G3', # 스파크라인이 들어갈 셀의 주소 지정\n",
    "                        {'range': 'Sheet1!B3:F3',   # 데이터 범위 지정(주소 형식)\n",
    "                         'type': 'column',          # 열 스파크라인\n",
    "                         'style': 12})              # 스타일 지정\n",
    "\n",
    "# 승패 스파크 라인(음수 그래프를 표시)\n",
    "worksheet.add_sparkline('G4',  # 스파크라인이 들어갈 셀의 주소 지정\n",
    "                        {'range': 'Sheet1!B4:F4',   # 데이터 범위 지정(주소 형식)\n",
    "                         'type': 'win_loss',        # 승패 스파크라인\n",
    "                         'negative_points': True}) # 음수 그래프를 표시 여부 설정\n",
    "                                                    # (True이면 음수 그래프 표시)\n",
    "\n",
    "# (5) ExcelWriter 객체를 닫고 엑셀 파일을 출력\n",
    "excel_writer.save()\n",
    "\n",
    "print(\"생성 파일:\", excel_file_chart) # 생성한 파일 이름 출력"
   ]
  },
  {
   "cell_type": "markdown",
   "metadata": {},
   "source": [
    "**[8장: 460~462페이지]**"
   ]
  },
  {
   "cell_type": "code",
   "execution_count": null,
   "metadata": {},
   "outputs": [],
   "source": [
    "from xlsxwriter.utility import xl_range\n",
    "\n",
    "# (1) 판다스 ExcelWriter 객체 생성\n",
    "folder = 'C:/myPyExcel/data/ch08/' # 엑셀 파일이 있는 디렉터리(폴더)\n",
    "excel_file_chart = folder + '월별_영업이익_스파크라인2.xlsx' #  생성할 엑셀 파일\n",
    "\n",
    "excel_writer = pd.ExcelWriter(excel_file_chart, engine='xlsxwriter')\n",
    "\n",
    "# (2) DataFrame 데이터를 지정된 워크시트(sheet_name=시트_이름)에 쓰기\n",
    "worksheet_name = 'Sheet1' # 워크 시트 이름을 변수에 할당\n",
    "df.to_excel(excel_writer, sheet_name=worksheet_name, index=False)\n",
    "\n",
    "# (3) ExcelWriter 객체에서 워크북(workbook)과 워크시트(worksheet) 객체 생성\n",
    "workbook  = excel_writer.book\n",
    "worksheet = excel_writer.sheets[worksheet_name]\n",
    "\n",
    "# (4) 셀에 스파크라인 추가\n",
    "for k in range(len(df)):\n",
    "    sparkline_row = k + 1              # 스파크라인이 위치할 셀의 행 번호\n",
    "    sparkline_column = len(df.columns) # 스파크라인이 위치할 셀의 열 번호\n",
    "    \n",
    "    start_row = k + 1                  # 데이터 범위의 시작 행 번호\n",
    "    start_column = 1                   # 데이터 범위의 시작 열 번호\n",
    "    end_row = start_row                # 데이터 범위의 끝 행 번호\n",
    "    end_column = len(df.columns) - 1   # 데이터 범위의 끝 열 번호\n",
    "    \n",
    "    # 스파크라인을 위한 데이터 범위 지정(시작과 끝 위치를 행과 열의 번호로 지정)\n",
    "    values_range = xl_range(start_row, start_column, end_row, end_column) \n",
    "\n",
    "    if(k == 0):\n",
    "        # 꺾은선형 스파크 라인(마커 포함)\n",
    "        worksheet.add_sparkline(sparkline_row,             # 셀의 위치(행) 지정\n",
    "                                sparkline_column,          # 셀의 위치(열) 지정\n",
    "                                {'range': values_range,    # 데이터 범위 지정\n",
    "                                 'type': 'line',           # 꺾은선형 스파크라인\n",
    "                                 'markers': True})        # 마커 표시\n",
    "    elif(k == 1):\n",
    "        # 열 스파크 라인\n",
    "        worksheet.add_sparkline(sparkline_row,             # 셀의 위치(행) 지정\n",
    "                                sparkline_column,          # 셀의 위치(열) 지정\n",
    "                                {'range': values_range,    # 데이터 범위 지정\n",
    "                                 'type': 'column',         # 열 스파크라인\n",
    "                                  'style': 12})            # 스타일 지정\n",
    "    elif(k == 2):\n",
    "        # 승패 스파크 라인\n",
    "        worksheet.add_sparkline(sparkline_row,             # 셀의 위치(행) 지정\n",
    "                                sparkline_column,          # 셀의 위치(열) 지정\n",
    "                                {'range': values_range,    # 데이터 범위 지정\n",
    "                                 'type': 'win_loss',       # 승패 스파크라인\n",
    "                                 'negative_points': True}) # 음수 그래프 표시\n",
    "        \n",
    "# (5) ExcelWriter 객체를 닫고 엑셀 파일을 출력\n",
    "excel_writer.save()\n",
    "\n",
    "print(\"생성 파일:\", excel_file_chart) # 생성한 파일 이름 출력"
   ]
  },
  {
   "cell_type": "markdown",
   "metadata": {},
   "source": [
    "## 8.3 판다스로 그래프 그리기"
   ]
  },
  {
   "cell_type": "markdown",
   "metadata": {},
   "source": [
    "### 그래프를 위한 기본 구조"
   ]
  },
  {
   "cell_type": "markdown",
   "metadata": {},
   "source": [
    "### 선 그래프(꺾은선형 차트)"
   ]
  },
  {
   "cell_type": "markdown",
   "metadata": {},
   "source": [
    "**[8장: 464~465페이지]**"
   ]
  },
  {
   "cell_type": "code",
   "execution_count": null,
   "metadata": {
    "scrolled": true
   },
   "outputs": [],
   "source": [
    "import pandas as pd\n",
    "\n",
    "folder = 'C:/myPyExcel/data/ch08/' # 엑셀 파일이 있는 디렉터리(폴더)\n",
    "excel_file = folder + '공장별_생산현황.xlsx' # 원본 엑셀 파일\n",
    "\n",
    "df = pd.read_excel(excel_file)               # 엑셀 파일을 DataFrame 데이터(df)로 읽어 오기\n",
    "df"
   ]
  },
  {
   "cell_type": "markdown",
   "metadata": {},
   "source": [
    "**[8장: 465페이지]**"
   ]
  },
  {
   "cell_type": "code",
   "execution_count": null,
   "metadata": {},
   "outputs": [],
   "source": [
    "import matplotlib as mpl\n",
    "\n",
    "mpl.rcParams['font.family'] = 'Malgun Gothic' # '맑은 고딕'으로 폰트 설정 \n",
    "mpl.rcParams['axes.unicode_minus'] = False # 마이너스(-) 폰트 깨짐 방지"
   ]
  },
  {
   "cell_type": "markdown",
   "metadata": {},
   "source": [
    "**[8장: 466페이지]**"
   ]
  },
  {
   "cell_type": "code",
   "execution_count": null,
   "metadata": {},
   "outputs": [],
   "source": [
    "%matplotlib inline"
   ]
  },
  {
   "cell_type": "code",
   "execution_count": null,
   "metadata": {},
   "outputs": [],
   "source": [
    "import matplotlib.pyplot as plt\n",
    "\n",
    "df.plot() # 선 그래프. df.plot(kind='line')도 동일\n",
    "plt.show()"
   ]
  },
  {
   "cell_type": "code",
   "execution_count": null,
   "metadata": {},
   "outputs": [],
   "source": [
    "df.plot(x = '연도', y = ['A공장','B공장','C공장']) # df2.plot(x=0, y=[1,2,3])도 동일\n",
    "plt.show()"
   ]
  },
  {
   "cell_type": "markdown",
   "metadata": {},
   "source": [
    "**[8장: 467페이지]**"
   ]
  },
  {
   "cell_type": "code",
   "execution_count": null,
   "metadata": {
    "scrolled": false
   },
   "outputs": [],
   "source": [
    "import pandas as pd\n",
    "\n",
    "folder = 'C:/myPyExcel/data/ch08/'               # 엑셀 파일이 있는 디렉터리(폴더)\n",
    "excel_file = folder + '공장별_생산현황.xlsx'     # 원본 엑셀 파일\n",
    "\n",
    "df = pd.read_excel(excel_file, index_col='연도') # DataFrame 데이터(df)로 읽어 오기\n",
    "df"
   ]
  },
  {
   "cell_type": "code",
   "execution_count": null,
   "metadata": {
    "scrolled": true
   },
   "outputs": [],
   "source": [
    "df.plot()  # 선 그래프. df.plot(kind='line')도 동일\n",
    "plt.show() # 그래프 화면 출력"
   ]
  },
  {
   "cell_type": "markdown",
   "metadata": {},
   "source": [
    "**[8장: 468페이지]**"
   ]
  },
  {
   "cell_type": "code",
   "execution_count": null,
   "metadata": {},
   "outputs": [],
   "source": [
    "df.plot(y='A공장') # df.plot(y=0)도 동일\n",
    "plt.show()"
   ]
  },
  {
   "cell_type": "code",
   "execution_count": null,
   "metadata": {},
   "outputs": [],
   "source": [
    "df.plot(y=['B공장', 'C공장']) # df.plot(y=[1, 2])도 동일\n",
    "plt.show()"
   ]
  },
  {
   "cell_type": "markdown",
   "metadata": {},
   "source": [
    "**[8장: 470페이지]**"
   ]
  },
  {
   "cell_type": "code",
   "execution_count": null,
   "metadata": {},
   "outputs": [],
   "source": [
    "ax = df.plot(grid=True, style=['r--*', 'g-o', 'b:*']) # 격자와 스타일 지정\n",
    "\n",
    "ax.set_xlabel(\"연도\", fontsize=15) # x축 라벨을 지정\n",
    "ax.set_ylabel(\"생산량\", fontsize=15) # y축 라벨을 지정\n",
    "ax.set_title(\"공장별 생산 현황\", fontsize=20) # 그래프 제목을 지정\n",
    "\n",
    "plt.show()"
   ]
  },
  {
   "cell_type": "markdown",
   "metadata": {},
   "source": [
    "**[8장: 471페이지]**"
   ]
  },
  {
   "cell_type": "code",
   "execution_count": null,
   "metadata": {},
   "outputs": [],
   "source": [
    "ax = df.plot(grid=True, style=['r--*', 'g-o', 'b:*'], figsize=(4, 3))\n",
    "\n",
    "ax.set_xlabel(\"연도\", fontsize=15)\n",
    "ax.set_ylabel(\"생산량\", fontsize=15)\n",
    "ax.set_title(\"공장별 생산 현황\", fontsize=20)\n",
    "\n",
    "plt.show()"
   ]
  },
  {
   "cell_type": "code",
   "execution_count": null,
   "metadata": {},
   "outputs": [],
   "source": [
    "import matplotlib as mpl\n",
    "\n",
    "mpl.rcParams['figure.figsize']"
   ]
  },
  {
   "cell_type": "markdown",
   "metadata": {},
   "source": [
    "### 막대 그래프(막대형 차트)"
   ]
  },
  {
   "cell_type": "markdown",
   "metadata": {},
   "source": [
    "**[8장: 472페이지]**"
   ]
  },
  {
   "cell_type": "code",
   "execution_count": null,
   "metadata": {
    "scrolled": false
   },
   "outputs": [],
   "source": [
    "import pandas as pd\n",
    "\n",
    "folder = 'C:/myPyExcel/data/ch08/' # 엑셀 파일이 있는 디렉터리(폴더)\n",
    "excel_file = folder + '영업팀별_판매현황.xlsx' # 원본 엑셀 파일\n",
    "\n",
    "df = pd.read_excel(excel_file, index_col='월') # DataFrame 데이터(df)로 읽어 오기\n",
    "df"
   ]
  },
  {
   "cell_type": "markdown",
   "metadata": {},
   "source": [
    "**[8장: 473페이지]**"
   ]
  },
  {
   "cell_type": "code",
   "execution_count": null,
   "metadata": {
    "scrolled": true
   },
   "outputs": [],
   "source": [
    "import matplotlib.pyplot as plt\n",
    "\n",
    "df.plot.bar() # 수직 막대 그래프, df.plot(kind = 'bar')도 동일\n",
    "plt.show()"
   ]
  },
  {
   "cell_type": "code",
   "execution_count": null,
   "metadata": {},
   "outputs": [],
   "source": [
    "df.plot.bar(rot=0) # df.plot(kind='bar', rot=0)도 동일\n",
    "plt.show()"
   ]
  },
  {
   "cell_type": "markdown",
   "metadata": {},
   "source": [
    "**[8장: 474페이지]**"
   ]
  },
  {
   "cell_type": "code",
   "execution_count": null,
   "metadata": {
    "scrolled": true
   },
   "outputs": [],
   "source": [
    "ax = df.plot.bar(grid=True, rot=0)            # 격자 추가, 눈금값 0도 회전\n",
    "\n",
    "ax.set_xlabel(\"월\", fontsize=15)               # x축 라벨을 지정\n",
    "ax.set_ylabel(\"판매현황\", fontsize=15)         # y축 라벨을 지정\n",
    "ax.set_title(\"영업팀별 판매현황\", fontsize=20) # 그래프 제목을 지정\n",
    "\n",
    "plt.show()"
   ]
  },
  {
   "cell_type": "markdown",
   "metadata": {},
   "source": [
    "**[8장: 475페이지]**"
   ]
  },
  {
   "cell_type": "code",
   "execution_count": null,
   "metadata": {},
   "outputs": [],
   "source": [
    "ax = df.plot.barh(grid=True) # 수평 막대 그래프(격자 추가)\n",
    "# ax = df.plot(kind='barh', grid=True)도 동일\n",
    "\n",
    "ax.set_xlabel(\"판매현황\", fontsize=15) # x축 라벨을 지정\n",
    "ax.set_ylabel(\"월\", fontsize=15)       # y축 라벨을 지정\n",
    "ax.set_title(\"영업팀별 판매현황\", fontsize=20) # 그래프 제목을 지정\n",
    "\n",
    "plt.show()"
   ]
  },
  {
   "cell_type": "markdown",
   "metadata": {},
   "source": [
    "### 산점도(분산형 차트)"
   ]
  },
  {
   "cell_type": "markdown",
   "metadata": {},
   "source": [
    "**[8장: 476페이지]**"
   ]
  },
  {
   "cell_type": "code",
   "execution_count": null,
   "metadata": {
    "scrolled": true
   },
   "outputs": [],
   "source": [
    "import pandas as pd\n",
    "\n",
    "folder = 'C:/myPyExcel/data/ch08/'       # 엑셀 파일이 있는 디렉터리(폴더)\n",
    "excel_file = folder + '키와_몸무게.xlsx' # 원본 엑셀 파일\n",
    "\n",
    "df = pd.read_excel(excel_file)           # 엑셀 파일을 DataFrame 데이터(df)로 읽어 오기\n",
    "df"
   ]
  },
  {
   "cell_type": "markdown",
   "metadata": {},
   "source": [
    "**[8장: 477페이지]**"
   ]
  },
  {
   "cell_type": "code",
   "execution_count": null,
   "metadata": {
    "scrolled": true
   },
   "outputs": [],
   "source": [
    "import matplotlib.pyplot as plt\n",
    "\n",
    "df.plot.scatter(x='키', y='몸무게') # 산점도\n",
    "# df.plot(kind='scatter', x='키', y='몸무게')도 동일\n",
    "plt.show()"
   ]
  },
  {
   "cell_type": "code",
   "execution_count": null,
   "metadata": {},
   "outputs": [],
   "source": [
    "df.plot.scatter(x='키', y='몸무게', s=200, c='g', grid=True)\n",
    "plt.show()"
   ]
  },
  {
   "cell_type": "markdown",
   "metadata": {},
   "source": [
    "**[8장: 478페이지]**"
   ]
  },
  {
   "cell_type": "code",
   "execution_count": null,
   "metadata": {},
   "outputs": [],
   "source": [
    "ax_scatter = df.plot.scatter(x='키', y='몸무게', s=200, c='g', grid=True)\n",
    "\n",
    "ax_scatter.set_xlabel(\"키 (cm)\", fontsize=15)\n",
    "ax_scatter.set_ylabel(\"몸무게 (kg)\", fontsize=15)\n",
    "ax_scatter.set_title(\"키와 몸무게의 관계\", fontsize=20)\n",
    "\n",
    "plt.show()"
   ]
  },
  {
   "cell_type": "code",
   "execution_count": null,
   "metadata": {},
   "outputs": [],
   "source": [
    "import pandas as pd\n",
    "\n",
    "folder = 'C:/myPyExcel/data/ch08/' # 엑셀 파일이 있는 디렉터리(폴더)\n",
    "excel_file = folder + '제품별_시장점유율.xlsx' # 원본 엑셀 파일\n",
    "\n",
    "df = pd.read_excel(excel_file)     # 엑셀 파일을 DataFrame 데이터(df)로 읽어 오기\n",
    "df"
   ]
  },
  {
   "cell_type": "markdown",
   "metadata": {},
   "source": [
    "**[8장: 479페이지]**"
   ]
  },
  {
   "cell_type": "code",
   "execution_count": null,
   "metadata": {},
   "outputs": [],
   "source": [
    "# 각 데이터의 원 마커 크기는 최댓값 대비 상대적 크기로 계산\n",
    "maker_size = df['점유율(%)'] / df['점유율(%)'].max() * 3000 \n",
    "\n",
    "df.plot.scatter(x='판매량', y='가격(억원)', s=maker_size)\n",
    "plt.show()"
   ]
  },
  {
   "cell_type": "markdown",
   "metadata": {},
   "source": [
    "**[8장: 480페이지]**"
   ]
  },
  {
   "cell_type": "code",
   "execution_count": null,
   "metadata": {},
   "outputs": [],
   "source": [
    "df.plot.scatter(x='판매량', y='가격(억원)', s=maker_size) # 산점도\n",
    "\n",
    "plt.xlim(1, 9) # x축 범위 지정\n",
    "plt.ylim(0, 8) # y축 범위 지정\n",
    "# plt.axis([1, 9, 0, 8])로 x축과 y축의 좌표 범위를 한 번에 지정 가능\n",
    "\n",
    "plt.show()"
   ]
  },
  {
   "cell_type": "markdown",
   "metadata": {},
   "source": [
    "**[8장: 481페이지]**"
   ]
  },
  {
   "cell_type": "code",
   "execution_count": null,
   "metadata": {},
   "outputs": [],
   "source": [
    "df.plot.scatter(x='판매량', y='가격(억원)', s=maker_size) # 산점도\n",
    "\n",
    "plt.axis([1, 9, 0, 8]) # x축과 y축 좌표의 범위를 지정\n",
    "\n",
    "for x, y, text_str in zip(df['판매량'], df['가격(억원)'], df['제품명']):\n",
    "    plt.text(x, y, text_str, fontsize=11, ha='center', va='center')\n",
    "    \n",
    "plt.show()"
   ]
  },
  {
   "cell_type": "markdown",
   "metadata": {},
   "source": [
    "**[8장: 482페이지]**"
   ]
  },
  {
   "cell_type": "code",
   "execution_count": null,
   "metadata": {},
   "outputs": [],
   "source": [
    "colors = ['b', 'g', 'r', 'c', 'm'] # 마커의 개수만큼 색을 지정\n",
    "\n",
    "df.plot.scatter(x='판매량', y='가격(억원)', s=maker_size, c=colors)\n",
    "\n",
    "plt.axis([1, 9, 0, 8]) # x축과 y축 좌표의 범위를 지정\n",
    "\n",
    "for x, y, text_str in zip(df['판매량'], df['가격(억원)'], df['제품명']):\n",
    "    plt.text(x, y, text_str, fontsize=11, ha='center', va='center')\n",
    "    \n",
    "plt.show()"
   ]
  },
  {
   "cell_type": "markdown",
   "metadata": {},
   "source": [
    "**[8장: 483페이지]**"
   ]
  },
  {
   "cell_type": "code",
   "execution_count": null,
   "metadata": {
    "scrolled": true
   },
   "outputs": [],
   "source": [
    "ax  = df.plot.scatter(x='판매량', y='가격(억원)', \n",
    "                      s=maker_size,      # 마커 크기 지정\n",
    "                      c='점유율(%)',     # df의 '점유율(%)'열 데이터로 마커 색 지정\n",
    "                      colormap=\"Blues\",  # 미리 정의된 컬러맵 중 하나를 지정\n",
    "                      alpha=0.7,         # 투명도 선택\n",
    "                      edgecolors=\"gray\", # 마커 테두리 색 지정\n",
    "                      linewidth=3,       # 마커 테두리 두께 지정 \n",
    "                      sharex=False)     # x축 라벨이 보이도록 지정\n",
    "\n",
    "ax.set_xlabel(\"판매량\", fontsize=15)\n",
    "ax.set_ylabel(\"판매 가격(억원)\", fontsize=15)\n",
    "ax.set_title(\"제품별 시장점유율 비교\", fontsize=20)\n",
    "\n",
    "plt.axis([1, 9, 0, 8]) # x축과 y축 좌표의 범위를 지정\n",
    "\n",
    "for x, y, text_str in zip(df['판매량'], df['가격(억원)'], df['제품명']):\n",
    "    plt.text(x, y, text_str, fontsize=11, ha='center', va='center')\n",
    "    \n",
    "plt.show()"
   ]
  },
  {
   "cell_type": "markdown",
   "metadata": {},
   "source": [
    "### 파이 그래프(원형 차트)"
   ]
  },
  {
   "cell_type": "markdown",
   "metadata": {},
   "source": [
    "**[8장: 485페이지]**"
   ]
  },
  {
   "cell_type": "code",
   "execution_count": null,
   "metadata": {},
   "outputs": [],
   "source": [
    "import pandas as pd\n",
    "\n",
    "folder = 'C:/myPyExcel/data/ch08/' # 엑셀 파일이 있는 디렉터리(폴더)\n",
    "excel_file = folder + '가장_좋아하는_운동.xlsx' # 원본 엑셀 파일\n",
    "\n",
    "df = pd.read_excel(excel_file)     # 엑셀 파일을 DataFrame 데이터(df)로 읽어 오기\n",
    "df"
   ]
  },
  {
   "cell_type": "code",
   "execution_count": null,
   "metadata": {},
   "outputs": [],
   "source": [
    "import matplotlib.pyplot as plt\n",
    "\n",
    "df.plot.pie(y='선택학생') #df.plot(kind='pie', y='선택학생')도 동일\n",
    "plt.show()"
   ]
  },
  {
   "cell_type": "markdown",
   "metadata": {},
   "source": [
    "**[8장: 486페이지]**"
   ]
  },
  {
   "cell_type": "code",
   "execution_count": null,
   "metadata": {
    "scrolled": true
   },
   "outputs": [],
   "source": [
    "df.plot.pie(y='선택학생', labels=df['운동종류'])\n",
    "plt.show()"
   ]
  },
  {
   "cell_type": "code",
   "execution_count": null,
   "metadata": {
    "scrolled": true
   },
   "outputs": [],
   "source": [
    "import pandas as pd\n",
    "\n",
    "folder = 'C:/myPyExcel/data/ch08/' # 엑셀 파일이 있는 디렉터리(폴더)\n",
    "excel_file = folder + '가장_좋아하는_운동.xlsx'      # 원본 엑셀 파일\n",
    "\n",
    "df = pd.read_excel(excel_file, index_col='운동종류') # DataFrame 데이터(df)로 읽어 오기\n",
    "df"
   ]
  },
  {
   "cell_type": "markdown",
   "metadata": {},
   "source": [
    "**[8장: 487페이지]**"
   ]
  },
  {
   "cell_type": "code",
   "execution_count": null,
   "metadata": {
    "scrolled": false
   },
   "outputs": [],
   "source": [
    "df.plot.pie(y='선택학생') # 파이 그래프\n",
    "plt.show()"
   ]
  },
  {
   "cell_type": "markdown",
   "metadata": {},
   "source": [
    "**[8장: 487~488페이지]**"
   ]
  },
  {
   "cell_type": "code",
   "execution_count": null,
   "metadata": {
    "scrolled": true
   },
   "outputs": [],
   "source": [
    "explode_value = [0.1, 0, 0, 0, 0] # 각 부채꼴의 돌출 정도를 순서대로 지정 \n",
    "\n",
    "ax = df.plot.pie(y='선택학생', startangle=90, counterclock=False,\n",
    "                 autopct='%.1f%%', explode=explode_value,\n",
    "                 shadow=True, table=True, legend=False)\n",
    "ax.set_ylabel(\"\") # 불필요한 y축 라벨 제거\n",
    "ax.set_title(\"[가장 좋아하는 운동 조사 결과]\", size=20) # 그래프 제목 추가\n",
    "plt.show()"
   ]
  },
  {
   "cell_type": "markdown",
   "metadata": {},
   "source": [
    "### 면적 그래프(영역형 차트)"
   ]
  },
  {
   "cell_type": "markdown",
   "metadata": {},
   "source": [
    "**[8장: 489페이지]**"
   ]
  },
  {
   "cell_type": "code",
   "execution_count": null,
   "metadata": {},
   "outputs": [],
   "source": [
    "import pandas as pd\n",
    "\n",
    "folder = 'C:/myPyExcel/data/ch08/' # 엑셀 파일이 있는 디렉터리(폴더)\n",
    "excel_file = folder + '공장별_생산현황.xlsx'     # 원본 엑셀 파일\n",
    "\n",
    "df = pd.read_excel(excel_file, index_col='연도') # DataFrame 데이터(df)로 읽어 오기\n",
    "df"
   ]
  },
  {
   "cell_type": "code",
   "execution_count": null,
   "metadata": {
    "scrolled": false
   },
   "outputs": [],
   "source": [
    "import matplotlib.pyplot as plt\n",
    "\n",
    "df.plot.area()  # df.plot(kind = 'area')도 동일\n",
    "plt.show()      # 그래프 화면 출력 "
   ]
  },
  {
   "cell_type": "markdown",
   "metadata": {},
   "source": [
    "**[8장: 490페이지]**"
   ]
  },
  {
   "cell_type": "code",
   "execution_count": null,
   "metadata": {},
   "outputs": [],
   "source": [
    "ax = df.plot.area(grid = True)      # 면적 그래프에 격자 추가\n",
    "\n",
    "ax.set_xlabel(\"연도\", fontsize=15)   # x축 라벨을 지정\n",
    "ax.set_ylabel(\"생산량\", fontsize=15) # y축 라벨을 지정\n",
    "ax.set_title(\"공장별 생산 현황(누적)\", fontsize=20) # 그래프 제목을 지정\n",
    "\n",
    "plt.show()"
   ]
  },
  {
   "cell_type": "markdown",
   "metadata": {},
   "source": [
    "### 히스토그램"
   ]
  },
  {
   "cell_type": "markdown",
   "metadata": {},
   "source": [
    "**[8장: 492페이지]**"
   ]
  },
  {
   "cell_type": "code",
   "execution_count": null,
   "metadata": {
    "scrolled": true
   },
   "outputs": [],
   "source": [
    "import pandas as pd\n",
    "\n",
    "folder = 'C:/myPyExcel/data/ch08/' # 엑셀 파일이 있는 디렉터리(폴더)\n",
    "excel_file = folder + '학생_시험_점수.xlsx' # 원본 엑셀 파일\n",
    "\n",
    "df = pd.read_excel(excel_file) # 엑셀 파일을 DataFrame 데이터(df)로 읽어 오기\n",
    "df.head(10) # 앞에서부터 n개의 데이터만 출력"
   ]
  },
  {
   "cell_type": "markdown",
   "metadata": {},
   "source": [
    "**[8장: 493페이지]**"
   ]
  },
  {
   "cell_type": "code",
   "execution_count": null,
   "metadata": {},
   "outputs": [],
   "source": [
    "import matplotlib.pyplot as plt\n",
    "\n",
    "df.plot.hist(y=\"시험점수\", bins=8) \n",
    "# df.plot(kind='hist', y=\"시험점수\", bins=8)도 동일\n",
    "plt.show()"
   ]
  },
  {
   "cell_type": "markdown",
   "metadata": {},
   "source": [
    "**[8장: 494페이지]**"
   ]
  },
  {
   "cell_type": "code",
   "execution_count": null,
   "metadata": {},
   "outputs": [],
   "source": [
    "import numpy as np\n",
    "\n",
    "# 반환값:빈도수(hist)와 각 구간의 경곗값(bin_edges)\n",
    "hist, bin_edges=np.histogram(df[\"시험점수\"], bins=8) # 히스토그램\n",
    "[hist, bin_edges] # 빈도수와 각 구간의 경곗값 출력"
   ]
  },
  {
   "cell_type": "code",
   "execution_count": null,
   "metadata": {
    "scrolled": true
   },
   "outputs": [],
   "source": [
    "df.plot.hist(y = \"시험점수\", bins = 8, rwidth = 0.9)\n",
    "plt.show()"
   ]
  },
  {
   "cell_type": "markdown",
   "metadata": {},
   "source": [
    "**[8장: 495페이지]**"
   ]
  },
  {
   "cell_type": "code",
   "execution_count": null,
   "metadata": {},
   "outputs": [],
   "source": [
    "df.plot.hist(y=\"시험점수\", bins=8, rwidth=0.9) # 히스토그램\n",
    "plt.grid(True, axis='y') # y축 격자만 추가\n",
    "plt.show()"
   ]
  },
  {
   "cell_type": "code",
   "execution_count": null,
   "metadata": {},
   "outputs": [],
   "source": [
    "ax = df.plot.hist(y=\"시험점수\", bins=8, rwidth=0.9) # 히스토그램\n",
    "plt.grid(True, axis='y')\n",
    "\n",
    "ax.set_xlabel(\"시험 점수 구간\", fontsize=15)        # x축 라벨을 지정\n",
    "ax.set_ylabel(\"빈도수\", fontsize=15)                # y축 라벨을 지정\n",
    "ax.set_title(\"시험 점수 분포\", fontsize=20)         # 그래프 제목을 지정\n",
    "\n",
    "plt.show()"
   ]
  },
  {
   "cell_type": "markdown",
   "metadata": {},
   "source": [
    "### 박스 그래프(상자 수염 차트)"
   ]
  },
  {
   "cell_type": "markdown",
   "metadata": {},
   "source": [
    "**[8장: 499페이지]**"
   ]
  },
  {
   "cell_type": "code",
   "execution_count": null,
   "metadata": {
    "scrolled": false
   },
   "outputs": [],
   "source": [
    "import pandas as pd\n",
    "\n",
    "folder = 'C:/myPyExcel/data/ch08/'       # 엑셀 파일이 있는 디렉터리(폴더)\n",
    "excel_file = folder + '줄넘기_횟수.xlsx' # 원본 엑셀 파일\n",
    "\n",
    "df = pd.read_excel(excel_file)           # 엑셀 파일을 DataFrame 데이터(df)로 읽어 오기\n",
    "df"
   ]
  },
  {
   "cell_type": "code",
   "execution_count": null,
   "metadata": {
    "scrolled": true
   },
   "outputs": [],
   "source": [
    "import matplotlib.pyplot as plt\n",
    "\n",
    "df.plot.box(y=[\"1반\", \"2반\", \"3반\"]) # 박스 그래프\n",
    "# df.plot(kind='box', y=[\"1반\", \"2반\", \"3반\"])도 동일\n",
    "plt.show()"
   ]
  },
  {
   "cell_type": "markdown",
   "metadata": {},
   "source": [
    "**[8장: 500페이지]**"
   ]
  },
  {
   "cell_type": "code",
   "execution_count": null,
   "metadata": {
    "scrolled": true
   },
   "outputs": [],
   "source": [
    "import pandas as pd\n",
    "\n",
    "folder = 'C:/myPyExcel/data/ch08/'       # 엑셀 파일이 있는 디렉터리(폴더)\n",
    "excel_file = folder + '줄넘기_횟수.xlsx' # 원본 엑셀 파일\n",
    "\n",
    "df = pd.read_excel(excel_file, index_col='번호') # DataFrame 데이터(df)로 읽어 오기\n",
    "df"
   ]
  },
  {
   "cell_type": "markdown",
   "metadata": {},
   "source": [
    "**[8장: 501페이지]**"
   ]
  },
  {
   "cell_type": "code",
   "execution_count": null,
   "metadata": {},
   "outputs": [],
   "source": [
    "df.plot.box() # 박스 그래프. df.plot(kind = 'box')도 동일\n",
    "plt.show()"
   ]
  },
  {
   "cell_type": "markdown",
   "metadata": {},
   "source": [
    "**[8장: 502페이지]**"
   ]
  },
  {
   "cell_type": "code",
   "execution_count": null,
   "metadata": {
    "scrolled": true
   },
   "outputs": [],
   "source": [
    "ax = df.plot.box(showmeans=True) # 'showmeans=True' 지정으로 평균을 표시 \n",
    "ax.set_title(\"학급별 줄넘기 횟수 분포\", fontsize=20) # 그래프 제목을 지정\n",
    "plt.show()"
   ]
  },
  {
   "cell_type": "code",
   "execution_count": null,
   "metadata": {},
   "outputs": [],
   "source": [
    "ax = df.plot.box(vert=False) # 'vert=False' 지정으로 수평 박스 그래프 그리기\n",
    "ax.set_title(\"학급별 줄넘기 횟수 분포\", fontsize=20) # 그래프 제목을 지정\n",
    "plt.show()"
   ]
  },
  {
   "cell_type": "markdown",
   "metadata": {},
   "source": [
    "### 그래프를 저장하고 엑셀 파일에 추가하기"
   ]
  },
  {
   "cell_type": "markdown",
   "metadata": {},
   "source": [
    "**[8장: 504페이지]**"
   ]
  },
  {
   "cell_type": "code",
   "execution_count": null,
   "metadata": {},
   "outputs": [],
   "source": [
    "import pandas as pd\n",
    "\n",
    "folder = 'C:/myPyExcel/data/ch08/' # 엑셀 파일이 있는 디렉터리(폴더)\n",
    "csv_file =  folder + '계절별_강수량_추이.csv' # 원본 CSV 파일\n",
    "\n",
    "# CVS 파일 읽기\n",
    "df = pd.read_csv(csv_file, index_col='연도', encoding='utf-8') # 'utf-8'로 인코딩\n",
    "# df = pd.read_csv(csv_file, index_col='연도', encoding='cp949') # 'cp949'로 인코딩\n",
    "df"
   ]
  },
  {
   "cell_type": "markdown",
   "metadata": {},
   "source": [
    "**[8장: 504~505페이지]**"
   ]
  },
  {
   "cell_type": "code",
   "execution_count": null,
   "metadata": {},
   "outputs": [],
   "source": [
    "# 막대 그래프 (누적, 눈금값 회전 각도, 그래프 크기 옵션 지정)\n",
    "ax = df.plot.bar(stacked=True, rot=0, figsize=(10, 5)) \n",
    "\n",
    "ax.set_xlabel(\"연도\", fontsize=15)    # x 라벨을 추가\n",
    "ax.set_ylabel(\"강수량\", fontsize=15)  # y 라벨을 추가\n",
    "ax.set_title(\"계절별 강수량 추이\", fontsize=20) # 그래프 제목을 추가\n",
    "\n",
    "# 그래프를 이미지 파일로 저장\n",
    "plt.savefig(\"C:/myPyExcel/figures/계절별_강수량_추이.png\", dpi=100)\n",
    "plt.show()"
   ]
  },
  {
   "cell_type": "markdown",
   "metadata": {},
   "source": [
    "**[8장: 505페이지]**"
   ]
  },
  {
   "cell_type": "code",
   "execution_count": null,
   "metadata": {},
   "outputs": [],
   "source": [
    "!dir /B \"C:\\myPyExcel\\figures\\계절별_강수량_추이.png\""
   ]
  },
  {
   "cell_type": "markdown",
   "metadata": {},
   "source": [
    "**[8장: 505~506페이지]**"
   ]
  },
  {
   "cell_type": "code",
   "execution_count": null,
   "metadata": {},
   "outputs": [],
   "source": [
    "import pandas as pd\n",
    "\n",
    "folder = 'C:/myPyExcel/data/ch08/' # 엑셀 파일이 있는 디렉터리(폴더)\n",
    "excel_file = folder + '계절별_강수량_추이_데이터_그래프.xlsx' # 생성할 엑셀 파일\n",
    "\n",
    "# 엑셀 파일에 추가할 그래프 이미지 파일\n",
    "image_file = 'C:/myPyExcel/figures/계절별_강수량_추이.png' \n",
    "\n",
    "# (1) ExcelWriter 객체 생성(엔진은 xlsxwriter)\n",
    "excel_writer = pd.ExcelWriter(excel_file, engine='xlsxwriter')\n",
    "\n",
    "# (2) DataFrame 데이터를 지정된 엑셀 워크시트에 쓰기\n",
    "df.to_excel(excel_writer, sheet_name='Sheet1') # index를 포함\n",
    "\n",
    "# (3) ExcelWriter의 객체에서 워크븍(workbook)과 워크시트(worksheet) 객체 생성 \n",
    "workbook  = excel_writer.book  # 워크북 객체 생성\n",
    "worksheet = excel_writer.sheets['Sheet1'] # 워크시트 객체 생성\n",
    "\n",
    "# (4) 워크시트에 이미지가 들어갈 위치를 지정해 이미지 넣기\n",
    "row = 1 # 행 위치\n",
    "col = len(df.columns) + 1 # 열 위치\n",
    "\n",
    "worksheet.insert_image(row, col, image_file, # 이미지 위치(row, col) 지정\n",
    "                       {'x_offset': 15, 'y_offset': 15, # 위치 오프셋을 지정\n",
    "                        'x_scale': 0.5, 'y_scale': 0.5}) # 이미지 크기 조정\n",
    "\n",
    "# (5) ExcelWriter객체를 닫고 엑셀 파일로 저장\n",
    "excel_writer.save()\n",
    "\n",
    "print(\"생성한 엑셀 파일:\", excel_file) # 생성한 파일 이름 출력"
   ]
  },
  {
   "cell_type": "markdown",
   "metadata": {},
   "source": [
    "## 8.4 정리"
   ]
  }
 ],
 "metadata": {
  "kernelspec": {
   "display_name": "Python 3",
   "language": "python",
   "name": "python3"
  },
  "language_info": {
   "codemirror_mode": {
    "name": "ipython",
    "version": 3
   },
   "file_extension": ".py",
   "mimetype": "text/x-python",
   "name": "python",
   "nbconvert_exporter": "python",
   "pygments_lexer": "ipython3",
   "version": "3.8.3"
  },
  "toc": {
   "base_numbering": "8",
   "nav_menu": {},
   "number_sections": false,
   "sideBar": true,
   "skip_h1_title": false,
   "title_cell": "Table of Contents",
   "title_sidebar": "Contents",
   "toc_cell": false,
   "toc_position": {
    "height": "calc(100% - 180px)",
    "left": "10px",
    "top": "150px",
    "width": "351.4px"
   },
   "toc_section_display": true,
   "toc_window_display": false
  }
 },
 "nbformat": 4,
 "nbformat_minor": 2
}
